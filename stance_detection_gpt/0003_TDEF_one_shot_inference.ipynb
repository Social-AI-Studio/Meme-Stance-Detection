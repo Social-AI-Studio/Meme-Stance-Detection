{
  "nbformat": 4,
  "nbformat_minor": 0,
  "metadata": {
    "colab": {
      "provenance": []
    },
    "kernelspec": {
      "name": "python3",
      "display_name": "Python 3"
    },
    "language_info": {
      "name": "python"
    }
  },
  "cells": [
    {
      "cell_type": "markdown",
      "source": [
        "# Import libraries"
      ],
      "metadata": {
        "id": "VmGPPrIgUuOQ"
      }
    },
    {
      "cell_type": "code",
      "execution_count": null,
      "metadata": {
        "id": "fz9w0iKbUgFU"
      },
      "outputs": [],
      "source": [
        "!pip install openai cohere tiktoken typing-extensions==4.5.0\n",
        "\n",
        "from google.colab import userdata\n",
        "\n",
        "import inspect\n",
        "import os\n",
        "import base64\n",
        "import numpy as np\n",
        "import pandas as pd\n",
        "\n",
        "from openai import OpenAI\n",
        "\n",
        "from tenacity import (\n",
        "    retry,\n",
        "    stop_after_attempt,\n",
        "    wait_random_exponential,\n",
        ")\n",
        "\n",
        "from sklearn.metrics import classification_report\n",
        "from sklearn.metrics import f1_score"
      ]
    },
    {
      "cell_type": "markdown",
      "source": [
        "# Mount drive"
      ],
      "metadata": {
        "id": "c2G0hrkUh8H7"
      }
    },
    {
      "cell_type": "code",
      "source": [
        "from google.colab import drive\n",
        "drive.mount('/content/drive')"
      ],
      "metadata": {
        "id": "qd5KX06ljILs"
      },
      "execution_count": null,
      "outputs": []
    },
    {
      "cell_type": "markdown",
      "source": [
        "# Authentication"
      ],
      "metadata": {
        "id": "89Hw0z3qa_Ja"
      }
    },
    {
      "cell_type": "code",
      "source": [
        "OPENAI_API_KEY = userdata.get('OPENAI_API_KEY')\n",
        "client = OpenAI(\n",
        "    api_key=OPENAI_API_KEY,\n",
        ")"
      ],
      "metadata": {
        "id": "-ygIIut5Wjho"
      },
      "execution_count": null,
      "outputs": []
    },
    {
      "cell_type": "markdown",
      "source": [
        "# Import dataset"
      ],
      "metadata": {
        "id": "iwPyumV3gkgE"
      }
    },
    {
      "cell_type": "code",
      "source": [
        "total_defense_memes_test = pd.read_csv('/content/drive/MyDrive/stance_detection_datasets_GPT/total_defense_memes/total_defense_memes_test.csv')\n",
        "total_defense_memes_examples = pd.read_csv('/content/drive/MyDrive/stance_detection_datasets_GPT/total_defense_memes/total_defense_memes_examples.csv')"
      ],
      "metadata": {
        "id": "hq5BAOh9gl1r"
      },
      "execution_count": null,
      "outputs": []
    },
    {
      "cell_type": "markdown",
      "source": [
        "# Define function to add definitions"
      ],
      "metadata": {
        "id": "SfqPWatJLpmv"
      }
    },
    {
      "cell_type": "code",
      "source": [
        "def definition(x):\n",
        "    if x == 'Military Defence':\n",
        "        return \"\"\"Singapore's Military Defence: Strong and formidable defence force made up of Regulars and National Servicemen, and supported by the entire Singapore.\"\"\"\n",
        "    elif x == 'Civil Defence':\n",
        "        return \"\"\"Singapore's Civil Defence: Collective effort of the Singaporean society to spot signs of threats, respond effectively and recover quickly from crisis.\"\"\"\n",
        "    elif x == 'Economic Defence':\n",
        "        return \"\"\"Singapore's Economic Defence: Strong and resilient Singaporean economy that is globally competitive and able to bounce back from any crisis.\"\"\"\n",
        "    elif x == 'Social Defence':\n",
        "        return \"\"\"Singapore's Social Defence: Bonds that unite Singaporeans, built on trust and understanding among people of different races and religions, living in harmony and looking out for one another.\"\"\"\n",
        "    elif x == 'Psychological Defence':\n",
        "        return \"\"\"Singapore's Psychological Defence: The will and resolve to defend the Singaporean way of life and interests, the fighting spirit to overcome challenges together.\"\"\"\n",
        "    elif x == 'Digital Defence':\n",
        "        return \"\"\"Singapore's Digital Defence: Being secure, alert and responsible online.\"\"\""
      ],
      "metadata": {
        "id": "Q0oSuzodLp7H"
      },
      "execution_count": null,
      "outputs": []
    },
    {
      "cell_type": "code",
      "source": [
        "total_defense_memes_test['pillar_w_definition'] = total_defense_memes_test['pillar'].apply(lambda x: definition(x))\n",
        "total_defense_memes_examples['pillar_w_definition'] = total_defense_memes_examples['pillar'].apply(lambda x: definition(x))"
      ],
      "metadata": {
        "id": "9mal87ndLs_O"
      },
      "execution_count": null,
      "outputs": []
    },
    {
      "cell_type": "markdown",
      "source": [
        "# Define function to remap labels"
      ],
      "metadata": {
        "id": "Sg8lx-S26U4s"
      }
    },
    {
      "cell_type": "code",
      "source": [
        "def remap_labels(x):\n",
        "    if x == 'Against':\n",
        "        return 'bad'\n",
        "    elif x == 'Neutral':\n",
        "        return 'neutral'\n",
        "    elif  x == 'Supportive':\n",
        "        return 'good'"
      ],
      "metadata": {
        "id": "INwpgR__6YQN"
      },
      "execution_count": null,
      "outputs": []
    },
    {
      "cell_type": "code",
      "source": [
        "total_defense_memes_examples['stance'] = total_defense_memes_examples['stance'].apply(lambda x: remap_labels(x))"
      ],
      "metadata": {
        "id": "4hsOtsmW6twz"
      },
      "execution_count": null,
      "outputs": []
    },
    {
      "cell_type": "markdown",
      "source": [
        "# Define function to clean responses"
      ],
      "metadata": {
        "id": "E-KfN8IhPgkg"
      }
    },
    {
      "cell_type": "code",
      "source": [
        "def remap(x):\n",
        "    x = x.lower()\n",
        "    if x == 'bad':\n",
        "        return 'Against'\n",
        "    elif x == 'neutral':\n",
        "        return 'Neutral'\n",
        "    elif  x == 'good':\n",
        "        return 'Supportive'\n",
        "    else:\n",
        "        return None"
      ],
      "metadata": {
        "id": "ak52TBE4PguA"
      },
      "execution_count": null,
      "outputs": []
    },
    {
      "cell_type": "markdown",
      "source": [
        "# Set prompts"
      ],
      "metadata": {
        "id": "RcDrKCASgmKz"
      }
    },
    {
      "cell_type": "code",
      "source": [
        "def prompt_one_shot_examples(pillar, pillar_w_definition):\n",
        "    return inspect.cleandoc(f\"\"\"\n",
        "    {pillar_w_definition}\n",
        "    Indicate whether this meme is bad, neutral or good towards Singapore's {pillar}.\"\"\")"
      ],
      "metadata": {
        "id": "Po-nnNpFL9dX"
      },
      "execution_count": null,
      "outputs": []
    },
    {
      "cell_type": "code",
      "source": [
        "def prompt_question(pillar, pillar_w_definition):\n",
        "    return inspect.cleandoc(f\"\"\"\n",
        "    {pillar_w_definition}\n",
        "    Indicate whether this meme is bad, neutral or good towards Singapore's {pillar}.\n",
        "    Constraint: Without using any other words, answer either bad, neutral, good.\"\"\")"
      ],
      "metadata": {
        "id": "5XclExX9lN6Q"
      },
      "execution_count": null,
      "outputs": []
    },
    {
      "cell_type": "markdown",
      "source": [
        "# Define a function to generate text using the `gpt-4-vision-preview` model"
      ],
      "metadata": {
        "id": "vsOT8_FtbJTB"
      }
    },
    {
      "cell_type": "code",
      "source": [
        "# Function to encode the image. via\n",
        "# https://platform.openai.com/docs/guides/vision\n",
        "def encode_image(image_path):\n",
        "    with open(image_path, \"rb\") as image_file:\n",
        "        return base64.b64encode(image_file.read()).decode('utf-8')"
      ],
      "metadata": {
        "id": "s6GLvMxZJQ7u"
      },
      "execution_count": null,
      "outputs": []
    },
    {
      "cell_type": "code",
      "source": [
        "# Prevent rate limit errors. via\n",
        "# https://github.com/openai/openai-cookbook/blob/main/examples/\n",
        "# How_to_handle_rate_limits.ipynb\n",
        "@retry(wait=wait_random_exponential(min=1, max=60), stop=stop_after_attempt(6))\n",
        "# Call the OPENAI API. via\n",
        "# https://platform.openai.com/docs/guides/vision\n",
        "def prediction(image, pillar, pillar_w_definition, examples):\n",
        "    if pillar == 'Economic Defence' or pillar == 'Social Defence':\n",
        "        examples = total_defense_memes_examples.loc[total_defense_memes_examples['pillar'] == pillar]\n",
        "        supportive = total_defense_memes_examples.loc[total_defense_memes_examples['stance'] == 'good']\n",
        "        examples = pd.concat([examples, supportive.sample(n=1)], axis=0)\n",
        "        examples = examples.groupby('stance').sample(n=1).reset_index(drop=True)\n",
        "        examples = examples.set_index('stance').reindex(['bad', 'neutral', 'good']).reset_index()\n",
        "    else:\n",
        "        examples = total_defense_memes_examples.loc[total_defense_memes_examples['pillar'] == pillar]\n",
        "        examples = examples.groupby('stance').sample(n=1).reset_index(drop=True)\n",
        "        examples = examples.set_index('stance').reindex(['bad', 'neutral', 'good']).reset_index()\n",
        "    completion = client.chat.completions.create(\n",
        "    model=\"gpt-4-vision-preview\",\n",
        "    messages=[\n",
        "        {\n",
        "        \"role\": \"user\",\n",
        "        \"content\": [\n",
        "            {\"type\": \"text\", \"text\": prompt_one_shot_examples(examples['pillar'].iloc[0], examples['pillar_w_definition'].iloc[0])},\n",
        "            {\n",
        "            \"type\": \"image_url\",\n",
        "            \"image_url\": {\n",
        "                \"url\": f\"data:image/jpeg;base64,{encode_image(examples['image'].iloc[0])}\",\n",
        "            },\n",
        "            },\n",
        "        ],\n",
        "        },\n",
        "        {\n",
        "        \"role\": \"assistant\",\n",
        "        \"content\": [\n",
        "            {\"type\": \"text\", \"text\": examples['stance'].iloc[0]},\n",
        "        ],\n",
        "        },\n",
        "        {\n",
        "        \"role\": \"user\",\n",
        "        \"content\": [\n",
        "            {\"type\": \"text\", \"text\": prompt_one_shot_examples(examples['pillar'].iloc[1], examples['pillar_w_definition'].iloc[1])},\n",
        "            {\n",
        "            \"type\": \"image_url\",\n",
        "            \"image_url\": {\n",
        "                \"url\": f\"data:image/jpeg;base64,{encode_image(examples['image'].iloc[1])}\",\n",
        "            },\n",
        "            },\n",
        "        ],\n",
        "        },\n",
        "        {\n",
        "        \"role\": \"assistant\",\n",
        "        \"content\": [\n",
        "            {\"type\": \"text\", \"text\": examples['stance'].iloc[1]},\n",
        "        ],\n",
        "        },\n",
        "        {\n",
        "        \"role\": \"user\",\n",
        "        \"content\": [\n",
        "            {\"type\": \"text\", \"text\": prompt_one_shot_examples(examples['pillar'].iloc[2], examples['pillar_w_definition'].iloc[2])},\n",
        "            {\n",
        "            \"type\": \"image_url\",\n",
        "            \"image_url\": {\n",
        "                \"url\": f\"data:image/jpeg;base64,{encode_image(examples['image'].iloc[2])}\",\n",
        "            },\n",
        "            },\n",
        "        ],\n",
        "        },\n",
        "        {\n",
        "        \"role\": \"assistant\",\n",
        "        \"content\": [\n",
        "            {\"type\": \"text\", \"text\": examples['stance'].iloc[2]},\n",
        "        ],\n",
        "        },\n",
        "        {\n",
        "        \"role\": \"user\",\n",
        "        \"content\": [\n",
        "            {\"type\": \"text\", \"text\": prompt_question(pillar, pillar_w_definition)},\n",
        "            {\n",
        "            \"type\": \"image_url\",\n",
        "            \"image_url\": {\n",
        "                \"url\": f\"data:image/jpeg;base64,{encode_image(image)}\",\n",
        "            },\n",
        "            },\n",
        "        ],\n",
        "        }\n",
        "    ],\n",
        "    max_tokens=4096,\n",
        "    temperature=0,\n",
        "    seed=1,\n",
        "    )\n",
        "\n",
        "    return completion.choices[0].message.content, completion.usage.prompt_tokens, completion.usage.completion_tokens, examples.values.tolist()"
      ],
      "metadata": {
        "id": "Z6fwDTZ7bJqS"
      },
      "execution_count": null,
      "outputs": []
    },
    {
      "cell_type": "markdown",
      "source": [
        "# Call the `prediction` function and save inferences"
      ],
      "metadata": {
        "id": "hFZR4ZaIxAq4"
      }
    },
    {
      "cell_type": "code",
      "source": [
        "%%time\n",
        "df_temp = total_defense_memes_test.copy(deep=True)\n",
        "# Create new columns by applying function. via\n",
        "# https://stackoverflow.com/a/52363890\n",
        "df_temp[['prediction', 'prompt_tokens_prediction', 'completion_tokens_prediction', 'examples']] = df_temp.apply(lambda row: prediction(row.image, row.pillar, row.pillar_w_definition, total_defense_memes_examples), axis='columns', result_type='expand')\n",
        "df_temp.to_csv('/content/drive/MyDrive/stance_detection_datasets_GPT/total_defense_memes/total_defense_memes_test_one_shot_inference.csv', index=False)"
      ],
      "metadata": {
        "id": "uXIzyiegG5sz",
        "colab": {
          "base_uri": "https://localhost:8080/"
        },
        "outputId": "ceb137d2-32a9-403a-b656-3ab19873e246"
      },
      "execution_count": null,
      "outputs": [
        {
          "output_type": "stream",
          "name": "stdout",
          "text": [
            "CPU times: user 43.8 s, sys: 4.3 s, total: 48.1 s\n",
            "Wall time: 1h 15min 33s\n"
          ]
        }
      ]
    },
    {
      "cell_type": "code",
      "source": [
        "df_temp['prediction'] = df_temp['prediction'].apply(lambda x: remap(x))\n",
        "print(df_temp['prediction'].value_counts())\n",
        "print(df_temp['prediction'].isna().sum())\n",
        "df_temp['prediction'] = df_temp['prediction'].apply(lambda x: x if x is not None else np.random.choice(['Against', 'Neutral', 'Supportive']))\n",
        "print(f1_score(df_temp['stance'].values, df_temp['prediction'].values, labels=['Against', 'Neutral', 'Supportive'], average='macro'))\n",
        "print(classification_report(df_temp['stance'].values, df_temp['prediction'].values, labels=['Against', 'Neutral', 'Supportive']))"
      ],
      "metadata": {
        "id": "T87R9cWdPpf3",
        "colab": {
          "base_uri": "https://localhost:8080/"
        },
        "outputId": "5f41d65f-b03e-4cec-b004-7610d8d4f8f0"
      },
      "execution_count": null,
      "outputs": [
        {
          "output_type": "stream",
          "name": "stdout",
          "text": [
            "Neutral       390\n",
            "Against       286\n",
            "Supportive     91\n",
            "Name: prediction, dtype: int64\n",
            "4\n",
            "0.6795800454478623\n",
            "              precision    recall  f1-score   support\n",
            "\n",
            "     Against       0.79      0.65      0.71       352\n",
            "     Neutral       0.64      0.76      0.70       332\n",
            "  Supportive       0.61      0.66      0.63        87\n",
            "\n",
            "    accuracy                           0.70       771\n",
            "   macro avg       0.68      0.69      0.68       771\n",
            "weighted avg       0.71      0.70      0.70       771\n",
            "\n"
          ]
        }
      ]
    }
  ]
}