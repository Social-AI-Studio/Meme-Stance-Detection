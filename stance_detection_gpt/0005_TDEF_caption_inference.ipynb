{
  "nbformat": 4,
  "nbformat_minor": 0,
  "metadata": {
    "colab": {
      "provenance": []
    },
    "kernelspec": {
      "name": "python3",
      "display_name": "Python 3"
    },
    "language_info": {
      "name": "python"
    }
  },
  "cells": [
    {
      "cell_type": "markdown",
      "source": [
        "# Import libraries"
      ],
      "metadata": {
        "id": "VmGPPrIgUuOQ"
      }
    },
    {
      "cell_type": "code",
      "execution_count": null,
      "metadata": {
        "id": "fz9w0iKbUgFU"
      },
      "outputs": [],
      "source": [
        "!pip install openai cohere tiktoken typing-extensions==4.5.0\n",
        "\n",
        "from google.colab import userdata\n",
        "\n",
        "import inspect\n",
        "import os\n",
        "import base64\n",
        "import numpy as np\n",
        "import pandas as pd\n",
        "\n",
        "from openai import OpenAI\n",
        "\n",
        "from tenacity import (\n",
        "    retry,\n",
        "    stop_after_attempt,\n",
        "    wait_random_exponential,\n",
        ")\n",
        "\n",
        "from sklearn.metrics import classification_report\n",
        "from sklearn.metrics import f1_score"
      ]
    },
    {
      "cell_type": "markdown",
      "source": [
        "# Mount drive"
      ],
      "metadata": {
        "id": "c2G0hrkUh8H7"
      }
    },
    {
      "cell_type": "code",
      "source": [
        "from google.colab import drive\n",
        "drive.mount('/content/drive')"
      ],
      "metadata": {
        "id": "qd5KX06ljILs"
      },
      "execution_count": null,
      "outputs": []
    },
    {
      "cell_type": "markdown",
      "source": [
        "# Authentication"
      ],
      "metadata": {
        "id": "89Hw0z3qa_Ja"
      }
    },
    {
      "cell_type": "code",
      "source": [
        "OPENAI_API_KEY = userdata.get('OPENAI_API_KEY')\n",
        "client = OpenAI(\n",
        "    api_key=OPENAI_API_KEY,\n",
        ")"
      ],
      "metadata": {
        "id": "-ygIIut5Wjho"
      },
      "execution_count": null,
      "outputs": []
    },
    {
      "cell_type": "markdown",
      "source": [
        "# Import dataset"
      ],
      "metadata": {
        "id": "iwPyumV3gkgE"
      }
    },
    {
      "cell_type": "code",
      "source": [
        "total_defense_memes_test = pd.read_csv('/content/drive/MyDrive/stance_detection_datasets_GPT/total_defense_memes/total_defense_memes_test.csv')"
      ],
      "metadata": {
        "id": "hq5BAOh9gl1r"
      },
      "execution_count": null,
      "outputs": []
    },
    {
      "cell_type": "markdown",
      "source": [
        "# Define a function to generate text using the `gpt-4-vision-preview` model"
      ],
      "metadata": {
        "id": "vsOT8_FtbJTB"
      }
    },
    {
      "cell_type": "code",
      "source": [
        "# Function to encode the image. via\n",
        "# https://platform.openai.com/docs/guides/vision\n",
        "def encode_image(image_path):\n",
        "    with open(image_path, \"rb\") as image_file:\n",
        "        return base64.b64encode(image_file.read()).decode('utf-8')"
      ],
      "metadata": {
        "id": "s6GLvMxZJQ7u"
      },
      "execution_count": null,
      "outputs": []
    },
    {
      "cell_type": "code",
      "source": [
        "# Prevent rate limit errors. via\n",
        "# https://github.com/openai/openai-cookbook/blob/main/examples/\n",
        "# How_to_handle_rate_limits.ipynb\n",
        "@retry(wait=wait_random_exponential(min=1, max=60), stop=stop_after_attempt(6))\n",
        "# Call the OPENAI API. via\n",
        "# https://platform.openai.com/docs/guides/vision\n",
        "def caption(image):\n",
        "    completion = client.chat.completions.create(\n",
        "    model=\"gpt-4-vision-preview\",\n",
        "    messages=[\n",
        "        {\n",
        "        \"role\": \"user\",\n",
        "        \"content\": [\n",
        "            {\"type\": \"text\", \"text\": 'What does the meme show, in particular text and entities? Describe in english:'},\n",
        "            {\n",
        "            \"type\": \"image_url\",\n",
        "            \"image_url\": {\n",
        "                \"url\": f\"data:image/jpeg;base64,{encode_image(image)}\",\n",
        "            },\n",
        "            },\n",
        "        ],\n",
        "        }\n",
        "    ],\n",
        "    max_tokens=4096,\n",
        "    temperature=0,\n",
        "    seed=1,\n",
        "    )\n",
        "\n",
        "    return completion.choices[0].message.content, completion.usage.prompt_tokens, completion.usage.completion_tokens"
      ],
      "metadata": {
        "id": "Z6fwDTZ7bJqS"
      },
      "execution_count": null,
      "outputs": []
    },
    {
      "cell_type": "markdown",
      "source": [
        "# Call the `caption` function and save inferences"
      ],
      "metadata": {
        "id": "GaiYjAnExQky"
      }
    },
    {
      "cell_type": "code",
      "source": [
        "%%time\n",
        "df_temp = total_defense_memes_test.copy(deep=True)\n",
        "# Create new columns by applying function. via\n",
        "# https://stackoverflow.com/a/52363890\n",
        "df_temp[['caption', 'prompt_tokens_caption', 'completion_tokens_caption']] = df_temp.apply(lambda row: caption(row.image), axis='columns', result_type='expand')\n",
        "df_temp.to_csv('/content/drive/MyDrive/stance_detection_datasets_GPT/total_defense_memes/total_defense_memes_test_caption.csv', index=False)"
      ],
      "metadata": {
        "id": "uXIzyiegG5sz",
        "colab": {
          "base_uri": "https://localhost:8080/"
        },
        "outputId": "c9da408b-e021-4a45-ca75-6d0f45ce4994"
      },
      "execution_count": null,
      "outputs": [
        {
          "output_type": "stream",
          "name": "stdout",
          "text": [
            "CPU times: user 48.7 s, sys: 5.76 s, total: 54.5 s\n",
            "Wall time: 2h 4min 38s\n"
          ]
        }
      ]
    }
  ]
}