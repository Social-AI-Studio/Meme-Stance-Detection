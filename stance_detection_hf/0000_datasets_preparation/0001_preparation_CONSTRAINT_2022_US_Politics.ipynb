{
  "nbformat": 4,
  "nbformat_minor": 0,
  "metadata": {
    "colab": {
      "provenance": []
    },
    "kernelspec": {
      "name": "python3",
      "display_name": "Python 3"
    },
    "language_info": {
      "name": "python"
    }
  },
  "cells": [
    {
      "cell_type": "markdown",
      "source": [
        "# Import libraries"
      ],
      "metadata": {
        "id": "9zBhsaDLidWd"
      }
    },
    {
      "cell_type": "code",
      "source": [
        "!pip install gdown"
      ],
      "metadata": {
        "id": "01ePuYwE_4GG"
      },
      "execution_count": null,
      "outputs": []
    },
    {
      "cell_type": "code",
      "execution_count": null,
      "metadata": {
        "id": "6vE20oX4htw_"
      },
      "outputs": [],
      "source": [
        "import os\n",
        "import gdown\n",
        "import pandas as pd\n",
        "from zipfile import ZipFile"
      ]
    },
    {
      "cell_type": "markdown",
      "source": [
        "# Mount drive"
      ],
      "metadata": {
        "id": "5reHB2xLin48"
      }
    },
    {
      "cell_type": "code",
      "source": [
        "from google.colab import drive\n",
        "drive.mount('/content/drive')"
      ],
      "metadata": {
        "id": "ARVRW6ipimVF"
      },
      "execution_count": null,
      "outputs": []
    },
    {
      "cell_type": "markdown",
      "source": [
        "# Create directory to store data"
      ],
      "metadata": {
        "id": "qvK9DcInitd8"
      }
    },
    {
      "cell_type": "code",
      "source": [
        "os.makedirs('/content/drive/MyDrive/stance_detection_datasets/constraint22_dataset_uspolitics', exist_ok=True)"
      ],
      "metadata": {
        "id": "EJc2t3FmiuOs"
      },
      "execution_count": null,
      "outputs": []
    },
    {
      "cell_type": "markdown",
      "source": [
        "# Download **CONSTRAINT-2022 shared task (US Politics)**"
      ],
      "metadata": {
        "id": "SihRTU2YJvaR"
      }
    },
    {
      "cell_type": "markdown",
      "source": [
        "Shivam Sharma, Tharun Suresh, Atharva Kulkarni, Himanshi Mathur, Preslav Nakov, Md. Shad Akhtar, and Tanmoy Chakraborty. 2022. Findings of the CONSTRAINT 2022 Shared Task on Detecting the Hero, the Villain, and the Victim in Memes. In *Proceedings of the Workshop on Combating Online Hostile Posts in Regional Languages during Emergency Situations*, pages 1–11, Dublin, Ireland. Association for Computational Linguistics."
      ],
      "metadata": {
        "id": "9mQwtyS-jaPU"
      }
    },
    {
      "cell_type": "code",
      "source": [
        "# Download large file from Google Drive. via\n",
        "# https://github.com/wkentaro/gdown\n",
        "url = 'https://drive.google.com/uc?id=15YcYH_doDyeoHtw1UvVEOzndFXF_gly5'\n",
        "output = '/content/drive/MyDrive/stance_detection_datasets/constraint22_dataset_uspolitics/constraint22_dataset_uspolitics.zip'\n",
        "gdown.download(url, output, quiet=False)"
      ],
      "metadata": {
        "id": "CIUHaI00J77m"
      },
      "execution_count": null,
      "outputs": []
    },
    {
      "cell_type": "code",
      "source": [
        "# Unzip file. via\n",
        "# https://www.geeksforgeeks.org/unzipping-files-in-python/\n",
        "with ZipFile('/content/drive/MyDrive/stance_detection_datasets/constraint22_dataset_uspolitics/constraint22_dataset_uspolitics.zip',\n",
        "             'r') as zObject:\n",
        "    zObject.extractall('/content/drive/MyDrive/stance_detection_datasets/constraint22_dataset_uspolitics/')"
      ],
      "metadata": {
        "id": "2sesIiUTKZ9R"
      },
      "execution_count": null,
      "outputs": []
    },
    {
      "cell_type": "code",
      "source": [
        "os.remove('/content/drive/MyDrive/stance_detection_datasets/constraint22_dataset_uspolitics/constraint22_dataset_uspolitics.zip')"
      ],
      "metadata": {
        "id": "s18px-1WKL99"
      },
      "execution_count": null,
      "outputs": []
    },
    {
      "cell_type": "markdown",
      "source": [
        "# Load **CONSTRAINT-2022 shared task (train set for US Politics)**"
      ],
      "metadata": {
        "id": "O7exNp1QRUcP"
      }
    },
    {
      "cell_type": "code",
      "source": [
        "train = pd.read_json('/content/drive/MyDrive/stance_detection_datasets/constraint22_dataset_uspolitics/annotations_HVV/train.jsonl', lines=True)"
      ],
      "metadata": {
        "id": "2OwBl8HrRaxP"
      },
      "execution_count": null,
      "outputs": []
    },
    {
      "cell_type": "markdown",
      "source": [
        "# Reshape dataframes"
      ],
      "metadata": {
        "id": "ZvZo47AYRisS"
      }
    },
    {
      "cell_type": "code",
      "source": [
        "train = train.explode(['hero']).reset_index(drop=True)\n",
        "train = train.explode(['villain']).reset_index(drop=True)\n",
        "train = train.explode(['victim']).reset_index(drop=True)\n",
        "train = train.explode(['other']).reset_index(drop=True)\n",
        "train = pd.melt(train, id_vars=['OCR', 'image'],\n",
        "                value_vars=['hero', 'villain', 'victim', 'other'],\n",
        "                var_name='role', value_name='entity')\n",
        "train = train.dropna().drop_duplicates().reset_index(drop=True)"
      ],
      "metadata": {
        "id": "w4e9nZhISDub"
      },
      "execution_count": null,
      "outputs": []
    },
    {
      "cell_type": "markdown",
      "source": [
        "# Prefix image names with image directories"
      ],
      "metadata": {
        "id": "Un45eURaUJD6"
      }
    },
    {
      "cell_type": "code",
      "source": [
        "train['image'] = '/content/drive/MyDrive/stance_detection_datasets/constraint22_dataset_uspolitics/images/' + train['image'].astype(str)"
      ],
      "metadata": {
        "id": "44aydjT0UDmC"
      },
      "execution_count": null,
      "outputs": []
    },
    {
      "cell_type": "markdown",
      "source": [
        "# Save dataset in CSV format"
      ],
      "metadata": {
        "id": "vlgdqxNVUUj2"
      }
    },
    {
      "cell_type": "markdown",
      "source": [
        "Because the unseen dataset does not come with gold labels, we use the original *train* dataset as a test dataset."
      ],
      "metadata": {
        "id": "5rSRvW6NUd0O"
      }
    },
    {
      "cell_type": "code",
      "source": [
        "train.to_csv('/content/drive/MyDrive/stance_detection_datasets/constraint22_dataset_uspolitics/constraint22_dataset_uspolitics_test.csv', index=False)"
      ],
      "metadata": {
        "id": "6BsQi8_FUdlU"
      },
      "execution_count": null,
      "outputs": []
    }
  ]
}