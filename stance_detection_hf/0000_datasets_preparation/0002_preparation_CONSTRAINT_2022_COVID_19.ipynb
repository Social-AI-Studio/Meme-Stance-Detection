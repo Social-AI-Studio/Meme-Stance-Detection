{
  "nbformat": 4,
  "nbformat_minor": 0,
  "metadata": {
    "colab": {
      "provenance": []
    },
    "kernelspec": {
      "name": "python3",
      "display_name": "Python 3"
    },
    "language_info": {
      "name": "python"
    }
  },
  "cells": [
    {
      "cell_type": "markdown",
      "source": [
        "# Import libraries"
      ],
      "metadata": {
        "id": "9zBhsaDLidWd"
      }
    },
    {
      "cell_type": "code",
      "source": [
        "!pip install gdown"
      ],
      "metadata": {
        "id": "01ePuYwE_4GG"
      },
      "execution_count": null,
      "outputs": []
    },
    {
      "cell_type": "code",
      "execution_count": null,
      "metadata": {
        "id": "6vE20oX4htw_"
      },
      "outputs": [],
      "source": [
        "import os\n",
        "import gdown\n",
        "import pandas as pd\n",
        "from zipfile import ZipFile"
      ]
    },
    {
      "cell_type": "markdown",
      "source": [
        "# Mount drive"
      ],
      "metadata": {
        "id": "5reHB2xLin48"
      }
    },
    {
      "cell_type": "code",
      "source": [
        "from google.colab import drive\n",
        "drive.mount('/content/drive')"
      ],
      "metadata": {
        "id": "ARVRW6ipimVF"
      },
      "execution_count": null,
      "outputs": []
    },
    {
      "cell_type": "markdown",
      "source": [
        "# Create directory to store data"
      ],
      "metadata": {
        "id": "qvK9DcInitd8"
      }
    },
    {
      "cell_type": "code",
      "source": [
        "os.makedirs('/content/drive/MyDrive/stance_detection_datasets/constrain22_dataset_covid19', exist_ok=True)"
      ],
      "metadata": {
        "id": "EJc2t3FmiuOs"
      },
      "execution_count": null,
      "outputs": []
    },
    {
      "cell_type": "markdown",
      "source": [
        "# Download **CONSTRAINT-2022 shared task (COVID-19)**"
      ],
      "metadata": {
        "id": "SihRTU2YJvaR"
      }
    },
    {
      "cell_type": "markdown",
      "source": [
        "Shivam Sharma, Tharun Suresh, Atharva Kulkarni, Himanshi Mathur, Preslav Nakov, Md. Shad Akhtar, and Tanmoy Chakraborty. 2022. Findings of the CONSTRAINT 2022 Shared Task on Detecting the Hero, the Villain, and the Victim in Memes. In *Proceedings of the Workshop on Combating Online Hostile Posts in Regional Languages during Emergency Situations*, pages 1–11, Dublin, Ireland. Association for Computational Linguistics."
      ],
      "metadata": {
        "id": "9mQwtyS-jaPU"
      }
    },
    {
      "cell_type": "code",
      "source": [
        "# Download large file from Google Drive. via\n",
        "# https://github.com/wkentaro/gdown\n",
        "url = 'https://drive.google.com/uc?id=1LXnEqs4tvc5wiN3AR_iR9WokL5s0d5_K'\n",
        "output = '/content/drive/MyDrive/stance_detection_datasets/constrain22_dataset_covid19/constrain22_dataset_covid19.zip'\n",
        "gdown.download(url, output, quiet=False)"
      ],
      "metadata": {
        "id": "CIUHaI00J77m"
      },
      "execution_count": null,
      "outputs": []
    },
    {
      "cell_type": "code",
      "source": [
        "# Unzip file. via\n",
        "# https://www.geeksforgeeks.org/unzipping-files-in-python/\n",
        "with ZipFile('/content/drive/MyDrive/stance_detection_datasets/constrain22_dataset_covid19/constrain22_dataset_covid19.zip',\n",
        "             'r') as zObject:\n",
        "    zObject.extractall('/content/drive/MyDrive/stance_detection_datasets/constrain22_dataset_covid19/')"
      ],
      "metadata": {
        "id": "2sesIiUTKZ9R"
      },
      "execution_count": null,
      "outputs": []
    },
    {
      "cell_type": "code",
      "source": [
        "os.remove('/content/drive/MyDrive/stance_detection_datasets/constrain22_dataset_covid19/constrain22_dataset_covid19.zip')"
      ],
      "metadata": {
        "id": "s18px-1WKL99"
      },
      "execution_count": null,
      "outputs": []
    },
    {
      "cell_type": "markdown",
      "source": [
        "# Load **CONSTRAINT-2022 shared task (train set for COVID-19)**"
      ],
      "metadata": {
        "id": "HUy26reyWfkc"
      }
    },
    {
      "cell_type": "code",
      "source": [
        "train = pd.read_json('/content/drive/MyDrive/stance_detection_datasets/constrain22_dataset_covid19/annotations_HVV/train.jsonl', lines=True)"
      ],
      "metadata": {
        "id": "AENXKaTWWrlC"
      },
      "execution_count": null,
      "outputs": []
    },
    {
      "cell_type": "markdown",
      "source": [
        "# Reshape dataframes"
      ],
      "metadata": {
        "id": "eNQGZmCcW9Az"
      }
    },
    {
      "cell_type": "code",
      "source": [
        "train = train.explode(['hero']).reset_index(drop=True)\n",
        "train = train.explode(['villain']).reset_index(drop=True)\n",
        "train = train.explode(['victim']).reset_index(drop=True)\n",
        "train = train.explode(['other']).reset_index(drop=True)\n",
        "train = pd.melt(train, id_vars=['OCR', 'image'],\n",
        "                value_vars=['hero', 'villain', 'victim', 'other'],\n",
        "                var_name='role', value_name='entity')\n",
        "train = train.dropna().drop_duplicates().reset_index(drop=True)"
      ],
      "metadata": {
        "id": "w28vly6XW7XT"
      },
      "execution_count": null,
      "outputs": []
    },
    {
      "cell_type": "markdown",
      "source": [
        "# Prefix image names with image directories"
      ],
      "metadata": {
        "id": "kx5_FW8XXAfU"
      }
    },
    {
      "cell_type": "code",
      "source": [
        "train['image'] = '/content/drive/MyDrive/stance_detection_datasets/constrain22_dataset_covid19/images/' + train['image'].astype(str)"
      ],
      "metadata": {
        "id": "zul8CFAhXA-T"
      },
      "execution_count": null,
      "outputs": []
    },
    {
      "cell_type": "markdown",
      "source": [
        "# Save dataset in CSV format"
      ],
      "metadata": {
        "id": "w9AsrxHTXLvy"
      }
    },
    {
      "cell_type": "markdown",
      "source": [
        "Because the unseen dataset does not come with gold labels, we use the original *train* dataset as a test dataset."
      ],
      "metadata": {
        "id": "MfgY2ou_XQ3a"
      }
    },
    {
      "cell_type": "code",
      "source": [
        "train.to_csv('/content/drive/MyDrive/stance_detection_datasets/constrain22_dataset_covid19/constrain22_dataset_covid19_test.csv', index=False)"
      ],
      "metadata": {
        "id": "61vs01FhXRk6"
      },
      "execution_count": null,
      "outputs": []
    }
  ]
}