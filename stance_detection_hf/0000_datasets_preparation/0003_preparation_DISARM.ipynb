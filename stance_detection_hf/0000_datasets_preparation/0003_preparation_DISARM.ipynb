{
  "nbformat": 4,
  "nbformat_minor": 0,
  "metadata": {
    "colab": {
      "provenance": []
    },
    "kernelspec": {
      "name": "python3",
      "display_name": "Python 3"
    },
    "language_info": {
      "name": "python"
    }
  },
  "cells": [
    {
      "cell_type": "markdown",
      "source": [
        "# Import libraries"
      ],
      "metadata": {
        "id": "9zBhsaDLidWd"
      }
    },
    {
      "cell_type": "code",
      "source": [
        "!pip install gdown"
      ],
      "metadata": {
        "id": "01ePuYwE_4GG"
      },
      "execution_count": null,
      "outputs": []
    },
    {
      "cell_type": "code",
      "execution_count": null,
      "metadata": {
        "id": "6vE20oX4htw_"
      },
      "outputs": [],
      "source": [
        "import os\n",
        "import gdown\n",
        "import pandas as pd\n",
        "import urllib.request\n",
        "from zipfile import ZipFile"
      ]
    },
    {
      "cell_type": "markdown",
      "source": [
        "# Mount drive"
      ],
      "metadata": {
        "id": "5reHB2xLin48"
      }
    },
    {
      "cell_type": "code",
      "source": [
        "from google.colab import drive\n",
        "drive.mount('/content/drive')"
      ],
      "metadata": {
        "id": "ARVRW6ipimVF"
      },
      "execution_count": null,
      "outputs": []
    },
    {
      "cell_type": "markdown",
      "source": [
        "# Create directories to store data"
      ],
      "metadata": {
        "id": "qvK9DcInitd8"
      }
    },
    {
      "cell_type": "code",
      "source": [
        "os.makedirs('/content/drive/MyDrive/stance_detection_datasets/Harmeme_HarmP_Data', exist_ok=True)\n",
        "os.makedirs('/content/drive/MyDrive/stance_detection_datasets/DISARM', exist_ok=True)"
      ],
      "metadata": {
        "id": "EJc2t3FmiuOs"
      },
      "execution_count": null,
      "outputs": []
    },
    {
      "cell_type": "markdown",
      "source": [
        "# Download **HarMeme Dataset**"
      ],
      "metadata": {
        "id": "SihRTU2YJvaR"
      }
    },
    {
      "cell_type": "markdown",
      "source": [
        "Shraman Pramanick, Shivam Sharma, Dimitar Dimitrov, Md. Shad Akhtar, Preslav Nakov, and Tanmoy Chakraborty. 2021. MOMENTA: A Multimodal Framework for Detecting Harmful Memes and Their Targets. In *Findings of the Association for Computational Linguistics: EMNLP 2021*, pages 4439–4455, Punta Cana, Dominican Republic. Association for Computational Linguistics."
      ],
      "metadata": {
        "id": "9mQwtyS-jaPU"
      }
    },
    {
      "cell_type": "code",
      "source": [
        "# Download large file from Google Drive. via\n",
        "# https://github.com/wkentaro/gdown\n",
        "url = 'https://drive.google.com/uc?id=1fw850yxKNqzpRpQKH88D13yfrwX1MLde'\n",
        "output = '/content/drive/MyDrive/stance_detection_datasets/Harmeme_HarmP_Data/Harmeme_HarmP_Data.zip'\n",
        "gdown.download(url, output, quiet=False)"
      ],
      "metadata": {
        "id": "CIUHaI00J77m"
      },
      "execution_count": null,
      "outputs": []
    },
    {
      "cell_type": "code",
      "source": [
        "# Unzip file. via\n",
        "# https://www.geeksforgeeks.org/unzipping-files-in-python/\n",
        "with ZipFile('/content/drive/MyDrive/stance_detection_datasets/Harmeme_HarmP_Data/Harmeme_HarmP_Data.zip',\n",
        "             'r') as zObject:\n",
        "    zObject.extractall('/content/drive/MyDrive/stance_detection_datasets/Harmeme_HarmP_Data/')"
      ],
      "metadata": {
        "id": "2sesIiUTKZ9R"
      },
      "execution_count": null,
      "outputs": []
    },
    {
      "cell_type": "code",
      "source": [
        "os.remove('/content/drive/MyDrive/stance_detection_datasets/Harmeme_HarmP_Data/Harmeme_HarmP_Data.zip')"
      ],
      "metadata": {
        "id": "s18px-1WKL99"
      },
      "execution_count": null,
      "outputs": []
    },
    {
      "cell_type": "markdown",
      "source": [
        "# Download **DISARM Dataset**"
      ],
      "metadata": {
        "id": "A8PkMNRYkAr_"
      }
    },
    {
      "cell_type": "markdown",
      "source": [
        "Shivam Sharma, Md Shad Akhtar, Preslav Nakov, and Tanmoy Chakraborty. 2022. DISARM: Detecting the Victims Targeted by Harmful Memes. In *Findings of the Association for Computational Linguistics: NAACL 2022*, pages 1572–1588, Seattle, United States. Association for Computational Linguistics."
      ],
      "metadata": {
        "id": "T2YFKinfkFDh"
      }
    },
    {
      "cell_type": "code",
      "source": [
        "urllib.request.urlretrieve(\n",
        "    'https://raw.githubusercontent.com/shiv6891/DISARM/main/DISARM_Dataset/Test/test_all.jsonl',\n",
        "    '/content/drive/MyDrive/stance_detection_datasets/DISARM/test_all.jsonl')"
      ],
      "metadata": {
        "id": "MS3qXTAGkKzK"
      },
      "execution_count": null,
      "outputs": []
    },
    {
      "cell_type": "markdown",
      "source": [
        "# Load **DISARM Dataset**"
      ],
      "metadata": {
        "id": "ZycpsuW6nbeg"
      }
    },
    {
      "cell_type": "code",
      "source": [
        "test_all = pd.read_json('/content/drive/MyDrive/stance_detection_datasets/DISARM/test_all.jsonl', lines=True)"
      ],
      "metadata": {
        "id": "CHn726iGnbCA"
      },
      "execution_count": null,
      "outputs": []
    },
    {
      "cell_type": "markdown",
      "source": [
        "# Split *text* column"
      ],
      "metadata": {
        "id": "Ud-ne4PaL7li"
      }
    },
    {
      "cell_type": "code",
      "source": [
        "# Split column of lists. via\n",
        "# https://stackoverflow.com/a/50879945\n",
        "test_all = pd.concat([test_all, pd.DataFrame(test_all['text'].to_list(), columns=['extracted_text', 'target'])], axis=1)"
      ],
      "metadata": {
        "id": "xjypv4yFLx1D"
      },
      "execution_count": null,
      "outputs": []
    },
    {
      "cell_type": "markdown",
      "source": [
        "# Unlist *labels* column"
      ],
      "metadata": {
        "id": "iX7AqUVqMZ8T"
      }
    },
    {
      "cell_type": "code",
      "source": [
        "test_all['labels'] = test_all['labels'].apply(lambda x: x[0])"
      ],
      "metadata": {
        "id": "LqhAV-PJp6Po"
      },
      "execution_count": null,
      "outputs": []
    },
    {
      "cell_type": "markdown",
      "source": [
        "# Prefix image names with image directories"
      ],
      "metadata": {
        "id": "p4Ypvetfaeb5"
      }
    },
    {
      "cell_type": "code",
      "source": [
        "test_all['image'] = '/content/drive/MyDrive/stance_detection_datasets/Harmeme_HarmP_Data/data/datasets/memes/defaults/images/' + test_all['image'].astype(str)"
      ],
      "metadata": {
        "id": "FTh2C7nbafip"
      },
      "execution_count": null,
      "outputs": []
    },
    {
      "cell_type": "markdown",
      "source": [
        "# Save dataset in CSV format"
      ],
      "metadata": {
        "id": "jCyd8jfNP9j4"
      }
    },
    {
      "cell_type": "code",
      "source": [
        "test_all.to_csv('/content/drive/MyDrive/stance_detection_datasets/DISARM/DISARM_test_all.csv', index=False)"
      ],
      "metadata": {
        "id": "5vjpmXEeNiAL"
      },
      "execution_count": null,
      "outputs": []
    }
  ]
}