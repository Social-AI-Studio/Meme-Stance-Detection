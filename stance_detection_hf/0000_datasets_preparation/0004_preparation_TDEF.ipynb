{
  "nbformat": 4,
  "nbformat_minor": 0,
  "metadata": {
    "colab": {
      "provenance": []
    },
    "kernelspec": {
      "name": "python3",
      "display_name": "Python 3"
    },
    "language_info": {
      "name": "python"
    }
  },
  "cells": [
    {
      "cell_type": "markdown",
      "source": [
        "# Import libraries"
      ],
      "metadata": {
        "id": "9zBhsaDLidWd"
      }
    },
    {
      "cell_type": "code",
      "source": [
        "!pip install gdown"
      ],
      "metadata": {
        "id": "01ePuYwE_4GG"
      },
      "execution_count": null,
      "outputs": []
    },
    {
      "cell_type": "code",
      "execution_count": null,
      "metadata": {
        "id": "6vE20oX4htw_"
      },
      "outputs": [],
      "source": [
        "import os\n",
        "import gdown\n",
        "import json\n",
        "import pandas as pd\n",
        "import urllib.request\n",
        "from zipfile import ZipFile"
      ]
    },
    {
      "cell_type": "markdown",
      "source": [
        "# Mount drive"
      ],
      "metadata": {
        "id": "5reHB2xLin48"
      }
    },
    {
      "cell_type": "code",
      "source": [
        "from google.colab import drive\n",
        "drive.mount('/content/drive')"
      ],
      "metadata": {
        "id": "ARVRW6ipimVF"
      },
      "execution_count": null,
      "outputs": []
    },
    {
      "cell_type": "markdown",
      "source": [
        "# Create directory to store data"
      ],
      "metadata": {
        "id": "qvK9DcInitd8"
      }
    },
    {
      "cell_type": "code",
      "source": [
        "os.makedirs('/content/drive/MyDrive/stance_detection_datasets/total_defense_memes', exist_ok=True)"
      ],
      "metadata": {
        "id": "EJc2t3FmiuOs"
      },
      "execution_count": null,
      "outputs": []
    },
    {
      "cell_type": "markdown",
      "source": [
        "# Download **TotalDefMeme**"
      ],
      "metadata": {
        "id": "SihRTU2YJvaR"
      }
    },
    {
      "cell_type": "markdown",
      "source": [
        "Nirmalendu Prakash, Ming Shan Hee, and Roy Ka-Wei Lee. 2023. TotalDefMeme: A Multi-Attribute Meme dataset on Total Defence in Singapore. In Proceedings of the 14th Conference on ACM Multimedia Systems (MMSys '23). Association for Computing Machinery, New York, NY, USA, 369–375. https://doi.org/10.1145/3587819.3592545"
      ],
      "metadata": {
        "id": "9mQwtyS-jaPU"
      }
    },
    {
      "cell_type": "code",
      "source": [
        "# Download large file from Google Drive. via\n",
        "# https://github.com/wkentaro/gdown\n",
        "url = 'https://drive.google.com/u/0/uc?id=1oJIh4QQS3Idff2g6bZORstS5uBROjUUz'\n",
        "output = '/content/drive/MyDrive/stance_detection_datasets/total_defense_memes/total_defense_memes.zip'\n",
        "gdown.download(url, output, quiet=False)"
      ],
      "metadata": {
        "id": "CIUHaI00J77m"
      },
      "execution_count": null,
      "outputs": []
    },
    {
      "cell_type": "code",
      "source": [
        "# Unzip file. via\n",
        "# https://www.geeksforgeeks.org/unzipping-files-in-python/\n",
        "with ZipFile('/content/drive/MyDrive/stance_detection_datasets/total_defense_memes/total_defense_memes.zip',\n",
        "             'r') as zObject:\n",
        "    zObject.extractall('/content/drive/MyDrive/stance_detection_datasets/total_defense_memes/')"
      ],
      "metadata": {
        "id": "2sesIiUTKZ9R"
      },
      "execution_count": null,
      "outputs": []
    },
    {
      "cell_type": "code",
      "source": [
        "os.remove('/content/drive/MyDrive/stance_detection_datasets/total_defense_memes/total_defense_memes.zip')"
      ],
      "metadata": {
        "id": "s18px-1WKL99"
      },
      "execution_count": null,
      "outputs": []
    },
    {
      "cell_type": "code",
      "source": [
        "urllib.request.urlretrieve(\n",
        "    'https://raw.githubusercontent.com/Social-AI-Studio/Total-Defense-Memes/main/report/annotation.json',\n",
        "    '/content/drive/MyDrive/stance_detection_datasets/total_defense_memes/total_defense_memes.json')"
      ],
      "metadata": {
        "id": "2OwBl8HrRaxP"
      },
      "execution_count": null,
      "outputs": []
    },
    {
      "cell_type": "markdown",
      "source": [
        "# Load **TotalDefMeme Dataset**"
      ],
      "metadata": {
        "id": "ZvZo47AYRisS"
      }
    },
    {
      "cell_type": "code",
      "source": [
        "data = json.load(open('/content/drive/MyDrive/stance_detection_datasets/total_defense_memes/total_defense_memes.json'))\n",
        "# Build dataframe from list of dictionaries. via\n",
        "# https://stackoverflow.com/a/72327549\n",
        "total_defense_memes = pd.DataFrame.from_dict({k: v for d in data['Pillar_Stances'] for k,v in d.items()}, orient='index')\n",
        "total_defense_memes = total_defense_memes.rename(columns={0: 'first', 1: 'second', 2: 'third'})\n",
        "total_defense_memes['image'] = total_defense_memes.index\n",
        "total_defense_memes = total_defense_memes.reset_index(drop=True)"
      ],
      "metadata": {
        "id": "b-s8Wf9eeoC-"
      },
      "execution_count": null,
      "outputs": []
    },
    {
      "cell_type": "markdown",
      "source": [
        "# Reshape dataset"
      ],
      "metadata": {
        "id": "BR8T3klhe69X"
      }
    },
    {
      "cell_type": "code",
      "source": [
        "total_defense_memes = pd.melt(total_defense_memes, id_vars='image', value_vars=['first', 'second', 'third'], value_name='pillars_and_stances')\n",
        "total_defense_memes = total_defense_memes.drop('variable', axis=1)\n",
        "total_defense_memes = total_defense_memes.dropna().reset_index(drop=True)\n",
        "total_defense_memes[['pillar','stance_list']] = total_defense_memes['pillars_and_stances'].apply(pd.Series)"
      ],
      "metadata": {
        "id": "heeyj7sBeui2"
      },
      "execution_count": null,
      "outputs": []
    },
    {
      "cell_type": "markdown",
      "source": [
        "# Subset rows where all annotators agree"
      ],
      "metadata": {
        "id": "z53fiUGBfI8O"
      }
    },
    {
      "cell_type": "code",
      "source": [
        "# Filter rows where list-column contains a specific set of items. via\n",
        "# https://stackoverflow.com/a/63094115\n",
        "total_defense_memes['joined'] = total_defense_memes['stance_list'].str.join(sep=',')\n",
        "total_defense_memes = total_defense_memes[(total_defense_memes['joined'].isin(['Neutral,Neutral'])) | \\\n",
        "    (total_defense_memes['joined'].isin(['Neutral,Neutral,Neutral'])) | \\\n",
        "    (total_defense_memes['joined'].isin(['Supportive,Supportive'])) | \\\n",
        "    (total_defense_memes['joined'].isin(['Supportive,Supportive,Supportive'])) | \\\n",
        "    (total_defense_memes['joined'].isin(['Against,Against'])) | \\\n",
        "    (total_defense_memes['joined'].isin(['Against,Against,Against']))]\n",
        "total_defense_memes.insert(5, 'stance', total_defense_memes['stance_list'].apply(lambda x: x[0]))\n",
        "total_defense_memes = total_defense_memes.drop('joined', axis=1)\n",
        "total_defense_memes = total_defense_memes.reset_index(drop=True)"
      ],
      "metadata": {
        "id": "9CDSnkH_fHUG"
      },
      "execution_count": null,
      "outputs": []
    },
    {
      "cell_type": "markdown",
      "source": [
        "# Prefix image names with image directories"
      ],
      "metadata": {
        "id": "TpteB6Zyinvg"
      }
    },
    {
      "cell_type": "code",
      "source": [
        "total_defense_memes['image'] = '/content/drive/MyDrive/stance_detection_datasets/total_defense_memes/TD_Memes/' + total_defense_memes['image'].astype(str)"
      ],
      "metadata": {
        "id": "ZOCnLqS9inOv"
      },
      "execution_count": null,
      "outputs": []
    },
    {
      "cell_type": "markdown",
      "source": [
        "# Save dataset in CSV format"
      ],
      "metadata": {
        "id": "vlgdqxNVUUj2"
      }
    },
    {
      "cell_type": "code",
      "source": [
        "total_defense_memes.to_csv('/content/drive/MyDrive/stance_detection_datasets/total_defense_memes/total_defense_memes.csv', index=False)"
      ],
      "metadata": {
        "id": "6BsQi8_FUdlU"
      },
      "execution_count": null,
      "outputs": []
    }
  ]
}