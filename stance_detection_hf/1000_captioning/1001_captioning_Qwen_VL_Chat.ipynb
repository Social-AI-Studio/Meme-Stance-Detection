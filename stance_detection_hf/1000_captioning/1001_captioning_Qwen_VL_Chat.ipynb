{
  "cells": [
    {
      "cell_type": "markdown",
      "source": [
        "# Import libraries"
      ],
      "metadata": {
        "id": "hw_8I5QeMmqK"
      }
    },
    {
      "cell_type": "code",
      "execution_count": null,
      "metadata": {
        "id": "ZqBeYLjotxgQ"
      },
      "outputs": [],
      "source": [
        "!pip install transformers==4.32.0 accelerate tiktoken einops transformers_stream_generator==0.0.4 scipy torchvision pillow tensorboard matplotlib"
      ]
    },
    {
      "cell_type": "code",
      "source": [
        "import os\n",
        "import pandas as pd\n",
        "from transformers import AutoModelForCausalLM, AutoTokenizer\n",
        "from transformers.generation import GenerationConfig\n",
        "import torch\n",
        "torch.manual_seed(1)"
      ],
      "metadata": {
        "id": "PRBlYYjoZHTZ"
      },
      "execution_count": null,
      "outputs": []
    },
    {
      "cell_type": "markdown",
      "source": [
        "# Instantiate model"
      ],
      "metadata": {
        "id": "N0m8GEpXOtW9"
      }
    },
    {
      "cell_type": "code",
      "source": [
        "# Instantiate Qwen-VL-Chat model. via\n",
        "# https://huggingface.co/Qwen/Qwen-VL-Chat\n",
        "tokenizer = AutoTokenizer.from_pretrained(\"Qwen/Qwen-VL-Chat\", trust_remote_code=True)\n",
        "model = AutoModelForCausalLM.from_pretrained(\"Qwen/Qwen-VL-Chat\", device_map=\"cuda\", trust_remote_code=True).eval()"
      ],
      "metadata": {
        "id": "oxkroyd1OuY0"
      },
      "execution_count": null,
      "outputs": []
    },
    {
      "cell_type": "markdown",
      "source": [
        "# Mount drive"
      ],
      "metadata": {
        "id": "gzouBmV4M5iL"
      }
    },
    {
      "cell_type": "code",
      "source": [
        "from google.colab import drive\n",
        "drive.mount('/content/drive')"
      ],
      "metadata": {
        "id": "von6na4lM6-b"
      },
      "execution_count": null,
      "outputs": []
    },
    {
      "cell_type": "markdown",
      "source": [
        "# Create directory to store inferences"
      ],
      "metadata": {
        "id": "xjK-ml8pM-az"
      }
    },
    {
      "cell_type": "code",
      "source": [
        "os.makedirs('/content/drive/MyDrive/stance_detection_datasets/inferences', exist_ok=True)"
      ],
      "metadata": {
        "id": "Rdpr1wTEM-9L"
      },
      "execution_count": null,
      "outputs": []
    },
    {
      "cell_type": "markdown",
      "source": [
        "# Import datasets"
      ],
      "metadata": {
        "id": "TVLgbMRsNror"
      }
    },
    {
      "cell_type": "code",
      "execution_count": null,
      "metadata": {
        "id": "8VesFLoXN2_I"
      },
      "outputs": [],
      "source": [
        "constraint22_dataset_uspolitics_test = pd.read_csv('/content/drive/MyDrive/stance_detection_datasets/constraint22_dataset_uspolitics/constraint22_dataset_uspolitics_test.csv')\n",
        "constrain22_dataset_covid19_test = pd.read_csv('/content/drive/MyDrive/stance_detection_datasets/constrain22_dataset_covid19/constrain22_dataset_covid19_test.csv')\n",
        "DISARM_test_all = pd.read_csv('/content/drive/MyDrive/stance_detection_datasets/DISARM/DISARM_test_all.csv')\n",
        "total_defense_memes = pd.read_csv('/content/drive/MyDrive/stance_detection_datasets/total_defense_memes/total_defense_memes.csv')"
      ]
    },
    {
      "cell_type": "markdown",
      "source": [
        "# Balanced sampling"
      ],
      "metadata": {
        "id": "R6icRsMhNuOL"
      }
    },
    {
      "cell_type": "code",
      "source": [
        "constraint22_dataset_uspolitics_test = constraint22_dataset_uspolitics_test.groupby('role').sample(n=250, random_state=1).reset_index(drop=True)\n",
        "constrain22_dataset_covid19_test = constrain22_dataset_covid19_test.groupby('role').sample(n=190, random_state=1).reset_index(drop=True)"
      ],
      "metadata": {
        "id": "Hp5GP6yiNwhq"
      },
      "execution_count": null,
      "outputs": []
    },
    {
      "cell_type": "markdown",
      "source": [
        "# Select unique images from **total_defense_memes**"
      ],
      "metadata": {
        "id": "Pl3YknrDi9hZ"
      }
    },
    {
      "cell_type": "code",
      "source": [
        "total_defense_memes = total_defense_memes[['image']].drop_duplicates().reset_index(drop=True)"
      ],
      "metadata": {
        "id": "viChPJgtjPKx"
      },
      "execution_count": null,
      "outputs": []
    },
    {
      "cell_type": "markdown",
      "source": [
        "# Set prompt and define a function to call the model"
      ],
      "metadata": {
        "id": "m6ZqSNNeOFm1"
      }
    },
    {
      "cell_type": "code",
      "execution_count": null,
      "metadata": {
        "id": "6BHp6PaOOCfw"
      },
      "outputs": [],
      "source": [
        "# Use Qwen-VL-Chat for the inference. via\n",
        "# https://huggingface.co/Qwen/Qwen-VL-Chat\n",
        "def get_caption(image, entity):\n",
        "    query = tokenizer.from_list_format([\n",
        "        {'image': image},\n",
        "        {'text': f'What does the meme show, in particular text and entities such as {entity}? Describe in english:'},\n",
        "    ])\n",
        "    response, history = model.chat(tokenizer, query=query, history=None)\n",
        "    return response"
      ]
    },
    {
      "cell_type": "code",
      "source": [
        "# Use Qwen-VL-Chat for the inference. via\n",
        "# https://huggingface.co/Qwen/Qwen-VL-Chat\n",
        "def get_caption_TDEF(image):\n",
        "    query = tokenizer.from_list_format([\n",
        "        {'image': image},\n",
        "        {'text': 'What does the meme show, in particular text and entities? Describe in english:'},\n",
        "    ])\n",
        "    response, history = model.chat(tokenizer, query=query, history=None)\n",
        "    return response"
      ],
      "metadata": {
        "id": "uj7AM0Rtko3h"
      },
      "execution_count": null,
      "outputs": []
    },
    {
      "cell_type": "markdown",
      "source": [
        "# Call the `get_caption` and `get_caption_TDEF` functions and save inferences"
      ],
      "metadata": {
        "id": "gL5WFrudQxL1"
      }
    },
    {
      "cell_type": "code",
      "source": [
        "uspolitics_test_images = constraint22_dataset_uspolitics_test['image'].values\n",
        "uspolitics_test_entities = constraint22_dataset_uspolitics_test['entity'].values\n",
        "constraint22_dataset_uspolitics_test['caption'] = [get_caption(image, entity) for image, entity in zip(uspolitics_test_images, uspolitics_test_entities)]\n",
        "constraint22_dataset_uspolitics_test.to_csv('/content/drive/MyDrive/stance_detection_datasets/inferences/constraint22_dataset_uspolitics_test_captioned_Qwen-VL-Chat.csv', index=False)"
      ],
      "metadata": {
        "id": "vFgw1XowtB_7"
      },
      "execution_count": null,
      "outputs": []
    },
    {
      "cell_type": "code",
      "source": [
        "covid19_test_images = constrain22_dataset_covid19_test['image'].values\n",
        "covid19_test_entities = constrain22_dataset_covid19_test['entity'].values\n",
        "constrain22_dataset_covid19_test['caption'] = [get_caption(image, entity) for image, entity in zip(covid19_test_images, covid19_test_entities)]\n",
        "constrain22_dataset_covid19_test.to_csv('/content/drive/MyDrive/stance_detection_datasets/inferences/constrain22_dataset_covid19_test_captioned_Qwen-VL-Chat.csv', index=False)"
      ],
      "metadata": {
        "id": "ZWXBdRSeMDRV"
      },
      "execution_count": null,
      "outputs": []
    },
    {
      "cell_type": "code",
      "source": [
        "DISARM_test_all_images = DISARM_test_all['image'].values\n",
        "DISARM_test_all_entities = DISARM_test_all['target'].values\n",
        "DISARM_test_all['caption'] = [get_caption(image, entity) for image, entity in zip(DISARM_test_all_images, DISARM_test_all_entities)]\n",
        "DISARM_test_all.to_csv('/content/drive/MyDrive/stance_detection_datasets/inferences/DISARM_test_all_captioned_Qwen-VL-Chat.csv', index=False)"
      ],
      "metadata": {
        "id": "vQZ_iY46lkNl"
      },
      "execution_count": null,
      "outputs": []
    },
    {
      "cell_type": "code",
      "source": [
        "total_defense_memes_images = total_defense_memes['image'].values\n",
        "total_defense_memes['caption'] = [get_caption_TDEF(image) for image in total_defense_memes_images]\n",
        "total_defense_memes.to_csv('/content/drive/MyDrive/stance_detection_datasets/inferences/total_defense_memes_captioned_Qwen-VL-Chat.csv', index=False)"
      ],
      "metadata": {
        "id": "1HMuba64kzJx"
      },
      "execution_count": null,
      "outputs": []
    }
  ],
  "metadata": {
    "colab": {
      "machine_shape": "hm",
      "provenance": [],
      "gpuType": "A100"
    },
    "kernelspec": {
      "display_name": "Python 3",
      "name": "python3"
    },
    "language_info": {
      "name": "python"
    },
    "accelerator": "GPU"
  },
  "nbformat": 4,
  "nbformat_minor": 0
}