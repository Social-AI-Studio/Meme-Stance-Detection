{
  "cells": [
    {
      "cell_type": "markdown",
      "source": [
        "# Import libraries"
      ],
      "metadata": {
        "id": "hw_8I5QeMmqK"
      }
    },
    {
      "cell_type": "code",
      "execution_count": null,
      "metadata": {
        "id": "ZqBeYLjotxgQ"
      },
      "outputs": [],
      "source": [
        "!pip install einops timm sentencepiece"
      ]
    },
    {
      "cell_type": "code",
      "source": [
        "import os\n",
        "import pandas as pd\n",
        "import torch\n",
        "from transformers import AutoModel, AutoTokenizer\n",
        "torch.set_grad_enabled(False)"
      ],
      "metadata": {
        "id": "PRBlYYjoZHTZ"
      },
      "execution_count": null,
      "outputs": []
    },
    {
      "cell_type": "markdown",
      "source": [
        "# Instantiate model"
      ],
      "metadata": {
        "id": "N0m8GEpXOtW9"
      }
    },
    {
      "cell_type": "code",
      "source": [
        "# Instantiate InternLM-XComposer model. via\n",
        "# https://github.com/InternLM/InternLM-XComposer\n",
        "model = AutoModel.from_pretrained('internlm/internlm-xcomposer-7b', trust_remote_code=True).cuda().eval()\n",
        "tokenizer = AutoTokenizer.from_pretrained('internlm/internlm-xcomposer-7b', trust_remote_code=True)\n",
        "model.tokenizer = tokenizer"
      ],
      "metadata": {
        "id": "oxkroyd1OuY0"
      },
      "execution_count": null,
      "outputs": []
    },
    {
      "cell_type": "markdown",
      "source": [
        "# Mount drive"
      ],
      "metadata": {
        "id": "gzouBmV4M5iL"
      }
    },
    {
      "cell_type": "code",
      "source": [
        "from google.colab import drive\n",
        "drive.mount('/content/drive')"
      ],
      "metadata": {
        "id": "von6na4lM6-b"
      },
      "execution_count": null,
      "outputs": []
    },
    {
      "cell_type": "markdown",
      "source": [
        "# Create directory to store inferences"
      ],
      "metadata": {
        "id": "xjK-ml8pM-az"
      }
    },
    {
      "cell_type": "code",
      "source": [
        "os.makedirs('/content/drive/MyDrive/stance_detection_datasets/inferences', exist_ok=True)"
      ],
      "metadata": {
        "id": "Rdpr1wTEM-9L"
      },
      "execution_count": null,
      "outputs": []
    },
    {
      "cell_type": "markdown",
      "source": [
        "# Import datasets"
      ],
      "metadata": {
        "id": "TVLgbMRsNror"
      }
    },
    {
      "cell_type": "code",
      "execution_count": null,
      "metadata": {
        "id": "8VesFLoXN2_I"
      },
      "outputs": [],
      "source": [
        "constraint22_dataset_uspolitics_test = pd.read_csv('/content/drive/MyDrive/stance_detection_datasets/constraint22_dataset_uspolitics/constraint22_dataset_uspolitics_test.csv')\n",
        "constrain22_dataset_covid19_test = pd.read_csv('/content/drive/MyDrive/stance_detection_datasets/constrain22_dataset_covid19/constrain22_dataset_covid19_test.csv')\n",
        "DISARM_test_all = pd.read_csv('/content/drive/MyDrive/stance_detection_datasets/DISARM/DISARM_test_all.csv')\n",
        "total_defense_memes = pd.read_csv('/content/drive/MyDrive/stance_detection_datasets/total_defense_memes/total_defense_memes.csv')"
      ]
    },
    {
      "cell_type": "markdown",
      "source": [
        "# Balanced sampling"
      ],
      "metadata": {
        "id": "R6icRsMhNuOL"
      }
    },
    {
      "cell_type": "code",
      "source": [
        "constraint22_dataset_uspolitics_test = constraint22_dataset_uspolitics_test.groupby('role').sample(n=250, random_state=1).reset_index(drop=True)\n",
        "constrain22_dataset_covid19_test = constrain22_dataset_covid19_test.groupby('role').sample(n=190, random_state=1).reset_index(drop=True)"
      ],
      "metadata": {
        "id": "Hp5GP6yiNwhq"
      },
      "execution_count": null,
      "outputs": []
    },
    {
      "cell_type": "markdown",
      "source": [
        "# Select unique images from **total_defense_memes**"
      ],
      "metadata": {
        "id": "LAh5dQMyUdg6"
      }
    },
    {
      "cell_type": "code",
      "source": [
        "total_defense_memes = total_defense_memes[['image']].drop_duplicates().reset_index(drop=True)"
      ],
      "metadata": {
        "id": "WjVmIuTKUe53"
      },
      "execution_count": null,
      "outputs": []
    },
    {
      "cell_type": "markdown",
      "source": [
        "# Set prompt and define a function to call the model"
      ],
      "metadata": {
        "id": "m6ZqSNNeOFm1"
      }
    },
    {
      "cell_type": "code",
      "execution_count": null,
      "metadata": {
        "id": "6BHp6PaOOCfw"
      },
      "outputs": [],
      "source": [
        "# Use InternLM-XComposer for the inference. via\n",
        "# https://github.com/InternLM/InternLM-XComposer\n",
        "def get_caption(image, entity):\n",
        "    text = f'What does the meme show, in particular text and entities such as {entity}? Describe in english:'\n",
        "    response = model.generate(text, image)\n",
        "    return response"
      ]
    },
    {
      "cell_type": "code",
      "source": [
        "# Use InternLM-XComposer for the inference. via\n",
        "# https://github.com/InternLM/InternLM-XComposer\n",
        "def get_caption_TDEF(image):\n",
        "    text = 'What does the meme show, in particular text and entities? Describe in english:'\n",
        "    response = model.generate(text, image)\n",
        "    return response"
      ],
      "metadata": {
        "id": "4JsMdYU7UhUj"
      },
      "execution_count": null,
      "outputs": []
    },
    {
      "cell_type": "markdown",
      "source": [
        "# Call the `get_caption` and `get_caption_TDEF` functions and save inferences"
      ],
      "metadata": {
        "id": "gL5WFrudQxL1"
      }
    },
    {
      "cell_type": "code",
      "source": [
        "uspolitics_test_images = constraint22_dataset_uspolitics_test['image'].values\n",
        "uspolitics_test_entities = constraint22_dataset_uspolitics_test['entity'].values\n",
        "constraint22_dataset_uspolitics_test['caption'] = [get_caption(image, entity) for image, entity in zip(uspolitics_test_images, uspolitics_test_entities)]\n",
        "constraint22_dataset_uspolitics_test.to_csv('/content/drive/MyDrive/stance_detection_datasets/inferences/constraint22_dataset_uspolitics_test_captioned_InternLM-XComposer.csv', index=False)"
      ],
      "metadata": {
        "id": "vFgw1XowtB_7"
      },
      "execution_count": null,
      "outputs": []
    },
    {
      "cell_type": "code",
      "source": [
        "covid19_test_images = constrain22_dataset_covid19_test['image'].values\n",
        "covid19_test_entities = constrain22_dataset_covid19_test['entity'].values\n",
        "constrain22_dataset_covid19_test['caption'] = [get_caption(image, entity) for image, entity in zip(covid19_test_images, covid19_test_entities)]\n",
        "constrain22_dataset_covid19_test.to_csv('/content/drive/MyDrive/stance_detection_datasets/inferences/constrain22_dataset_covid19_test_captioned_InternLM-XComposer.csv', index=False)"
      ],
      "metadata": {
        "id": "PMy9uvC6MprJ"
      },
      "execution_count": null,
      "outputs": []
    },
    {
      "cell_type": "code",
      "source": [
        "DISARM_test_all_images = DISARM_test_all['image'].values\n",
        "DISARM_test_all_entities = DISARM_test_all['target'].values\n",
        "DISARM_test_all['caption'] = [get_caption(image, entity) for image, entity in zip(DISARM_test_all_images, DISARM_test_all_entities)]\n",
        "DISARM_test_all.to_csv('/content/drive/MyDrive/stance_detection_datasets/inferences/DISARM_test_all_captioned_InternLM-XComposer.csv', index=False)"
      ],
      "metadata": {
        "id": "vQZ_iY46lkNl"
      },
      "execution_count": null,
      "outputs": []
    },
    {
      "cell_type": "code",
      "source": [
        "total_defense_memes_images = total_defense_memes['image'].values\n",
        "total_defense_memes['caption'] = [get_caption_TDEF(image) for image in total_defense_memes_images]\n",
        "total_defense_memes.to_csv('/content/drive/MyDrive/stance_detection_datasets/inferences/total_defense_memes_captioned_InternLM-XComposer.csv', index=False)"
      ],
      "metadata": {
        "id": "oq4g2EcjUp5i"
      },
      "execution_count": null,
      "outputs": []
    }
  ],
  "metadata": {
    "colab": {
      "machine_shape": "hm",
      "provenance": [],
      "gpuType": "A100"
    },
    "kernelspec": {
      "display_name": "Python 3",
      "name": "python3"
    },
    "language_info": {
      "name": "python"
    },
    "accelerator": "GPU"
  },
  "nbformat": 4,
  "nbformat_minor": 0
}