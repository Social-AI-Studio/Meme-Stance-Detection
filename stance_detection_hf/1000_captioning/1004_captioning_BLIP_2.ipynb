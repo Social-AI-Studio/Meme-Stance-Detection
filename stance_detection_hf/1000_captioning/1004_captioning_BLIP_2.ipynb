{
  "cells": [
    {
      "cell_type": "markdown",
      "source": [
        "# Import libraries"
      ],
      "metadata": {
        "id": "hw_8I5QeMmqK"
      }
    },
    {
      "cell_type": "code",
      "execution_count": null,
      "metadata": {
        "id": "ZqBeYLjotxgQ"
      },
      "outputs": [],
      "source": [
        "!pip install bitsandbytes>=0.39.0 accelerate>=0.20.0\n",
        "!pip install transformers"
      ]
    },
    {
      "cell_type": "code",
      "source": [
        "import os\n",
        "import pandas as pd\n",
        "from PIL import Image\n",
        "from transformers import Blip2Processor, Blip2ForConditionalGeneration"
      ],
      "metadata": {
        "id": "PRBlYYjoZHTZ"
      },
      "execution_count": null,
      "outputs": []
    },
    {
      "cell_type": "markdown",
      "source": [
        "# Instantiate model"
      ],
      "metadata": {
        "id": "N0m8GEpXOtW9"
      }
    },
    {
      "cell_type": "code",
      "source": [
        "# Instantiate BLIP-2 model. via\n",
        "# https://huggingface.co/Salesforce/blip2-flan-t5-xxl\n",
        "processor = Blip2Processor.from_pretrained(\"Salesforce/blip2-flan-t5-xxl\")\n",
        "model = Blip2ForConditionalGeneration.from_pretrained(\"Salesforce/blip2-flan-t5-xxl\", device_map=\"auto\", load_in_8bit=True)"
      ],
      "metadata": {
        "id": "oxkroyd1OuY0"
      },
      "execution_count": null,
      "outputs": []
    },
    {
      "cell_type": "markdown",
      "source": [
        "# Mount drive"
      ],
      "metadata": {
        "id": "gzouBmV4M5iL"
      }
    },
    {
      "cell_type": "code",
      "source": [
        "from google.colab import drive\n",
        "drive.mount('/content/drive')"
      ],
      "metadata": {
        "id": "von6na4lM6-b"
      },
      "execution_count": null,
      "outputs": []
    },
    {
      "cell_type": "markdown",
      "source": [
        "# Create directory to store inferences"
      ],
      "metadata": {
        "id": "xjK-ml8pM-az"
      }
    },
    {
      "cell_type": "code",
      "source": [
        "os.makedirs('/content/drive/MyDrive/stance_detection_datasets/inferences', exist_ok=True)"
      ],
      "metadata": {
        "id": "Rdpr1wTEM-9L"
      },
      "execution_count": null,
      "outputs": []
    },
    {
      "cell_type": "markdown",
      "source": [
        "# Import datasets"
      ],
      "metadata": {
        "id": "TVLgbMRsNror"
      }
    },
    {
      "cell_type": "code",
      "execution_count": null,
      "metadata": {
        "id": "8VesFLoXN2_I"
      },
      "outputs": [],
      "source": [
        "constraint22_dataset_uspolitics_test = pd.read_csv('/content/drive/MyDrive/stance_detection_datasets/constraint22_dataset_uspolitics/constraint22_dataset_uspolitics_test.csv')\n",
        "constrain22_dataset_covid19_test = pd.read_csv('/content/drive/MyDrive/stance_detection_datasets/constrain22_dataset_covid19/constrain22_dataset_covid19_test.csv')\n",
        "DISARM_test_all = pd.read_csv('/content/drive/MyDrive/stance_detection_datasets/DISARM/DISARM_test_all.csv')\n",
        "total_defense_memes = pd.read_csv('/content/drive/MyDrive/stance_detection_datasets/total_defense_memes/total_defense_memes.csv')"
      ]
    },
    {
      "cell_type": "markdown",
      "source": [
        "# Balanced sampling"
      ],
      "metadata": {
        "id": "R6icRsMhNuOL"
      }
    },
    {
      "cell_type": "code",
      "source": [
        "constraint22_dataset_uspolitics_test = constraint22_dataset_uspolitics_test.groupby('role').sample(n=250, random_state=1).reset_index(drop=True)\n",
        "constrain22_dataset_covid19_test = constrain22_dataset_covid19_test.groupby('role').sample(n=190, random_state=1).reset_index(drop=True)"
      ],
      "metadata": {
        "id": "Hp5GP6yiNwhq"
      },
      "execution_count": null,
      "outputs": []
    },
    {
      "cell_type": "markdown",
      "source": [
        "# Select unique images from **total_defense_memes**"
      ],
      "metadata": {
        "id": "r6W8UVaXVfFp"
      }
    },
    {
      "cell_type": "code",
      "source": [
        "total_defense_memes = total_defense_memes[['image']].drop_duplicates().reset_index(drop=True)"
      ],
      "metadata": {
        "id": "x_ObPFfoVgQA"
      },
      "execution_count": null,
      "outputs": []
    },
    {
      "cell_type": "markdown",
      "source": [
        "# Set prompt and define a function to call the model"
      ],
      "metadata": {
        "id": "m6ZqSNNeOFm1"
      }
    },
    {
      "cell_type": "code",
      "execution_count": null,
      "metadata": {
        "id": "6BHp6PaOOCfw"
      },
      "outputs": [],
      "source": [
        "# Use BLIP-2 for the inference. via\n",
        "# https://huggingface.co/Salesforce/blip2-flan-t5-xxl\n",
        "def get_caption(image, entity):\n",
        "    prompt = f'What does the meme show, in particular text and entities such as {entity}? Describe in english:'\n",
        "    raw_image = Image.open(image).convert('RGB')\n",
        "    inputs = processor(raw_image, prompt, return_tensors=\"pt\").to(\"cuda\")\n",
        "    out = model.generate(**inputs, max_new_tokens=30)\n",
        "    return processor.decode(out[0], skip_special_tokens=True)"
      ]
    },
    {
      "cell_type": "code",
      "source": [
        "# Use BLIP-2 for the inference. via\n",
        "# https://huggingface.co/Salesforce/blip2-flan-t5-xxl\n",
        "def get_caption_TDEF(image):\n",
        "    prompt = 'What does the meme show, in particular text and entities? Describe in english:'\n",
        "    raw_image = Image.open(image).convert('RGB')\n",
        "    inputs = processor(raw_image, prompt, return_tensors=\"pt\").to(\"cuda\")\n",
        "    out = model.generate(**inputs, max_new_tokens=30)\n",
        "    return processor.decode(out[0], skip_special_tokens=True)"
      ],
      "metadata": {
        "id": "DSZ8Gsu1VhjA"
      },
      "execution_count": null,
      "outputs": []
    },
    {
      "cell_type": "markdown",
      "source": [
        "# Call the `get_caption` and `get_caption_TDEF` functions and save inferences"
      ],
      "metadata": {
        "id": "gL5WFrudQxL1"
      }
    },
    {
      "cell_type": "code",
      "source": [
        "uspolitics_test_images = constraint22_dataset_uspolitics_test['image'].values\n",
        "uspolitics_test_entities = constraint22_dataset_uspolitics_test['entity'].values\n",
        "constraint22_dataset_uspolitics_test['caption'] = [get_caption(image, entity) for image, entity in zip(uspolitics_test_images, uspolitics_test_entities)]\n",
        "constraint22_dataset_uspolitics_test.to_csv('/content/drive/MyDrive/stance_detection_datasets/inferences/constraint22_dataset_uspolitics_test_captioned_BLIP-2.csv', index=False)"
      ],
      "metadata": {
        "id": "vFgw1XowtB_7"
      },
      "execution_count": null,
      "outputs": []
    },
    {
      "cell_type": "code",
      "source": [
        "covid19_test_images = constrain22_dataset_covid19_test['image'].values\n",
        "covid19_test_entities = constrain22_dataset_covid19_test['entity'].values\n",
        "constrain22_dataset_covid19_test['caption'] = [get_caption(image, entity) for image, entity in zip(covid19_test_images, covid19_test_entities)]\n",
        "constrain22_dataset_covid19_test.to_csv('/content/drive/MyDrive/stance_detection_datasets/inferences/constrain22_dataset_covid19_test_captioned_BLIP-2.csv', index=False)"
      ],
      "metadata": {
        "id": "ZWXBdRSeMDRV"
      },
      "execution_count": null,
      "outputs": []
    },
    {
      "cell_type": "code",
      "source": [
        "DISARM_test_all_images = DISARM_test_all['image'].values\n",
        "DISARM_test_all_entities = DISARM_test_all['target'].values\n",
        "DISARM_test_all['caption'] = [get_caption(image, entity) for image, entity in zip(DISARM_test_all_images, DISARM_test_all_entities)]\n",
        "DISARM_test_all.to_csv('/content/drive/MyDrive/stance_detection_datasets/inferences/DISARM_test_all_captioned_BLIP-2.csv', index=False)"
      ],
      "metadata": {
        "id": "vQZ_iY46lkNl"
      },
      "execution_count": null,
      "outputs": []
    },
    {
      "cell_type": "code",
      "source": [
        "total_defense_memes_images = total_defense_memes['image'].values\n",
        "total_defense_memes['caption'] = [get_caption_TDEF(image) for image in total_defense_memes_images]\n",
        "total_defense_memes.to_csv('/content/drive/MyDrive/stance_detection_datasets/inferences/total_defense_memes_captioned_BLIP-2.csv', index=False)"
      ],
      "metadata": {
        "id": "Q6RuRSnXVqYQ"
      },
      "execution_count": null,
      "outputs": []
    }
  ],
  "metadata": {
    "colab": {
      "machine_shape": "hm",
      "provenance": [],
      "gpuType": "A100"
    },
    "kernelspec": {
      "display_name": "Python 3",
      "name": "python3"
    },
    "language_info": {
      "name": "python"
    },
    "accelerator": "GPU"
  },
  "nbformat": 4,
  "nbformat_minor": 0
}