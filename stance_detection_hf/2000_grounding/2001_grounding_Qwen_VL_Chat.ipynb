{
  "cells": [
    {
      "cell_type": "markdown",
      "source": [
        "# Import libraries"
      ],
      "metadata": {
        "id": "hw_8I5QeMmqK"
      }
    },
    {
      "cell_type": "code",
      "execution_count": null,
      "metadata": {
        "id": "ZqBeYLjotxgQ"
      },
      "outputs": [],
      "source": [
        "!pip install transformers==4.32.0 accelerate tiktoken einops transformers_stream_generator==0.0.4 scipy torchvision pillow tensorboard matplotlib"
      ]
    },
    {
      "cell_type": "code",
      "source": [
        "import os\n",
        "import pandas as pd\n",
        "from transformers import AutoModelForCausalLM, AutoTokenizer\n",
        "from transformers.generation import GenerationConfig\n",
        "import torch\n",
        "torch.manual_seed(1)"
      ],
      "metadata": {
        "id": "PRBlYYjoZHTZ"
      },
      "execution_count": null,
      "outputs": []
    },
    {
      "cell_type": "markdown",
      "source": [
        "# Instantiate model"
      ],
      "metadata": {
        "id": "N0m8GEpXOtW9"
      }
    },
    {
      "cell_type": "code",
      "source": [
        "# Instantiate Qwen-VL-Chat model. via\n",
        "# https://huggingface.co/Qwen/Qwen-VL-Chat\n",
        "tokenizer = AutoTokenizer.from_pretrained(\"Qwen/Qwen-VL-Chat\", trust_remote_code=True)\n",
        "model = AutoModelForCausalLM.from_pretrained(\"Qwen/Qwen-VL-Chat\", device_map=\"cuda\", trust_remote_code=True).eval()"
      ],
      "metadata": {
        "id": "oxkroyd1OuY0"
      },
      "execution_count": null,
      "outputs": []
    },
    {
      "cell_type": "markdown",
      "source": [
        "# Mount drive"
      ],
      "metadata": {
        "id": "gzouBmV4M5iL"
      }
    },
    {
      "cell_type": "code",
      "source": [
        "from google.colab import drive\n",
        "drive.mount('/content/drive')"
      ],
      "metadata": {
        "id": "von6na4lM6-b"
      },
      "execution_count": null,
      "outputs": []
    },
    {
      "cell_type": "markdown",
      "source": [
        "# Create directories to store inferences and images"
      ],
      "metadata": {
        "id": "xjK-ml8pM-az"
      }
    },
    {
      "cell_type": "code",
      "source": [
        "os.makedirs('/content/drive/MyDrive/stance_detection_datasets/inferences', exist_ok=True)\n",
        "os.makedirs('/content/drive/MyDrive/stance_detection_datasets/images_with_grounding', exist_ok=True)"
      ],
      "metadata": {
        "id": "Rdpr1wTEM-9L"
      },
      "execution_count": null,
      "outputs": []
    },
    {
      "cell_type": "markdown",
      "source": [
        "# Import datasets"
      ],
      "metadata": {
        "id": "TVLgbMRsNror"
      }
    },
    {
      "cell_type": "code",
      "execution_count": null,
      "metadata": {
        "id": "8VesFLoXN2_I"
      },
      "outputs": [],
      "source": [
        "constraint22_dataset_uspolitics_test = pd.read_csv('/content/drive/MyDrive/stance_detection_datasets/constraint22_dataset_uspolitics/constraint22_dataset_uspolitics_test.csv')\n",
        "constrain22_dataset_covid19_test = pd.read_csv('/content/drive/MyDrive/stance_detection_datasets/constrain22_dataset_covid19/constrain22_dataset_covid19_test.csv')\n",
        "DISARM_test_all = pd.read_csv('/content/drive/MyDrive/stance_detection_datasets/DISARM/DISARM_test_all.csv')"
      ]
    },
    {
      "cell_type": "markdown",
      "source": [
        "# Balanced sampling"
      ],
      "metadata": {
        "id": "R6icRsMhNuOL"
      }
    },
    {
      "cell_type": "code",
      "source": [
        "constraint22_dataset_uspolitics_test = constraint22_dataset_uspolitics_test.groupby('role').sample(n=250, random_state=1).reset_index(drop=True)\n",
        "constrain22_dataset_covid19_test = constrain22_dataset_covid19_test.groupby('role').sample(n=190, random_state=1).reset_index(drop=True)"
      ],
      "metadata": {
        "id": "Hp5GP6yiNwhq"
      },
      "execution_count": null,
      "outputs": []
    },
    {
      "cell_type": "markdown",
      "source": [
        "# Set prompt and define a function to call the model"
      ],
      "metadata": {
        "id": "m6ZqSNNeOFm1"
      }
    },
    {
      "cell_type": "code",
      "execution_count": null,
      "metadata": {
        "id": "6BHp6PaOOCfw"
      },
      "outputs": [],
      "source": [
        "# Use Qwen-VL-Chat for the inference. via\n",
        "# https://huggingface.co/Qwen/Qwen-VL-Chat\n",
        "def draw_bounding_boxes(df, target, prefix):\n",
        "    ct = 0\n",
        "    saved_dir_list = []\n",
        "    for index, row in df.iterrows():\n",
        "        entity = row[target]\n",
        "        query = tokenizer.from_list_format([\n",
        "            {'image': row['image']},\n",
        "            {'text': f'Find {entity} only, with grounding:'},\n",
        "        ])\n",
        "        response, history = model.chat(tokenizer, query=query, history=None)\n",
        "        saved_dir = '/content/drive/MyDrive/stance_detection_datasets/images_with_grounding/' + prefix + str(ct) + '.png'\n",
        "        image_with_grounding = tokenizer.draw_bbox_on_latest_picture(response, history)\n",
        "        if image_with_grounding is not None:\n",
        "            image_with_grounding.save(saved_dir)\n",
        "            saved_dir_list.append(saved_dir)\n",
        "            ct += 1\n",
        "        else:\n",
        "            print('failed')\n",
        "            saved_dir_list.append(row['image'])\n",
        "    df['image_with_grounding'] = saved_dir_list\n",
        "    return df"
      ]
    },
    {
      "cell_type": "markdown",
      "source": [
        "# Call the `draw_bounding_boxes` function and save inferences"
      ],
      "metadata": {
        "id": "gL5WFrudQxL1"
      }
    },
    {
      "cell_type": "code",
      "source": [
        "constraint22_dataset_uspolitics_test = draw_bounding_boxes(constraint22_dataset_uspolitics_test, 'entity', 'constraint22_dataset_uspolitics_test_')\n",
        "constraint22_dataset_uspolitics_test.to_csv('/content/drive/MyDrive/stance_detection_datasets/inferences/constraint22_dataset_uspolitics_test_grounded_Qwen-VL-Chat.csv', index=False)"
      ],
      "metadata": {
        "id": "vFgw1XowtB_7"
      },
      "execution_count": null,
      "outputs": []
    },
    {
      "cell_type": "code",
      "source": [
        "constrain22_dataset_covid19_test = draw_bounding_boxes(constrain22_dataset_covid19_test, 'entity', 'constrain22_dataset_covid19_test_')\n",
        "constrain22_dataset_covid19_test.to_csv('/content/drive/MyDrive/stance_detection_datasets/inferences/constrain22_dataset_covid19_test_grounded_Qwen-VL-Chat.csv', index=False)"
      ],
      "metadata": {
        "id": "ZWXBdRSeMDRV"
      },
      "execution_count": null,
      "outputs": []
    },
    {
      "cell_type": "code",
      "source": [
        "DISARM_test_all = draw_bounding_boxes(DISARM_test_all, 'target', 'DISARM_test_all_')\n",
        "DISARM_test_all.to_csv('/content/drive/MyDrive/stance_detection_datasets/inferences/DISARM_test_all_grounded_Qwen-VL-Chat.csv', index=False)"
      ],
      "metadata": {
        "id": "vQZ_iY46lkNl"
      },
      "execution_count": null,
      "outputs": []
    }
  ],
  "metadata": {
    "colab": {
      "machine_shape": "hm",
      "provenance": [],
      "gpuType": "A100"
    },
    "kernelspec": {
      "display_name": "Python 3",
      "name": "python3"
    },
    "language_info": {
      "name": "python"
    },
    "accelerator": "GPU"
  },
  "nbformat": 4,
  "nbformat_minor": 0
}