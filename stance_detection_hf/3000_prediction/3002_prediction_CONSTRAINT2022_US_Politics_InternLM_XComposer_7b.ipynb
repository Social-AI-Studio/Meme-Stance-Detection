{
  "cells": [
    {
      "cell_type": "markdown",
      "source": [
        "# Import libraries"
      ],
      "metadata": {
        "id": "hw_8I5QeMmqK"
      }
    },
    {
      "cell_type": "code",
      "execution_count": null,
      "metadata": {
        "id": "ZqBeYLjotxgQ"
      },
      "outputs": [],
      "source": [
        "!pip install einops timm sentencepiece"
      ]
    },
    {
      "cell_type": "code",
      "source": [
        "import inspect\n",
        "import os\n",
        "import numpy as np\n",
        "import pandas as pd\n",
        "from sklearn.metrics import classification_report\n",
        "from sklearn.metrics import f1_score\n",
        "import torch\n",
        "from transformers import AutoModel, AutoTokenizer\n",
        "torch.set_grad_enabled(False)"
      ],
      "metadata": {
        "id": "PRBlYYjoZHTZ"
      },
      "execution_count": null,
      "outputs": []
    },
    {
      "cell_type": "markdown",
      "source": [
        "# Instantiate model"
      ],
      "metadata": {
        "id": "N0m8GEpXOtW9"
      }
    },
    {
      "cell_type": "code",
      "source": [
        "# Instantiate InternLM-XComposer model. via\n",
        "# https://github.com/InternLM/InternLM-XComposer\n",
        "model = AutoModel.from_pretrained('internlm/internlm-xcomposer-7b', trust_remote_code=True).cuda().eval()\n",
        "tokenizer = AutoTokenizer.from_pretrained('internlm/internlm-xcomposer-7b', trust_remote_code=True)\n",
        "model.tokenizer = tokenizer"
      ],
      "metadata": {
        "id": "oxkroyd1OuY0"
      },
      "execution_count": null,
      "outputs": []
    },
    {
      "cell_type": "markdown",
      "source": [
        "# Mount drive"
      ],
      "metadata": {
        "id": "gzouBmV4M5iL"
      }
    },
    {
      "cell_type": "code",
      "source": [
        "from google.colab import drive\n",
        "drive.mount('/content/drive')"
      ],
      "metadata": {
        "id": "von6na4lM6-b"
      },
      "execution_count": null,
      "outputs": []
    },
    {
      "cell_type": "markdown",
      "source": [
        "# Create directory to store inferences"
      ],
      "metadata": {
        "id": "xjK-ml8pM-az"
      }
    },
    {
      "cell_type": "code",
      "source": [
        "os.makedirs('/content/drive/MyDrive/stance_detection_datasets/inferences/predictions', exist_ok=True)"
      ],
      "metadata": {
        "id": "Rdpr1wTEM-9L"
      },
      "execution_count": null,
      "outputs": []
    },
    {
      "cell_type": "markdown",
      "source": [
        "# Import datasets"
      ],
      "metadata": {
        "id": "TVLgbMRsNror"
      }
    },
    {
      "cell_type": "markdown",
      "source": [
        "## US-Politics"
      ],
      "metadata": {
        "id": "hcIGtRFQMIOH"
      }
    },
    {
      "cell_type": "code",
      "execution_count": null,
      "metadata": {
        "id": "8VesFLoXN2_I"
      },
      "outputs": [],
      "source": [
        "constraint22_dataset_uspolitics_test_captioned_Qwen_VL_Chat = pd.read_csv('/content/drive/MyDrive/stance_detection_datasets/inferences/constraint22_dataset_uspolitics_test_captioned_Qwen-VL-Chat.csv')\n",
        "constraint22_dataset_uspolitics_test_captioned_InternLM_XComposer = pd.read_csv('/content/drive/MyDrive/stance_detection_datasets/inferences/constraint22_dataset_uspolitics_test_captioned_InternLM-XComposer.csv')\n",
        "constraint22_dataset_uspolitics_test_captioned_llava = pd.read_csv('/content/drive/MyDrive/stance_detection_datasets/inferences/constraint22_dataset_uspolitics_test_captioned_llava-v1.5-13b.csv')\n",
        "constraint22_dataset_uspolitics_test_captioned_BLIP_2 = pd.read_csv('/content/drive/MyDrive/stance_detection_datasets/inferences/constraint22_dataset_uspolitics_test_captioned_BLIP-2.csv')"
      ]
    },
    {
      "cell_type": "code",
      "source": [
        "constraint22_dataset_uspolitics_test_captioned_Qwen_VL_Chat = constraint22_dataset_uspolitics_test_captioned_Qwen_VL_Chat.dropna().reset_index(drop=True)\n",
        "constraint22_dataset_uspolitics_test_captioned_InternLM_XComposer = constraint22_dataset_uspolitics_test_captioned_InternLM_XComposer.dropna().reset_index(drop=True)\n",
        "constraint22_dataset_uspolitics_test_captioned_llava = constraint22_dataset_uspolitics_test_captioned_llava.dropna().reset_index(drop=True)\n",
        "constraint22_dataset_uspolitics_test_captioned_BLIP_2 = constraint22_dataset_uspolitics_test_captioned_BLIP_2.dropna().reset_index(drop=True)"
      ],
      "metadata": {
        "id": "C0ZKotonf8Zb"
      },
      "execution_count": null,
      "outputs": []
    },
    {
      "cell_type": "markdown",
      "source": [
        "# Set prompts and define a function to call the model"
      ],
      "metadata": {
        "id": "m6ZqSNNeOFm1"
      }
    },
    {
      "cell_type": "code",
      "source": [
        "def prompt_vanilla(entity):\n",
        "    return inspect.cleandoc(f\"\"\"\n",
        "    What is the role of {entity} in this meme?\n",
        "    hero: presented in a positive light.\n",
        "    villain: portrayed negatively, e.g., in an association with adverse traits like wickedness, cruelty, hypocrisy, etc.\n",
        "    victim: portrayed as suffering the negative impact of someone else’s actions.\n",
        "    other: not a hero, a villain, or a victim.\n",
        "    Constraint: Without using any other words, answer either hero, villain, victim, other.\"\"\")"
      ],
      "metadata": {
        "id": "J8n5Qo7aJa3X"
      },
      "execution_count": null,
      "outputs": []
    },
    {
      "cell_type": "code",
      "source": [
        "def prompt_with_OCR(entity, OCR):\n",
        "    return inspect.cleandoc(f\"\"\"\n",
        "    Text on this meme: \\\"\\\"\\\"\n",
        "    {OCR}\n",
        "    \\\"\\\"\\\"\n",
        "    What is the role of {entity} in this meme?\n",
        "    hero: presented in a positive light.\n",
        "    villain: portrayed negatively, e.g., in an association with adverse traits like wickedness, cruelty, hypocrisy, etc.\n",
        "    victim: portrayed as suffering the negative impact of someone else’s actions.\n",
        "    other: not a hero, a villain, or a victim.\n",
        "    Constraint: Without using any other words, answer either hero, villain, victim, other.\"\"\")"
      ],
      "metadata": {
        "id": "RDItgC52Jmvf"
      },
      "execution_count": null,
      "outputs": []
    },
    {
      "cell_type": "code",
      "source": [
        "def prompt_with_caption(entity, caption):\n",
        "    return inspect.cleandoc(f\"\"\"\n",
        "    Description of this meme: \\\"\\\"\\\"\n",
        "    {caption}\n",
        "    \\\"\\\"\\\"\n",
        "    What is the role of {entity} in this meme?\n",
        "    hero: presented in a positive light.\n",
        "    villain: portrayed negatively, e.g., in an association with adverse traits like wickedness, cruelty, hypocrisy, etc.\n",
        "    victim: portrayed as suffering the negative impact of someone else’s actions.\n",
        "    other: not a hero, a villain, or a victim.\n",
        "    Constraint: Without using any other words, answer either hero, villain, victim, other.\"\"\")"
      ],
      "metadata": {
        "id": "PfVOUxDKJsSX"
      },
      "execution_count": null,
      "outputs": []
    },
    {
      "cell_type": "code",
      "execution_count": null,
      "metadata": {
        "id": "6BHp6PaOOCfw"
      },
      "outputs": [],
      "source": [
        "# Use InternLM-XComposer for the inference. via\n",
        "# https://github.com/InternLM/InternLM-XComposer\n",
        "def get_prediction(image, prompt):\n",
        "    response = model.generate(prompt, image)\n",
        "    return response"
      ]
    },
    {
      "cell_type": "markdown",
      "source": [
        "# Define function to clean responses"
      ],
      "metadata": {
        "id": "I3g57TQeKsmw"
      }
    },
    {
      "cell_type": "code",
      "source": [
        "def remap(x):\n",
        "    x = x.lower()\n",
        "    if x in {'hero', 'villain', 'victim', 'other'}:\n",
        "        return x\n",
        "    elif 'hero' in x and 'villain' not in x and 'victim' not in x and 'other' not in x and 'not hero' not in x and 'not a hero' not in x:\n",
        "        return 'hero'\n",
        "    elif 'villain' in x and 'hero' not in x and 'victim' not in x and 'other' not in x and 'not villain' not in x and 'not a villain' not in x:\n",
        "        return 'villain'\n",
        "    elif 'victim' in x and 'villain' not in x and 'hero' not in x and 'other' not in x and 'not victim' not in x and 'not a victim' not in x:\n",
        "        return 'victim'\n",
        "    elif 'other' in x and 'villain' not in x and 'victim' not in x and 'hero' not in x and 'not other' not in x and 'not an other' not in x:\n",
        "        return 'other'\n",
        "    else:\n",
        "        return None"
      ],
      "metadata": {
        "id": "Q32y0YwRKwL_"
      },
      "execution_count": null,
      "outputs": []
    },
    {
      "cell_type": "markdown",
      "source": [
        "# Call the `get_prediction` function and save inferences"
      ],
      "metadata": {
        "id": "gL5WFrudQxL1"
      }
    },
    {
      "cell_type": "markdown",
      "source": [
        "GROUNDING [ABSENT] & PROMPT [VANILLA]"
      ],
      "metadata": {
        "id": "-c9f4n6OOOdn"
      }
    },
    {
      "cell_type": "code",
      "source": [
        "uspolitics_test_grounding_absent_prompt_vanilla = constraint22_dataset_uspolitics_test_captioned_Qwen_VL_Chat.copy(deep=True)\n",
        "uspolitics_test_grounding_absent_prompt_vanilla_images = uspolitics_test_grounding_absent_prompt_vanilla['image'].values\n",
        "uspolitics_test_grounding_absent_prompt_vanilla_entities = uspolitics_test_grounding_absent_prompt_vanilla['entity'].values\n",
        "uspolitics_test_grounding_absent_prompt_vanilla['prediction'] = [get_prediction(image, prompt_vanilla(entity)) for image, entity in zip(uspolitics_test_grounding_absent_prompt_vanilla_images, uspolitics_test_grounding_absent_prompt_vanilla_entities)]\n",
        "uspolitics_test_grounding_absent_prompt_vanilla.to_csv('/content/drive/MyDrive/stance_detection_datasets/inferences/predictions/constraint22_dataset_uspolitics_test_grounding[ABSENT]_prompt[VANILLA]_prediction[InternLM-XComposer].csv', index=False)\n",
        "uspolitics_test_grounding_absent_prompt_vanilla['prediction'] = uspolitics_test_grounding_absent_prompt_vanilla['prediction'].apply(lambda x: remap(x))\n",
        "print(uspolitics_test_grounding_absent_prompt_vanilla['prediction'].value_counts())\n",
        "print(uspolitics_test_grounding_absent_prompt_vanilla['prediction'].isna().sum())\n",
        "uspolitics_test_grounding_absent_prompt_vanilla['prediction'] = uspolitics_test_grounding_absent_prompt_vanilla['prediction'].apply(lambda x: x if x is not None else np.random.choice(['hero', 'villain', 'victim', 'other']))\n",
        "print(f1_score(uspolitics_test_grounding_absent_prompt_vanilla['role'].values, uspolitics_test_grounding_absent_prompt_vanilla['prediction'].values, labels=['hero', 'villain', 'victim', 'other'], average='macro'))\n",
        "print(classification_report(uspolitics_test_grounding_absent_prompt_vanilla['role'].values, uspolitics_test_grounding_absent_prompt_vanilla['prediction'].values, labels=['hero', 'villain', 'victim', 'other']))"
      ],
      "metadata": {
        "id": "vFgw1XowtB_7",
        "colab": {
          "base_uri": "https://localhost:8080/"
        },
        "outputId": "e616b01f-12aa-41e5-874b-7253d3c6c91e"
      },
      "execution_count": null,
      "outputs": [
        {
          "output_type": "stream",
          "name": "stdout",
          "text": [
            "victim     375\n",
            "other      268\n",
            "villain    181\n",
            "hero       171\n",
            "Name: prediction, dtype: int64\n",
            "0\n",
            "0.32422961155392843\n",
            "              precision    recall  f1-score   support\n",
            "\n",
            "        hero       0.37      0.26      0.30       246\n",
            "     villain       0.38      0.27      0.32       250\n",
            "      victim       0.35      0.52      0.42       249\n",
            "       other       0.25      0.27      0.26       250\n",
            "\n",
            "    accuracy                           0.33       995\n",
            "   macro avg       0.34      0.33      0.32       995\n",
            "weighted avg       0.34      0.33      0.32       995\n",
            "\n"
          ]
        }
      ]
    },
    {
      "cell_type": "markdown",
      "source": [
        "GROUNDING [ABSENT] & PROMPT [OCR]"
      ],
      "metadata": {
        "id": "0RQFR_yGtKKe"
      }
    },
    {
      "cell_type": "code",
      "source": [
        "uspolitics_test_grounding_absent_prompt_with_OCR = constraint22_dataset_uspolitics_test_captioned_Qwen_VL_Chat.copy(deep=True)\n",
        "uspolitics_test_grounding_absent_prompt_with_OCR_images = uspolitics_test_grounding_absent_prompt_with_OCR['image'].values\n",
        "uspolitics_test_grounding_absent_prompt_with_OCR_entities = uspolitics_test_grounding_absent_prompt_with_OCR['entity'].values\n",
        "uspolitics_test_grounding_absent_prompt_with_OCR_texts = uspolitics_test_grounding_absent_prompt_with_OCR['OCR'].values\n",
        "uspolitics_test_grounding_absent_prompt_with_OCR['prediction'] = [get_prediction(image, prompt_with_OCR(entity, text)) for image, entity, text in zip(uspolitics_test_grounding_absent_prompt_with_OCR_images, uspolitics_test_grounding_absent_prompt_with_OCR_entities, uspolitics_test_grounding_absent_prompt_with_OCR_texts)]\n",
        "uspolitics_test_grounding_absent_prompt_with_OCR.to_csv('/content/drive/MyDrive/stance_detection_datasets/inferences/predictions/constraint22_dataset_uspolitics_test_grounding[ABSENT]_prompt[OCR]_prediction[InternLM-XComposer].csv', index=False)\n",
        "uspolitics_test_grounding_absent_prompt_with_OCR['prediction'] = uspolitics_test_grounding_absent_prompt_with_OCR['prediction'].apply(lambda x: remap(x))\n",
        "print(uspolitics_test_grounding_absent_prompt_with_OCR['prediction'].value_counts())\n",
        "print(uspolitics_test_grounding_absent_prompt_with_OCR['prediction'].isna().sum())\n",
        "uspolitics_test_grounding_absent_prompt_with_OCR['prediction'] = uspolitics_test_grounding_absent_prompt_with_OCR['prediction'].apply(lambda x: x if x is not None else np.random.choice(['hero', 'villain', 'victim', 'other']))\n",
        "print(f1_score(uspolitics_test_grounding_absent_prompt_with_OCR['role'].values, uspolitics_test_grounding_absent_prompt_with_OCR['prediction'].values, labels=['hero', 'villain', 'victim', 'other'], average='macro'))\n",
        "print(classification_report(uspolitics_test_grounding_absent_prompt_with_OCR['role'].values, uspolitics_test_grounding_absent_prompt_with_OCR['prediction'].values, labels=['hero', 'villain', 'victim', 'other']))"
      ],
      "metadata": {
        "id": "l8G9Kp9_V11F",
        "colab": {
          "base_uri": "https://localhost:8080/"
        },
        "outputId": "04e9d0e7-646d-45d9-d996-4abe45fa42e2"
      },
      "execution_count": null,
      "outputs": [
        {
          "output_type": "stream",
          "name": "stdout",
          "text": [
            "victim     721\n",
            "villain    152\n",
            "hero        80\n",
            "other       42\n",
            "Name: prediction, dtype: int64\n",
            "0\n",
            "0.30662418933582747\n",
            "              precision    recall  f1-score   support\n",
            "\n",
            "        hero       0.74      0.24      0.36       246\n",
            "     villain       0.45      0.27      0.34       250\n",
            "      victim       0.31      0.89      0.46       249\n",
            "       other       0.24      0.04      0.07       250\n",
            "\n",
            "    accuracy                           0.36       995\n",
            "   macro avg       0.43      0.36      0.31       995\n",
            "weighted avg       0.43      0.36      0.31       995\n",
            "\n"
          ]
        }
      ]
    },
    {
      "cell_type": "markdown",
      "source": [
        "GROUNDING [ABSENT] & PROMPT [CAPTION] & CAPTION [Qwen_VL_Chat]"
      ],
      "metadata": {
        "id": "3tgRDaJE5OVz"
      }
    },
    {
      "cell_type": "code",
      "source": [
        "uspolitics_test_grounding_absent_prompt_with_caption_Qwen_VL_Chat = constraint22_dataset_uspolitics_test_captioned_Qwen_VL_Chat.copy(deep=True)\n",
        "uspolitics_test_grounding_absent_prompt_with_caption_Qwen_VL_Chat_images = uspolitics_test_grounding_absent_prompt_with_caption_Qwen_VL_Chat['image'].values\n",
        "uspolitics_test_grounding_absent_prompt_with_caption_Qwen_VL_Chat_entities = uspolitics_test_grounding_absent_prompt_with_caption_Qwen_VL_Chat['entity'].values\n",
        "uspolitics_test_grounding_absent_prompt_with_caption_Qwen_VL_Chat_captions = uspolitics_test_grounding_absent_prompt_with_caption_Qwen_VL_Chat['caption'].values\n",
        "uspolitics_test_grounding_absent_prompt_with_caption_Qwen_VL_Chat['prediction'] = [get_prediction(image, prompt_with_caption(entity, caption)) for image, entity, caption in zip(uspolitics_test_grounding_absent_prompt_with_caption_Qwen_VL_Chat_images, uspolitics_test_grounding_absent_prompt_with_caption_Qwen_VL_Chat_entities, uspolitics_test_grounding_absent_prompt_with_caption_Qwen_VL_Chat_captions)]\n",
        "uspolitics_test_grounding_absent_prompt_with_caption_Qwen_VL_Chat.to_csv('/content/drive/MyDrive/stance_detection_datasets/inferences/predictions/constraint22_dataset_uspolitics_test_grounding[ABSENT]_caption[Qwen-VL-Chat]_prompt[CAPTION]_prediction[InternLM-XComposer].csv', index=False)\n",
        "uspolitics_test_grounding_absent_prompt_with_caption_Qwen_VL_Chat['prediction'] = uspolitics_test_grounding_absent_prompt_with_caption_Qwen_VL_Chat['prediction'].apply(lambda x: remap(x))\n",
        "print(uspolitics_test_grounding_absent_prompt_with_caption_Qwen_VL_Chat['prediction'].value_counts())\n",
        "print(uspolitics_test_grounding_absent_prompt_with_caption_Qwen_VL_Chat['prediction'].isna().sum())\n",
        "uspolitics_test_grounding_absent_prompt_with_caption_Qwen_VL_Chat['prediction'] = uspolitics_test_grounding_absent_prompt_with_caption_Qwen_VL_Chat['prediction'].apply(lambda x: x if x is not None else np.random.choice(['hero', 'villain', 'victim', 'other']))\n",
        "print(f1_score(uspolitics_test_grounding_absent_prompt_with_caption_Qwen_VL_Chat['role'].values, uspolitics_test_grounding_absent_prompt_with_caption_Qwen_VL_Chat['prediction'].values, labels=['hero', 'villain', 'victim', 'other'], average='macro'))\n",
        "print(classification_report(uspolitics_test_grounding_absent_prompt_with_caption_Qwen_VL_Chat['role'].values, uspolitics_test_grounding_absent_prompt_with_caption_Qwen_VL_Chat['prediction'].values, labels=['hero', 'villain', 'victim', 'other']))"
      ],
      "metadata": {
        "id": "TQJ1tGEotFFX",
        "colab": {
          "base_uri": "https://localhost:8080/"
        },
        "outputId": "ff7e2b6b-168b-4567-df86-e90120a77a7b"
      },
      "execution_count": null,
      "outputs": [
        {
          "output_type": "stream",
          "name": "stdout",
          "text": [
            "villain    341\n",
            "victim     317\n",
            "other      278\n",
            "hero        59\n",
            "Name: prediction, dtype: int64\n",
            "0\n",
            "0.33460766584259405\n",
            "              precision    recall  f1-score   support\n",
            "\n",
            "        hero       0.64      0.15      0.25       246\n",
            "     villain       0.33      0.45      0.38       250\n",
            "      victim       0.39      0.50      0.44       249\n",
            "       other       0.25      0.28      0.27       250\n",
            "\n",
            "    accuracy                           0.35       995\n",
            "   macro avg       0.41      0.35      0.33       995\n",
            "weighted avg       0.40      0.35      0.33       995\n",
            "\n"
          ]
        }
      ]
    },
    {
      "cell_type": "markdown",
      "source": [
        "GROUNDING [ABSENT] & PROMPT [CAPTION] & CAPTION [InternLM_XComposer]"
      ],
      "metadata": {
        "id": "8eWnRoPz5Tq6"
      }
    },
    {
      "cell_type": "code",
      "source": [
        "uspolitics_test_grounding_absent_prompt_with_caption_InternLM_XComposer = constraint22_dataset_uspolitics_test_captioned_InternLM_XComposer.copy(deep=True)\n",
        "uspolitics_test_grounding_absent_prompt_with_caption_InternLM_XComposer_images = uspolitics_test_grounding_absent_prompt_with_caption_InternLM_XComposer['image'].values\n",
        "uspolitics_test_grounding_absent_prompt_with_caption_InternLM_XComposer_entities = uspolitics_test_grounding_absent_prompt_with_caption_InternLM_XComposer['entity'].values\n",
        "uspolitics_test_grounding_absent_prompt_with_caption_InternLM_XComposer_captions = uspolitics_test_grounding_absent_prompt_with_caption_InternLM_XComposer['caption'].values\n",
        "uspolitics_test_grounding_absent_prompt_with_caption_InternLM_XComposer['prediction'] = [get_prediction(image, prompt_with_caption(entity, caption)) for image, entity, caption in zip(uspolitics_test_grounding_absent_prompt_with_caption_InternLM_XComposer_images, uspolitics_test_grounding_absent_prompt_with_caption_InternLM_XComposer_entities, uspolitics_test_grounding_absent_prompt_with_caption_InternLM_XComposer_captions)]\n",
        "uspolitics_test_grounding_absent_prompt_with_caption_InternLM_XComposer.to_csv('/content/drive/MyDrive/stance_detection_datasets/inferences/predictions/constraint22_dataset_uspolitics_test_grounding[ABSENT]_caption[InternLM-XComposer]_prompt[CAPTION]_prediction[InternLM-XComposer].csv', index=False)\n",
        "uspolitics_test_grounding_absent_prompt_with_caption_InternLM_XComposer['prediction'] = uspolitics_test_grounding_absent_prompt_with_caption_InternLM_XComposer['prediction'].apply(lambda x: remap(x))\n",
        "print(uspolitics_test_grounding_absent_prompt_with_caption_InternLM_XComposer['prediction'].value_counts())\n",
        "print(uspolitics_test_grounding_absent_prompt_with_caption_InternLM_XComposer['prediction'].isna().sum())\n",
        "uspolitics_test_grounding_absent_prompt_with_caption_InternLM_XComposer['prediction'] = uspolitics_test_grounding_absent_prompt_with_caption_InternLM_XComposer['prediction'].apply(lambda x: x if x is not None else np.random.choice(['hero', 'villain', 'victim', 'other']))\n",
        "print(f1_score(uspolitics_test_grounding_absent_prompt_with_caption_InternLM_XComposer['role'].values, uspolitics_test_grounding_absent_prompt_with_caption_InternLM_XComposer['prediction'].values, labels=['hero', 'villain', 'victim', 'other'], average='macro'))\n",
        "print(classification_report(uspolitics_test_grounding_absent_prompt_with_caption_InternLM_XComposer['role'].values, uspolitics_test_grounding_absent_prompt_with_caption_InternLM_XComposer['prediction'].values, labels=['hero', 'villain', 'victim', 'other']))"
      ],
      "metadata": {
        "id": "6CJ-oeaR4rHy",
        "colab": {
          "base_uri": "https://localhost:8080/"
        },
        "outputId": "92627b67-6c4e-41b2-fcc4-873fc558cf60"
      },
      "execution_count": null,
      "outputs": [
        {
          "output_type": "stream",
          "name": "stdout",
          "text": [
            "villain    401\n",
            "victim     340\n",
            "other      156\n",
            "hero        98\n",
            "Name: prediction, dtype: int64\n",
            "0\n",
            "0.38669640754108675\n",
            "              precision    recall  f1-score   support\n",
            "\n",
            "        hero       0.68      0.27      0.39       246\n",
            "     villain       0.38      0.61      0.47       250\n",
            "      victim       0.41      0.56      0.48       249\n",
            "       other       0.28      0.17      0.21       250\n",
            "\n",
            "    accuracy                           0.41       995\n",
            "   macro avg       0.44      0.40      0.39       995\n",
            "weighted avg       0.44      0.41      0.39       995\n",
            "\n"
          ]
        }
      ]
    },
    {
      "cell_type": "markdown",
      "source": [
        "GROUNDING [ABSENT] & PROMPT [CAPTION] & CAPTION [llava]"
      ],
      "metadata": {
        "id": "eBCUJcrvE6JE"
      }
    },
    {
      "cell_type": "code",
      "source": [
        "uspolitics_test_grounding_absent_prompt_with_caption_llava = constraint22_dataset_uspolitics_test_captioned_llava.copy(deep=True)\n",
        "uspolitics_test_grounding_absent_prompt_with_caption_llava_images = uspolitics_test_grounding_absent_prompt_with_caption_llava['image'].values\n",
        "uspolitics_test_grounding_absent_prompt_with_caption_llava_entities = uspolitics_test_grounding_absent_prompt_with_caption_llava['entity'].values\n",
        "uspolitics_test_grounding_absent_prompt_with_caption_llava_captions = uspolitics_test_grounding_absent_prompt_with_caption_llava['caption'].values\n",
        "uspolitics_test_grounding_absent_prompt_with_caption_llava['prediction'] = [get_prediction(image, prompt_with_caption(entity, caption)) for image, entity, caption in zip(uspolitics_test_grounding_absent_prompt_with_caption_llava_images, uspolitics_test_grounding_absent_prompt_with_caption_llava_entities, uspolitics_test_grounding_absent_prompt_with_caption_llava_captions)]\n",
        "uspolitics_test_grounding_absent_prompt_with_caption_llava.to_csv('/content/drive/MyDrive/stance_detection_datasets/inferences/predictions/constraint22_dataset_uspolitics_test_grounding[ABSENT]_caption[llava-v1.5-13b]_prompt[CAPTION]_prediction[InternLM-XComposer].csv', index=False)\n",
        "uspolitics_test_grounding_absent_prompt_with_caption_llava['prediction'] = uspolitics_test_grounding_absent_prompt_with_caption_llava['prediction'].apply(lambda x: remap(x))\n",
        "print(uspolitics_test_grounding_absent_prompt_with_caption_llava['prediction'].value_counts())\n",
        "print(uspolitics_test_grounding_absent_prompt_with_caption_llava['prediction'].isna().sum())\n",
        "uspolitics_test_grounding_absent_prompt_with_caption_llava['prediction'] = uspolitics_test_grounding_absent_prompt_with_caption_llava['prediction'].apply(lambda x: x if x is not None else np.random.choice(['hero', 'villain', 'victim', 'other']))\n",
        "print(f1_score(uspolitics_test_grounding_absent_prompt_with_caption_llava['role'].values, uspolitics_test_grounding_absent_prompt_with_caption_llava['prediction'].values, labels=['hero', 'villain', 'victim', 'other'], average='macro'))\n",
        "print(classification_report(uspolitics_test_grounding_absent_prompt_with_caption_llava['role'].values, uspolitics_test_grounding_absent_prompt_with_caption_llava['prediction'].values, labels=['hero', 'villain', 'victim', 'other']))"
      ],
      "metadata": {
        "id": "u1_OojZKE6TL",
        "colab": {
          "base_uri": "https://localhost:8080/"
        },
        "outputId": "08a6727e-b00f-449d-87b5-a999999c8437"
      },
      "execution_count": null,
      "outputs": [
        {
          "output_type": "stream",
          "name": "stdout",
          "text": [
            "other      383\n",
            "villain    296\n",
            "victim     253\n",
            "hero        63\n",
            "Name: prediction, dtype: int64\n",
            "0\n",
            "0.3419922463754498\n",
            "              precision    recall  f1-score   support\n",
            "\n",
            "        hero       0.65      0.17      0.27       246\n",
            "     villain       0.34      0.40      0.37       250\n",
            "      victim       0.41      0.41      0.41       249\n",
            "       other       0.27      0.41      0.32       250\n",
            "\n",
            "    accuracy                           0.35       995\n",
            "   macro avg       0.42      0.35      0.34       995\n",
            "weighted avg       0.42      0.35      0.34       995\n",
            "\n"
          ]
        }
      ]
    },
    {
      "cell_type": "markdown",
      "source": [
        "GROUNDING [ABSENT] & PROMPT [CAPTION] & CAPTION [BLIP-2]"
      ],
      "metadata": {
        "id": "WUrWOFbPwxi4"
      }
    },
    {
      "cell_type": "code",
      "source": [
        "uspolitics_test_grounding_absent_prompt_with_caption_BLIP_2 = constraint22_dataset_uspolitics_test_captioned_BLIP_2.copy(deep=True)\n",
        "uspolitics_test_grounding_absent_prompt_with_caption_BLIP_2_images = uspolitics_test_grounding_absent_prompt_with_caption_BLIP_2['image'].values\n",
        "uspolitics_test_grounding_absent_prompt_with_caption_BLIP_2_entities = uspolitics_test_grounding_absent_prompt_with_caption_BLIP_2['entity'].values\n",
        "uspolitics_test_grounding_absent_prompt_with_caption_BLIP_2_captions = uspolitics_test_grounding_absent_prompt_with_caption_BLIP_2['caption'].values\n",
        "uspolitics_test_grounding_absent_prompt_with_caption_BLIP_2['prediction'] = [get_prediction(image, prompt_with_caption(entity, caption)) for image, entity, caption in zip(uspolitics_test_grounding_absent_prompt_with_caption_BLIP_2_images, uspolitics_test_grounding_absent_prompt_with_caption_BLIP_2_entities, uspolitics_test_grounding_absent_prompt_with_caption_BLIP_2_captions)]\n",
        "uspolitics_test_grounding_absent_prompt_with_caption_BLIP_2.to_csv('/content/drive/MyDrive/stance_detection_datasets/inferences/predictions/constraint22_dataset_uspolitics_test_grounding[ABSENT]_caption[BLIP_2]_prompt[CAPTION]_prediction[InternLM-XComposer].csv', index=False)\n",
        "uspolitics_test_grounding_absent_prompt_with_caption_BLIP_2['prediction'] = uspolitics_test_grounding_absent_prompt_with_caption_BLIP_2['prediction'].apply(lambda x: remap(x))\n",
        "print(uspolitics_test_grounding_absent_prompt_with_caption_BLIP_2['prediction'].value_counts())\n",
        "print(uspolitics_test_grounding_absent_prompt_with_caption_BLIP_2['prediction'].isna().sum())\n",
        "uspolitics_test_grounding_absent_prompt_with_caption_BLIP_2['prediction'] = uspolitics_test_grounding_absent_prompt_with_caption_BLIP_2['prediction'].apply(lambda x: x if x is not None else np.random.choice(['hero', 'villain', 'victim', 'other']))\n",
        "print(f1_score(uspolitics_test_grounding_absent_prompt_with_caption_BLIP_2['role'].values, uspolitics_test_grounding_absent_prompt_with_caption_BLIP_2['prediction'].values, labels=['hero', 'villain', 'victim', 'other'], average='macro'))\n",
        "print(classification_report(uspolitics_test_grounding_absent_prompt_with_caption_BLIP_2['role'].values, uspolitics_test_grounding_absent_prompt_with_caption_BLIP_2['prediction'].values, labels=['hero', 'villain', 'victim', 'other']))"
      ],
      "metadata": {
        "id": "Rmchm9CpwxQZ",
        "colab": {
          "base_uri": "https://localhost:8080/"
        },
        "outputId": "ca5062d7-499f-4e86-bebc-329eebc24711"
      },
      "execution_count": null,
      "outputs": [
        {
          "output_type": "stream",
          "name": "stdout",
          "text": [
            "other      467\n",
            "victim     251\n",
            "villain    194\n",
            "hero        83\n",
            "Name: prediction, dtype: int64\n",
            "0\n",
            "0.3537726002891141\n",
            "              precision    recall  f1-score   support\n",
            "\n",
            "        hero       0.54      0.18      0.27       246\n",
            "     villain       0.38      0.30      0.33       250\n",
            "      victim       0.44      0.44      0.44       249\n",
            "       other       0.28      0.53      0.37       250\n",
            "\n",
            "    accuracy                           0.36       995\n",
            "   macro avg       0.41      0.36      0.35       995\n",
            "weighted avg       0.41      0.36      0.35       995\n",
            "\n"
          ]
        }
      ]
    }
  ],
  "metadata": {
    "colab": {
      "machine_shape": "hm",
      "provenance": [],
      "gpuType": "A100"
    },
    "kernelspec": {
      "display_name": "Python 3",
      "name": "python3"
    },
    "language_info": {
      "name": "python"
    },
    "accelerator": "GPU"
  },
  "nbformat": 4,
  "nbformat_minor": 0
}