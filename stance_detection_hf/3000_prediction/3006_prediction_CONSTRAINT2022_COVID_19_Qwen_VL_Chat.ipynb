{
  "cells": [
    {
      "cell_type": "markdown",
      "source": [
        "# Import libraries"
      ],
      "metadata": {
        "id": "hw_8I5QeMmqK"
      }
    },
    {
      "cell_type": "code",
      "execution_count": null,
      "metadata": {
        "id": "ZqBeYLjotxgQ"
      },
      "outputs": [],
      "source": [
        "!pip install transformers==4.32.0 accelerate tiktoken einops transformers_stream_generator==0.0.4 scipy torchvision pillow tensorboard matplotlib"
      ]
    },
    {
      "cell_type": "code",
      "source": [
        "import inspect\n",
        "import os\n",
        "import numpy as np\n",
        "import pandas as pd\n",
        "from sklearn.metrics import classification_report\n",
        "from sklearn.metrics import f1_score\n",
        "from transformers import AutoModelForCausalLM, AutoTokenizer\n",
        "from transformers.generation import GenerationConfig\n",
        "import torch\n",
        "torch.manual_seed(1)"
      ],
      "metadata": {
        "id": "PRBlYYjoZHTZ"
      },
      "execution_count": null,
      "outputs": []
    },
    {
      "cell_type": "markdown",
      "source": [
        "# Instantiate model"
      ],
      "metadata": {
        "id": "N0m8GEpXOtW9"
      }
    },
    {
      "cell_type": "code",
      "source": [
        "# Instantiate Qwen-VL-Chat model. via\n",
        "# https://huggingface.co/Qwen/Qwen-VL-Chat\n",
        "tokenizer = AutoTokenizer.from_pretrained(\"Qwen/Qwen-VL-Chat\", trust_remote_code=True)\n",
        "model = AutoModelForCausalLM.from_pretrained(\"Qwen/Qwen-VL-Chat\", device_map=\"cuda\", trust_remote_code=True).eval()"
      ],
      "metadata": {
        "id": "oxkroyd1OuY0"
      },
      "execution_count": null,
      "outputs": []
    },
    {
      "cell_type": "markdown",
      "source": [
        "# Mount drive"
      ],
      "metadata": {
        "id": "gzouBmV4M5iL"
      }
    },
    {
      "cell_type": "code",
      "source": [
        "from google.colab import drive\n",
        "drive.mount('/content/drive')"
      ],
      "metadata": {
        "id": "von6na4lM6-b"
      },
      "execution_count": null,
      "outputs": []
    },
    {
      "cell_type": "markdown",
      "source": [
        "# Create directory to store inferences"
      ],
      "metadata": {
        "id": "xjK-ml8pM-az"
      }
    },
    {
      "cell_type": "code",
      "source": [
        "os.makedirs('/content/drive/MyDrive/stance_detection_datasets/inferences/predictions', exist_ok=True)"
      ],
      "metadata": {
        "id": "Rdpr1wTEM-9L"
      },
      "execution_count": null,
      "outputs": []
    },
    {
      "cell_type": "markdown",
      "source": [
        "# Import datasets"
      ],
      "metadata": {
        "id": "TVLgbMRsNror"
      }
    },
    {
      "cell_type": "markdown",
      "source": [
        "## COVID-19"
      ],
      "metadata": {
        "id": "hcIGtRFQMIOH"
      }
    },
    {
      "cell_type": "code",
      "execution_count": null,
      "metadata": {
        "id": "8VesFLoXN2_I"
      },
      "outputs": [],
      "source": [
        "constraint22_dataset_covid19_test_captioned_Qwen_VL_Chat = pd.read_csv('/content/drive/MyDrive/stance_detection_datasets/inferences/constrain22_dataset_covid19_test_captioned_Qwen-VL-Chat.csv')\n",
        "constraint22_dataset_covid19_test_captioned_InternLM_XComposer = pd.read_csv('/content/drive/MyDrive/stance_detection_datasets/inferences/constrain22_dataset_covid19_test_captioned_InternLM-XComposer.csv')\n",
        "constraint22_dataset_covid19_test_captioned_llava = pd.read_csv('/content/drive/MyDrive/stance_detection_datasets/inferences/constrain22_dataset_covid19_test_captioned_llava-v1.5-13b.csv')\n",
        "constraint22_dataset_covid19_test_captioned_BLIP_2 = pd.read_csv('/content/drive/MyDrive/stance_detection_datasets/inferences/constrain22_dataset_covid19_test_captioned_BLIP-2.csv')"
      ]
    },
    {
      "cell_type": "code",
      "source": [
        "constraint22_dataset_covid19_test_captioned_Qwen_VL_Chat = constraint22_dataset_covid19_test_captioned_Qwen_VL_Chat.dropna().reset_index(drop=True)\n",
        "constraint22_dataset_covid19_test_captioned_InternLM_XComposer = constraint22_dataset_covid19_test_captioned_InternLM_XComposer.dropna().reset_index(drop=True)\n",
        "constraint22_dataset_covid19_test_captioned_llava = constraint22_dataset_covid19_test_captioned_llava.dropna().reset_index(drop=True)\n",
        "constraint22_dataset_covid19_test_captioned_BLIP_2 = constraint22_dataset_covid19_test_captioned_BLIP_2.dropna().reset_index(drop=True)"
      ],
      "metadata": {
        "id": "C0ZKotonf8Zb"
      },
      "execution_count": null,
      "outputs": []
    },
    {
      "cell_type": "markdown",
      "source": [
        "# Set prompts and define a function to call the model"
      ],
      "metadata": {
        "id": "m6ZqSNNeOFm1"
      }
    },
    {
      "cell_type": "code",
      "source": [
        "def prompt_vanilla(entity):\n",
        "    return inspect.cleandoc(f\"\"\"\n",
        "    What is the role of {entity} in this meme?\n",
        "    hero: presented in a positive light.\n",
        "    villain: portrayed negatively, e.g., in an association with adverse traits like wickedness, cruelty, hypocrisy, etc.\n",
        "    victim: portrayed as suffering the negative impact of someone else’s actions.\n",
        "    other: not a hero, a villain, or a victim.\n",
        "    Constraint: Without using any other words, answer either hero, villain, victim, other.\"\"\")"
      ],
      "metadata": {
        "id": "J8n5Qo7aJa3X"
      },
      "execution_count": null,
      "outputs": []
    },
    {
      "cell_type": "code",
      "source": [
        "def prompt_with_OCR(entity, OCR):\n",
        "    return inspect.cleandoc(f\"\"\"\n",
        "    Text on this meme: \\\"\\\"\\\"\n",
        "    {OCR}\n",
        "    \\\"\\\"\\\"\n",
        "    What is the role of {entity} in this meme?\n",
        "    hero: presented in a positive light.\n",
        "    villain: portrayed negatively, e.g., in an association with adverse traits like wickedness, cruelty, hypocrisy, etc.\n",
        "    victim: portrayed as suffering the negative impact of someone else’s actions.\n",
        "    other: not a hero, a villain, or a victim.\n",
        "    Constraint: Without using any other words, answer either hero, villain, victim, other.\"\"\")"
      ],
      "metadata": {
        "id": "RDItgC52Jmvf"
      },
      "execution_count": null,
      "outputs": []
    },
    {
      "cell_type": "code",
      "source": [
        "def prompt_with_caption(entity, caption):\n",
        "    return inspect.cleandoc(f\"\"\"\n",
        "    Description of this meme: \\\"\\\"\\\"\n",
        "    {caption}\n",
        "    \\\"\\\"\\\"\n",
        "    What is the role of {entity} in this meme?\n",
        "    hero: presented in a positive light.\n",
        "    villain: portrayed negatively, e.g., in an association with adverse traits like wickedness, cruelty, hypocrisy, etc.\n",
        "    victim: portrayed as suffering the negative impact of someone else’s actions.\n",
        "    other: not a hero, a villain, or a victim.\n",
        "    Constraint: Without using any other words, answer either hero, villain, victim, other.\"\"\")"
      ],
      "metadata": {
        "id": "PfVOUxDKJsSX"
      },
      "execution_count": null,
      "outputs": []
    },
    {
      "cell_type": "code",
      "execution_count": null,
      "metadata": {
        "id": "6BHp6PaOOCfw"
      },
      "outputs": [],
      "source": [
        "# Use Qwen-VL-Chat for the inference. via\n",
        "# https://huggingface.co/Qwen/Qwen-VL-Chat\n",
        "def get_prediction(image, prompt):\n",
        "    query = tokenizer.from_list_format([\n",
        "        {'image': image},\n",
        "        {'text': prompt},\n",
        "    ])\n",
        "    response, history = model.chat(tokenizer, query=query, history=None)\n",
        "    return response"
      ]
    },
    {
      "cell_type": "markdown",
      "source": [
        "# Define function to clean responses"
      ],
      "metadata": {
        "id": "I3g57TQeKsmw"
      }
    },
    {
      "cell_type": "code",
      "source": [
        "def remap(x):\n",
        "    x = x.lower()\n",
        "    if x in {'hero', 'villain', 'victim', 'other'}:\n",
        "        return x\n",
        "    elif 'hero' in x and 'villain' not in x and 'victim' not in x and 'other' not in x and 'not hero' not in x and 'not a hero' not in x:\n",
        "        return 'hero'\n",
        "    elif 'villain' in x and 'hero' not in x and 'victim' not in x and 'other' not in x and 'not villain' not in x and 'not a villain' not in x:\n",
        "        return 'villain'\n",
        "    elif 'victim' in x and 'villain' not in x and 'hero' not in x and 'other' not in x and 'not victim' not in x and 'not a victim' not in x:\n",
        "        return 'victim'\n",
        "    elif 'other' in x and 'villain' not in x and 'victim' not in x and 'hero' not in x and 'not other' not in x and 'not an other' not in x:\n",
        "        return 'other'\n",
        "    else:\n",
        "        return None"
      ],
      "metadata": {
        "id": "Q32y0YwRKwL_"
      },
      "execution_count": null,
      "outputs": []
    },
    {
      "cell_type": "markdown",
      "source": [
        "# Call the `get_prediction` function and save inferences"
      ],
      "metadata": {
        "id": "gL5WFrudQxL1"
      }
    },
    {
      "cell_type": "markdown",
      "source": [
        "GROUNDING [ABSENT] & PROMPT [VANILLA]"
      ],
      "metadata": {
        "id": "-c9f4n6OOOdn"
      }
    },
    {
      "cell_type": "code",
      "source": [
        "covid19_test_grounding_absent_prompt_vanilla = constraint22_dataset_covid19_test_captioned_Qwen_VL_Chat.copy(deep=True)\n",
        "covid19_test_grounding_absent_prompt_vanilla_images = covid19_test_grounding_absent_prompt_vanilla['image'].values\n",
        "covid19_test_grounding_absent_prompt_vanilla_entities = covid19_test_grounding_absent_prompt_vanilla['entity'].values\n",
        "covid19_test_grounding_absent_prompt_vanilla['prediction'] = [get_prediction(image, prompt_vanilla(entity)) for image, entity in zip(covid19_test_grounding_absent_prompt_vanilla_images, covid19_test_grounding_absent_prompt_vanilla_entities)]\n",
        "covid19_test_grounding_absent_prompt_vanilla.to_csv('/content/drive/MyDrive/stance_detection_datasets/inferences/predictions/constraint22_dataset_covid19_test_grounding[ABSENT]_prompt[VANILLA]_prediction[Qwen-VL-Chat].csv', index=False)\n",
        "covid19_test_grounding_absent_prompt_vanilla['prediction'] = covid19_test_grounding_absent_prompt_vanilla['prediction'].apply(lambda x: remap(x))\n",
        "print(covid19_test_grounding_absent_prompt_vanilla['prediction'].value_counts())\n",
        "print(covid19_test_grounding_absent_prompt_vanilla['prediction'].isna().sum())\n",
        "covid19_test_grounding_absent_prompt_vanilla['prediction'] = covid19_test_grounding_absent_prompt_vanilla['prediction'].apply(lambda x: x if x is not None else np.random.choice(['hero', 'villain', 'victim', 'other']))\n",
        "print(f1_score(covid19_test_grounding_absent_prompt_vanilla['role'].values, covid19_test_grounding_absent_prompt_vanilla['prediction'].values, labels=['hero', 'villain', 'victim', 'other'], average='macro'))\n",
        "print(classification_report(covid19_test_grounding_absent_prompt_vanilla['role'].values, covid19_test_grounding_absent_prompt_vanilla['prediction'].values, labels=['hero', 'villain', 'victim', 'other']))"
      ],
      "metadata": {
        "id": "vFgw1XowtB_7",
        "colab": {
          "base_uri": "https://localhost:8080/"
        },
        "outputId": "46b1e85a-18e5-4ecc-d40d-41b7967d0153"
      },
      "execution_count": null,
      "outputs": [
        {
          "output_type": "stream",
          "name": "stdout",
          "text": [
            "villain    583\n",
            "other      128\n",
            "hero        46\n",
            "Name: prediction, dtype: int64\n",
            "1\n",
            "0.22520177376436729\n",
            "              precision    recall  f1-score   support\n",
            "\n",
            "        hero       0.54      0.13      0.21       189\n",
            "     villain       0.29      0.89      0.44       190\n",
            "      victim       0.00      0.00      0.00       189\n",
            "       other       0.31      0.21      0.25       190\n",
            "\n",
            "    accuracy                           0.31       758\n",
            "   macro avg       0.29      0.31      0.23       758\n",
            "weighted avg       0.29      0.31      0.23       758\n",
            "\n"
          ]
        },
        {
          "output_type": "stream",
          "name": "stderr",
          "text": [
            "/usr/local/lib/python3.10/dist-packages/sklearn/metrics/_classification.py:1344: UndefinedMetricWarning: Precision and F-score are ill-defined and being set to 0.0 in labels with no predicted samples. Use `zero_division` parameter to control this behavior.\n",
            "  _warn_prf(average, modifier, msg_start, len(result))\n",
            "/usr/local/lib/python3.10/dist-packages/sklearn/metrics/_classification.py:1344: UndefinedMetricWarning: Precision and F-score are ill-defined and being set to 0.0 in labels with no predicted samples. Use `zero_division` parameter to control this behavior.\n",
            "  _warn_prf(average, modifier, msg_start, len(result))\n",
            "/usr/local/lib/python3.10/dist-packages/sklearn/metrics/_classification.py:1344: UndefinedMetricWarning: Precision and F-score are ill-defined and being set to 0.0 in labels with no predicted samples. Use `zero_division` parameter to control this behavior.\n",
            "  _warn_prf(average, modifier, msg_start, len(result))\n"
          ]
        }
      ]
    },
    {
      "cell_type": "markdown",
      "source": [
        "GROUNDING [ABSENT] & PROMPT [OCR]"
      ],
      "metadata": {
        "id": "0RQFR_yGtKKe"
      }
    },
    {
      "cell_type": "code",
      "source": [
        "covid19_test_grounding_absent_prompt_with_OCR = constraint22_dataset_covid19_test_captioned_Qwen_VL_Chat.copy(deep=True)\n",
        "covid19_test_grounding_absent_prompt_with_OCR_images = covid19_test_grounding_absent_prompt_with_OCR['image'].values\n",
        "covid19_test_grounding_absent_prompt_with_OCR_entities = covid19_test_grounding_absent_prompt_with_OCR['entity'].values\n",
        "covid19_test_grounding_absent_prompt_with_OCR_texts = covid19_test_grounding_absent_prompt_with_OCR['OCR'].values\n",
        "covid19_test_grounding_absent_prompt_with_OCR['prediction'] = [get_prediction(image, prompt_with_OCR(entity, text)) for image, entity, text in zip(covid19_test_grounding_absent_prompt_with_OCR_images, covid19_test_grounding_absent_prompt_with_OCR_entities, covid19_test_grounding_absent_prompt_with_OCR_texts)]\n",
        "covid19_test_grounding_absent_prompt_with_OCR.to_csv('/content/drive/MyDrive/stance_detection_datasets/inferences/predictions/constraint22_dataset_covid19_test_grounding[ABSENT]_prompt[OCR]_prediction[Qwen-VL-Chat].csv', index=False)\n",
        "covid19_test_grounding_absent_prompt_with_OCR['prediction'] = covid19_test_grounding_absent_prompt_with_OCR['prediction'].apply(lambda x: remap(x))\n",
        "print(covid19_test_grounding_absent_prompt_with_OCR['prediction'].value_counts())\n",
        "print(covid19_test_grounding_absent_prompt_with_OCR['prediction'].isna().sum())\n",
        "covid19_test_grounding_absent_prompt_with_OCR['prediction'] = covid19_test_grounding_absent_prompt_with_OCR['prediction'].apply(lambda x: x if x is not None else np.random.choice(['hero', 'villain', 'victim', 'other']))\n",
        "print(f1_score(covid19_test_grounding_absent_prompt_with_OCR['role'].values, covid19_test_grounding_absent_prompt_with_OCR['prediction'].values, labels=['hero', 'villain', 'victim', 'other'], average='macro'))\n",
        "print(classification_report(covid19_test_grounding_absent_prompt_with_OCR['role'].values, covid19_test_grounding_absent_prompt_with_OCR['prediction'].values, labels=['hero', 'villain', 'victim', 'other']))"
      ],
      "metadata": {
        "id": "l8G9Kp9_V11F",
        "colab": {
          "base_uri": "https://localhost:8080/"
        },
        "outputId": "bd1f9935-c9ae-44e9-e1a8-acd043f27378"
      },
      "execution_count": null,
      "outputs": [
        {
          "output_type": "stream",
          "name": "stdout",
          "text": [
            "villain    427\n",
            "other      173\n",
            "hero       101\n",
            "victim      12\n",
            "Name: prediction, dtype: int64\n",
            "45\n",
            "0.2685482726423903\n",
            "              precision    recall  f1-score   support\n",
            "\n",
            "        hero       0.44      0.28      0.34       189\n",
            "     villain       0.32      0.73      0.44       190\n",
            "      victim       0.38      0.04      0.08       189\n",
            "       other       0.22      0.21      0.21       190\n",
            "\n",
            "    accuracy                           0.32       758\n",
            "   macro avg       0.34      0.31      0.27       758\n",
            "weighted avg       0.34      0.32      0.27       758\n",
            "\n"
          ]
        }
      ]
    },
    {
      "cell_type": "markdown",
      "source": [
        "GROUNDING [ABSENT] & PROMPT [CAPTION] & CAPTION [Qwen_VL_Chat]"
      ],
      "metadata": {
        "id": "3tgRDaJE5OVz"
      }
    },
    {
      "cell_type": "code",
      "source": [
        "covid19_test_grounding_absent_prompt_with_caption_Qwen_VL_Chat = constraint22_dataset_covid19_test_captioned_Qwen_VL_Chat.copy(deep=True)\n",
        "covid19_test_grounding_absent_prompt_with_caption_Qwen_VL_Chat_images = covid19_test_grounding_absent_prompt_with_caption_Qwen_VL_Chat['image'].values\n",
        "covid19_test_grounding_absent_prompt_with_caption_Qwen_VL_Chat_entities = covid19_test_grounding_absent_prompt_with_caption_Qwen_VL_Chat['entity'].values\n",
        "covid19_test_grounding_absent_prompt_with_caption_Qwen_VL_Chat_captions = covid19_test_grounding_absent_prompt_with_caption_Qwen_VL_Chat['caption'].values\n",
        "covid19_test_grounding_absent_prompt_with_caption_Qwen_VL_Chat['prediction'] = [get_prediction(image, prompt_with_caption(entity, caption)) for image, entity, caption in zip(covid19_test_grounding_absent_prompt_with_caption_Qwen_VL_Chat_images, covid19_test_grounding_absent_prompt_with_caption_Qwen_VL_Chat_entities, covid19_test_grounding_absent_prompt_with_caption_Qwen_VL_Chat_captions)]\n",
        "covid19_test_grounding_absent_prompt_with_caption_Qwen_VL_Chat.to_csv('/content/drive/MyDrive/stance_detection_datasets/inferences/predictions/constraint22_dataset_covid19_test_grounding[ABSENT]_caption[Qwen-VL-Chat]_prompt[CAPTION]_prediction[Qwen-VL-Chat].csv', index=False)\n",
        "covid19_test_grounding_absent_prompt_with_caption_Qwen_VL_Chat['prediction'] = covid19_test_grounding_absent_prompt_with_caption_Qwen_VL_Chat['prediction'].apply(lambda x: remap(x))\n",
        "print(covid19_test_grounding_absent_prompt_with_caption_Qwen_VL_Chat['prediction'].value_counts())\n",
        "print(covid19_test_grounding_absent_prompt_with_caption_Qwen_VL_Chat['prediction'].isna().sum())\n",
        "covid19_test_grounding_absent_prompt_with_caption_Qwen_VL_Chat['prediction'] = covid19_test_grounding_absent_prompt_with_caption_Qwen_VL_Chat['prediction'].apply(lambda x: x if x is not None else np.random.choice(['hero', 'villain', 'victim', 'other']))\n",
        "print(f1_score(covid19_test_grounding_absent_prompt_with_caption_Qwen_VL_Chat['role'].values, covid19_test_grounding_absent_prompt_with_caption_Qwen_VL_Chat['prediction'].values, labels=['hero', 'villain', 'victim', 'other'], average='macro'))\n",
        "print(classification_report(covid19_test_grounding_absent_prompt_with_caption_Qwen_VL_Chat['role'].values, covid19_test_grounding_absent_prompt_with_caption_Qwen_VL_Chat['prediction'].values, labels=['hero', 'villain', 'victim', 'other']))"
      ],
      "metadata": {
        "id": "TQJ1tGEotFFX",
        "colab": {
          "base_uri": "https://localhost:8080/"
        },
        "outputId": "f2538372-4063-4774-db44-70f14bdde152"
      },
      "execution_count": null,
      "outputs": [
        {
          "output_type": "stream",
          "name": "stdout",
          "text": [
            "villain    540\n",
            "other      147\n",
            "hero        42\n",
            "victim       7\n",
            "Name: prediction, dtype: int64\n",
            "22\n",
            "0.21703744775639958\n",
            "              precision    recall  f1-score   support\n",
            "\n",
            "        hero       0.57      0.14      0.22       189\n",
            "     villain       0.29      0.82      0.42       190\n",
            "      victim       0.20      0.02      0.03       189\n",
            "       other       0.22      0.17      0.19       190\n",
            "\n",
            "    accuracy                           0.29       758\n",
            "   macro avg       0.32      0.29      0.22       758\n",
            "weighted avg       0.32      0.29      0.22       758\n",
            "\n"
          ]
        }
      ]
    },
    {
      "cell_type": "markdown",
      "source": [
        "GROUNDING [ABSENT] & PROMPT [CAPTION] & CAPTION [InternLM_XComposer]"
      ],
      "metadata": {
        "id": "8eWnRoPz5Tq6"
      }
    },
    {
      "cell_type": "code",
      "source": [
        "covid19_test_grounding_absent_prompt_with_caption_InternLM_XComposer = constraint22_dataset_covid19_test_captioned_InternLM_XComposer.copy(deep=True)\n",
        "covid19_test_grounding_absent_prompt_with_caption_InternLM_XComposer_images = covid19_test_grounding_absent_prompt_with_caption_InternLM_XComposer['image'].values\n",
        "covid19_test_grounding_absent_prompt_with_caption_InternLM_XComposer_entities = covid19_test_grounding_absent_prompt_with_caption_InternLM_XComposer['entity'].values\n",
        "covid19_test_grounding_absent_prompt_with_caption_InternLM_XComposer_captions = covid19_test_grounding_absent_prompt_with_caption_InternLM_XComposer['caption'].values\n",
        "covid19_test_grounding_absent_prompt_with_caption_InternLM_XComposer['prediction'] = [get_prediction(image, prompt_with_caption(entity, caption)) for image, entity, caption in zip(covid19_test_grounding_absent_prompt_with_caption_InternLM_XComposer_images, covid19_test_grounding_absent_prompt_with_caption_InternLM_XComposer_entities, covid19_test_grounding_absent_prompt_with_caption_InternLM_XComposer_captions)]\n",
        "covid19_test_grounding_absent_prompt_with_caption_InternLM_XComposer.to_csv('/content/drive/MyDrive/stance_detection_datasets/inferences/predictions/constraint22_dataset_covid19_test_grounding[ABSENT]_caption[InternLM-XComposer]_prompt[CAPTION]_prediction[Qwen-VL-Chat].csv', index=False)\n",
        "covid19_test_grounding_absent_prompt_with_caption_InternLM_XComposer['prediction'] = covid19_test_grounding_absent_prompt_with_caption_InternLM_XComposer['prediction'].apply(lambda x: remap(x))\n",
        "print(covid19_test_grounding_absent_prompt_with_caption_InternLM_XComposer['prediction'].value_counts())\n",
        "print(covid19_test_grounding_absent_prompt_with_caption_InternLM_XComposer['prediction'].isna().sum())\n",
        "covid19_test_grounding_absent_prompt_with_caption_InternLM_XComposer['prediction'] = covid19_test_grounding_absent_prompt_with_caption_InternLM_XComposer['prediction'].apply(lambda x: x if x is not None else np.random.choice(['hero', 'villain', 'victim', 'other']))\n",
        "print(f1_score(covid19_test_grounding_absent_prompt_with_caption_InternLM_XComposer['role'].values, covid19_test_grounding_absent_prompt_with_caption_InternLM_XComposer['prediction'].values, labels=['hero', 'villain', 'victim', 'other'], average='macro'))\n",
        "print(classification_report(covid19_test_grounding_absent_prompt_with_caption_InternLM_XComposer['role'].values, covid19_test_grounding_absent_prompt_with_caption_InternLM_XComposer['prediction'].values, labels=['hero', 'villain', 'victim', 'other']))"
      ],
      "metadata": {
        "id": "6CJ-oeaR4rHy",
        "colab": {
          "base_uri": "https://localhost:8080/"
        },
        "outputId": "4c009f7e-05c5-4777-a97c-633b9d54fcb9"
      },
      "execution_count": null,
      "outputs": [
        {
          "output_type": "stream",
          "name": "stdout",
          "text": [
            "villain    541\n",
            "other      149\n",
            "hero        35\n",
            "victim       3\n",
            "Name: prediction, dtype: int64\n",
            "30\n",
            "0.21909254352338808\n",
            "              precision    recall  f1-score   support\n",
            "\n",
            "        hero       0.52      0.12      0.19       189\n",
            "     villain       0.29      0.84      0.43       190\n",
            "      victim       0.27      0.02      0.03       189\n",
            "       other       0.25      0.21      0.23       190\n",
            "\n",
            "    accuracy                           0.29       758\n",
            "   macro avg       0.33      0.29      0.22       758\n",
            "weighted avg       0.33      0.29      0.22       758\n",
            "\n"
          ]
        }
      ]
    },
    {
      "cell_type": "markdown",
      "source": [
        "GROUNDING [ABSENT] & PROMPT [CAPTION] & CAPTION [llava]"
      ],
      "metadata": {
        "id": "eBCUJcrvE6JE"
      }
    },
    {
      "cell_type": "code",
      "source": [
        "covid19_test_grounding_absent_prompt_with_caption_llava = constraint22_dataset_covid19_test_captioned_llava.copy(deep=True)\n",
        "covid19_test_grounding_absent_prompt_with_caption_llava_images = covid19_test_grounding_absent_prompt_with_caption_llava['image'].values\n",
        "covid19_test_grounding_absent_prompt_with_caption_llava_entities = covid19_test_grounding_absent_prompt_with_caption_llava['entity'].values\n",
        "covid19_test_grounding_absent_prompt_with_caption_llava_captions = covid19_test_grounding_absent_prompt_with_caption_llava['caption'].values\n",
        "covid19_test_grounding_absent_prompt_with_caption_llava['prediction'] = [get_prediction(image, prompt_with_caption(entity, caption)) for image, entity, caption in zip(covid19_test_grounding_absent_prompt_with_caption_llava_images, covid19_test_grounding_absent_prompt_with_caption_llava_entities, covid19_test_grounding_absent_prompt_with_caption_llava_captions)]\n",
        "covid19_test_grounding_absent_prompt_with_caption_llava.to_csv('/content/drive/MyDrive/stance_detection_datasets/inferences/predictions/constraint22_dataset_covid19_test_grounding[ABSENT]_caption[llava-v1.5-13b]_prompt[CAPTION]_prediction[Qwen-VL-Chat].csv', index=False)\n",
        "covid19_test_grounding_absent_prompt_with_caption_llava['prediction'] = covid19_test_grounding_absent_prompt_with_caption_llava['prediction'].apply(lambda x: remap(x))\n",
        "print(covid19_test_grounding_absent_prompt_with_caption_llava['prediction'].value_counts())\n",
        "print(covid19_test_grounding_absent_prompt_with_caption_llava['prediction'].isna().sum())\n",
        "covid19_test_grounding_absent_prompt_with_caption_llava['prediction'] = covid19_test_grounding_absent_prompt_with_caption_llava['prediction'].apply(lambda x: x if x is not None else np.random.choice(['hero', 'villain', 'victim', 'other']))\n",
        "print(f1_score(covid19_test_grounding_absent_prompt_with_caption_llava['role'].values, covid19_test_grounding_absent_prompt_with_caption_llava['prediction'].values, labels=['hero', 'villain', 'victim', 'other'], average='macro'))\n",
        "print(classification_report(covid19_test_grounding_absent_prompt_with_caption_llava['role'].values, covid19_test_grounding_absent_prompt_with_caption_llava['prediction'].values, labels=['hero', 'villain', 'victim', 'other']))"
      ],
      "metadata": {
        "id": "u1_OojZKE6TL",
        "colab": {
          "base_uri": "https://localhost:8080/"
        },
        "outputId": "88242561-f336-4d2d-d0fb-7825ff66b3ed"
      },
      "execution_count": null,
      "outputs": [
        {
          "output_type": "stream",
          "name": "stdout",
          "text": [
            "villain    404\n",
            "other      187\n",
            "hero        58\n",
            "victim      19\n",
            "Name: prediction, dtype: int64\n",
            "90\n",
            "0.29366038534144223\n",
            "              precision    recall  f1-score   support\n",
            "\n",
            "        hero       0.51      0.22      0.30       189\n",
            "     villain       0.33      0.73      0.45       190\n",
            "      victim       0.36      0.08      0.14       189\n",
            "       other       0.26      0.29      0.28       190\n",
            "\n",
            "    accuracy                           0.33       758\n",
            "   macro avg       0.37      0.33      0.29       758\n",
            "weighted avg       0.37      0.33      0.29       758\n",
            "\n"
          ]
        }
      ]
    },
    {
      "cell_type": "markdown",
      "source": [
        "GROUNDING [ABSENT] & PROMPT [CAPTION] & CAPTION [BLIP-2]"
      ],
      "metadata": {
        "id": "n3P_lrizy1go"
      }
    },
    {
      "cell_type": "code",
      "source": [
        "covid19_test_grounding_absent_prompt_with_caption_BLIP_2 = constraint22_dataset_covid19_test_captioned_BLIP_2.copy(deep=True)\n",
        "covid19_test_grounding_absent_prompt_with_caption_BLIP_2_images = covid19_test_grounding_absent_prompt_with_caption_BLIP_2['image'].values\n",
        "covid19_test_grounding_absent_prompt_with_caption_BLIP_2_entities = covid19_test_grounding_absent_prompt_with_caption_BLIP_2['entity'].values\n",
        "covid19_test_grounding_absent_prompt_with_caption_BLIP_2_captions = covid19_test_grounding_absent_prompt_with_caption_BLIP_2['caption'].values\n",
        "covid19_test_grounding_absent_prompt_with_caption_BLIP_2['prediction'] = [get_prediction(image, prompt_with_caption(entity, caption)) for image, entity, caption in zip(covid19_test_grounding_absent_prompt_with_caption_BLIP_2_images, covid19_test_grounding_absent_prompt_with_caption_BLIP_2_entities, covid19_test_grounding_absent_prompt_with_caption_BLIP_2_captions)]\n",
        "covid19_test_grounding_absent_prompt_with_caption_BLIP_2.to_csv('/content/drive/MyDrive/stance_detection_datasets/inferences/predictions/constraint22_dataset_covid19_test_grounding[ABSENT]_caption[BLIP_2]_prompt[CAPTION]_prediction[Qwen-VL-Chat].csv', index=False)\n",
        "covid19_test_grounding_absent_prompt_with_caption_BLIP_2['prediction'] = covid19_test_grounding_absent_prompt_with_caption_BLIP_2['prediction'].apply(lambda x: remap(x))\n",
        "print(covid19_test_grounding_absent_prompt_with_caption_BLIP_2['prediction'].value_counts())\n",
        "print(covid19_test_grounding_absent_prompt_with_caption_BLIP_2['prediction'].isna().sum())\n",
        "covid19_test_grounding_absent_prompt_with_caption_BLIP_2['prediction'] = covid19_test_grounding_absent_prompt_with_caption_BLIP_2['prediction'].apply(lambda x: x if x is not None else np.random.choice(['hero', 'villain', 'victim', 'other']))\n",
        "print(f1_score(covid19_test_grounding_absent_prompt_with_caption_BLIP_2['role'].values, covid19_test_grounding_absent_prompt_with_caption_BLIP_2['prediction'].values, labels=['hero', 'villain', 'victim', 'other'], average='macro'))\n",
        "print(classification_report(covid19_test_grounding_absent_prompt_with_caption_BLIP_2['role'].values, covid19_test_grounding_absent_prompt_with_caption_BLIP_2['prediction'].values, labels=['hero', 'villain', 'victim', 'other']))"
      ],
      "metadata": {
        "id": "xFTHl8sly1oX",
        "colab": {
          "base_uri": "https://localhost:8080/"
        },
        "outputId": "366cd005-95de-4b9e-d665-9b9f7a465f26"
      },
      "execution_count": null,
      "outputs": [
        {
          "output_type": "stream",
          "name": "stdout",
          "text": [
            "villain    619\n",
            "other      102\n",
            "hero        36\n",
            "Name: prediction, dtype: int64\n",
            "1\n",
            "0.2185300935203271\n",
            "              precision    recall  f1-score   support\n",
            "\n",
            "        hero       0.81      0.15      0.26       189\n",
            "     villain       0.28      0.91      0.43       190\n",
            "      victim       0.00      0.00      0.00       189\n",
            "       other       0.27      0.15      0.19       190\n",
            "\n",
            "    accuracy                           0.30       758\n",
            "   macro avg       0.34      0.30      0.22       758\n",
            "weighted avg       0.34      0.30      0.22       758\n",
            "\n"
          ]
        },
        {
          "output_type": "stream",
          "name": "stderr",
          "text": [
            "/usr/local/lib/python3.10/dist-packages/sklearn/metrics/_classification.py:1344: UndefinedMetricWarning: Precision and F-score are ill-defined and being set to 0.0 in labels with no predicted samples. Use `zero_division` parameter to control this behavior.\n",
            "  _warn_prf(average, modifier, msg_start, len(result))\n",
            "/usr/local/lib/python3.10/dist-packages/sklearn/metrics/_classification.py:1344: UndefinedMetricWarning: Precision and F-score are ill-defined and being set to 0.0 in labels with no predicted samples. Use `zero_division` parameter to control this behavior.\n",
            "  _warn_prf(average, modifier, msg_start, len(result))\n",
            "/usr/local/lib/python3.10/dist-packages/sklearn/metrics/_classification.py:1344: UndefinedMetricWarning: Precision and F-score are ill-defined and being set to 0.0 in labels with no predicted samples. Use `zero_division` parameter to control this behavior.\n",
            "  _warn_prf(average, modifier, msg_start, len(result))\n"
          ]
        }
      ]
    }
  ],
  "metadata": {
    "colab": {
      "machine_shape": "hm",
      "provenance": [],
      "gpuType": "A100"
    },
    "kernelspec": {
      "display_name": "Python 3",
      "name": "python3"
    },
    "language_info": {
      "name": "python"
    },
    "accelerator": "GPU"
  },
  "nbformat": 4,
  "nbformat_minor": 0
}