{
  "cells": [
    {
      "cell_type": "markdown",
      "source": [
        "# Import libraries"
      ],
      "metadata": {
        "id": "hw_8I5QeMmqK"
      }
    },
    {
      "cell_type": "code",
      "execution_count": null,
      "metadata": {
        "id": "ZqBeYLjotxgQ"
      },
      "outputs": [],
      "source": [
        "!pip install bitsandbytes>=0.39.0 accelerate>=0.20.0\n",
        "!pip install transformers"
      ]
    },
    {
      "cell_type": "code",
      "source": [
        "import inspect\n",
        "import os\n",
        "import numpy as np\n",
        "import pandas as pd\n",
        "from sklearn.metrics import classification_report\n",
        "from sklearn.metrics import f1_score\n",
        "from PIL import Image\n",
        "from transformers import Blip2Processor, Blip2ForConditionalGeneration"
      ],
      "metadata": {
        "id": "PRBlYYjoZHTZ"
      },
      "execution_count": null,
      "outputs": []
    },
    {
      "cell_type": "markdown",
      "source": [
        "# Instantiate model"
      ],
      "metadata": {
        "id": "N0m8GEpXOtW9"
      }
    },
    {
      "cell_type": "code",
      "source": [
        "# Instantiate BLIP-2 model. via\n",
        "# https://huggingface.co/Salesforce/blip2-flan-t5-xxl\n",
        "processor = Blip2Processor.from_pretrained(\"Salesforce/blip2-flan-t5-xxl\")\n",
        "model = Blip2ForConditionalGeneration.from_pretrained(\"Salesforce/blip2-flan-t5-xxl\", device_map=\"auto\", load_in_8bit=True)"
      ],
      "metadata": {
        "id": "oxkroyd1OuY0"
      },
      "execution_count": null,
      "outputs": []
    },
    {
      "cell_type": "markdown",
      "source": [
        "# Mount drive"
      ],
      "metadata": {
        "id": "gzouBmV4M5iL"
      }
    },
    {
      "cell_type": "code",
      "source": [
        "from google.colab import drive\n",
        "drive.mount('/content/drive')"
      ],
      "metadata": {
        "id": "von6na4lM6-b"
      },
      "execution_count": null,
      "outputs": []
    },
    {
      "cell_type": "markdown",
      "source": [
        "# Create directory to store inferences"
      ],
      "metadata": {
        "id": "xjK-ml8pM-az"
      }
    },
    {
      "cell_type": "code",
      "source": [
        "os.makedirs('/content/drive/MyDrive/stance_detection_datasets/inferences/predictions', exist_ok=True)"
      ],
      "metadata": {
        "id": "Rdpr1wTEM-9L"
      },
      "execution_count": null,
      "outputs": []
    },
    {
      "cell_type": "markdown",
      "source": [
        "# Import datasets"
      ],
      "metadata": {
        "id": "TVLgbMRsNror"
      }
    },
    {
      "cell_type": "markdown",
      "source": [
        "## COVID-19"
      ],
      "metadata": {
        "id": "hcIGtRFQMIOH"
      }
    },
    {
      "cell_type": "code",
      "execution_count": null,
      "metadata": {
        "id": "8VesFLoXN2_I"
      },
      "outputs": [],
      "source": [
        "constraint22_dataset_covid19_test_captioned_Qwen_VL_Chat = pd.read_csv('/content/drive/MyDrive/stance_detection_datasets/inferences/constrain22_dataset_covid19_test_captioned_Qwen-VL-Chat.csv')\n",
        "constraint22_dataset_covid19_test_captioned_InternLM_XComposer = pd.read_csv('/content/drive/MyDrive/stance_detection_datasets/inferences/constrain22_dataset_covid19_test_captioned_InternLM-XComposer.csv')\n",
        "constraint22_dataset_covid19_test_captioned_llava = pd.read_csv('/content/drive/MyDrive/stance_detection_datasets/inferences/constrain22_dataset_covid19_test_captioned_llava-v1.5-13b.csv')\n",
        "constraint22_dataset_covid19_test_captioned_BLIP_2 = pd.read_csv('/content/drive/MyDrive/stance_detection_datasets/inferences/constrain22_dataset_covid19_test_captioned_BLIP-2.csv')"
      ]
    },
    {
      "cell_type": "code",
      "source": [
        "constraint22_dataset_covid19_test_captioned_Qwen_VL_Chat = constraint22_dataset_covid19_test_captioned_Qwen_VL_Chat.dropna().reset_index(drop=True)\n",
        "constraint22_dataset_covid19_test_captioned_InternLM_XComposer = constraint22_dataset_covid19_test_captioned_InternLM_XComposer.dropna().reset_index(drop=True)\n",
        "constraint22_dataset_covid19_test_captioned_llava = constraint22_dataset_covid19_test_captioned_llava.dropna().reset_index(drop=True)\n",
        "constraint22_dataset_covid19_test_captioned_BLIP_2 = constraint22_dataset_covid19_test_captioned_BLIP_2.dropna().reset_index(drop=True)"
      ],
      "metadata": {
        "id": "C0ZKotonf8Zb"
      },
      "execution_count": null,
      "outputs": []
    },
    {
      "cell_type": "markdown",
      "source": [
        "# Set prompts and define a function to call the model"
      ],
      "metadata": {
        "id": "m6ZqSNNeOFm1"
      }
    },
    {
      "cell_type": "code",
      "source": [
        "def prompt_vanilla(entity):\n",
        "    return inspect.cleandoc(f\"\"\"\n",
        "    What is the role of {entity} in this meme?\n",
        "    hero: presented in a positive light.\n",
        "    villain: portrayed negatively, e.g., in an association with adverse traits like wickedness, cruelty, hypocrisy, etc.\n",
        "    victim: portrayed as suffering the negative impact of someone else’s actions.\n",
        "    other: not a hero, a villain, or a victim.\n",
        "    Constraint: Without using any other words, answer either hero, villain, victim, other.\"\"\")"
      ],
      "metadata": {
        "id": "J8n5Qo7aJa3X"
      },
      "execution_count": null,
      "outputs": []
    },
    {
      "cell_type": "code",
      "source": [
        "def prompt_with_OCR(entity, OCR):\n",
        "    return inspect.cleandoc(f\"\"\"\n",
        "    Text on this meme: \\\"\\\"\\\"\n",
        "    {OCR}\n",
        "    \\\"\\\"\\\"\n",
        "    What is the role of {entity} in this meme?\n",
        "    hero: presented in a positive light.\n",
        "    villain: portrayed negatively, e.g., in an association with adverse traits like wickedness, cruelty, hypocrisy, etc.\n",
        "    victim: portrayed as suffering the negative impact of someone else’s actions.\n",
        "    other: not a hero, a villain, or a victim.\n",
        "    Constraint: Without using any other words, answer either hero, villain, victim, other.\"\"\")"
      ],
      "metadata": {
        "id": "RDItgC52Jmvf"
      },
      "execution_count": null,
      "outputs": []
    },
    {
      "cell_type": "code",
      "source": [
        "def prompt_with_caption(entity, caption):\n",
        "    return inspect.cleandoc(f\"\"\"\n",
        "    Description of this meme: \\\"\\\"\\\"\n",
        "    {caption}\n",
        "    \\\"\\\"\\\"\n",
        "    What is the role of {entity} in this meme?\n",
        "    hero: presented in a positive light.\n",
        "    villain: portrayed negatively, e.g., in an association with adverse traits like wickedness, cruelty, hypocrisy, etc.\n",
        "    victim: portrayed as suffering the negative impact of someone else’s actions.\n",
        "    other: not a hero, a villain, or a victim.\n",
        "    Constraint: Without using any other words, answer either hero, villain, victim, other.\"\"\")"
      ],
      "metadata": {
        "id": "PfVOUxDKJsSX"
      },
      "execution_count": null,
      "outputs": []
    },
    {
      "cell_type": "code",
      "execution_count": null,
      "metadata": {
        "id": "6BHp6PaOOCfw"
      },
      "outputs": [],
      "source": [
        "# Use BLIP-2 for the inference. via\n",
        "# https://huggingface.co/Salesforce/blip2-flan-t5-xxl\n",
        "def get_prediction(image, prompt):\n",
        "    raw_image = Image.open(image).convert('RGB')\n",
        "    inputs = processor(raw_image, prompt, return_tensors=\"pt\").to(\"cuda\")\n",
        "    out = model.generate(**inputs, max_new_tokens=30)\n",
        "    return processor.decode(out[0], skip_special_tokens=True)"
      ]
    },
    {
      "cell_type": "markdown",
      "source": [
        "# Define function to clean responses"
      ],
      "metadata": {
        "id": "I3g57TQeKsmw"
      }
    },
    {
      "cell_type": "code",
      "source": [
        "def remap(x):\n",
        "    x = x.lower()\n",
        "    if x in {'hero', 'villain', 'victim', 'other'}:\n",
        "        return x\n",
        "    elif 'hero' in x and 'villain' not in x and 'victim' not in x and 'other' not in x and 'not hero' not in x and 'not a hero' not in x:\n",
        "        return 'hero'\n",
        "    elif 'villain' in x and 'hero' not in x and 'victim' not in x and 'other' not in x and 'not villain' not in x and 'not a villain' not in x:\n",
        "        return 'villain'\n",
        "    elif 'victim' in x and 'villain' not in x and 'hero' not in x and 'other' not in x and 'not victim' not in x and 'not a victim' not in x:\n",
        "        return 'victim'\n",
        "    elif 'other' in x and 'villain' not in x and 'victim' not in x and 'hero' not in x and 'not other' not in x and 'not an other' not in x:\n",
        "        return 'other'\n",
        "    else:\n",
        "        return None"
      ],
      "metadata": {
        "id": "Q32y0YwRKwL_"
      },
      "execution_count": null,
      "outputs": []
    },
    {
      "cell_type": "markdown",
      "source": [
        "# Call the `get_prediction` function and save inferences"
      ],
      "metadata": {
        "id": "gL5WFrudQxL1"
      }
    },
    {
      "cell_type": "markdown",
      "source": [
        "GROUNDING [ABSENT] & PROMPT [VANILLA]"
      ],
      "metadata": {
        "id": "-c9f4n6OOOdn"
      }
    },
    {
      "cell_type": "code",
      "source": [
        "covid19_test_grounding_absent_prompt_vanilla = constraint22_dataset_covid19_test_captioned_Qwen_VL_Chat.copy(deep=True)\n",
        "covid19_test_grounding_absent_prompt_vanilla_images = covid19_test_grounding_absent_prompt_vanilla['image'].values\n",
        "covid19_test_grounding_absent_prompt_vanilla_entities = covid19_test_grounding_absent_prompt_vanilla['entity'].values\n",
        "covid19_test_grounding_absent_prompt_vanilla['prediction'] = [get_prediction(image, prompt_vanilla(entity)) for image, entity in zip(covid19_test_grounding_absent_prompt_vanilla_images, covid19_test_grounding_absent_prompt_vanilla_entities)]\n",
        "covid19_test_grounding_absent_prompt_vanilla.to_csv('/content/drive/MyDrive/stance_detection_datasets/inferences/predictions/constraint22_dataset_covid19_test_grounding[ABSENT]_prompt[VANILLA]_prediction[BLIP_2].csv', index=False)\n",
        "covid19_test_grounding_absent_prompt_vanilla['prediction'] = covid19_test_grounding_absent_prompt_vanilla['prediction'].apply(lambda x: remap(x))\n",
        "print(covid19_test_grounding_absent_prompt_vanilla['prediction'].value_counts())\n",
        "print(covid19_test_grounding_absent_prompt_vanilla['prediction'].isna().sum())\n",
        "covid19_test_grounding_absent_prompt_vanilla['prediction'] = covid19_test_grounding_absent_prompt_vanilla['prediction'].apply(lambda x: x if x is not None else np.random.choice(['hero', 'villain', 'victim', 'other']))\n",
        "print(f1_score(covid19_test_grounding_absent_prompt_vanilla['role'].values, covid19_test_grounding_absent_prompt_vanilla['prediction'].values, labels=['hero', 'villain', 'victim', 'other'], average='macro'))\n",
        "print(classification_report(covid19_test_grounding_absent_prompt_vanilla['role'].values, covid19_test_grounding_absent_prompt_vanilla['prediction'].values, labels=['hero', 'villain', 'victim', 'other']))"
      ],
      "metadata": {
        "id": "vFgw1XowtB_7",
        "colab": {
          "base_uri": "https://localhost:8080/"
        },
        "outputId": "589b7a00-dc58-4e7c-daa6-f5c3946962a7"
      },
      "execution_count": null,
      "outputs": [
        {
          "output_type": "stream",
          "name": "stdout",
          "text": [
            "other      547\n",
            "hero       179\n",
            "villain     25\n",
            "victim       7\n",
            "Name: prediction, dtype: int64\n",
            "0\n",
            "0.2590982239645655\n",
            "              precision    recall  f1-score   support\n",
            "\n",
            "        hero       0.44      0.42      0.43       189\n",
            "     villain       0.48      0.06      0.11       190\n",
            "      victim       0.86      0.03      0.06       189\n",
            "       other       0.29      0.84      0.43       190\n",
            "\n",
            "    accuracy                           0.34       758\n",
            "   macro avg       0.52      0.34      0.26       758\n",
            "weighted avg       0.52      0.34      0.26       758\n",
            "\n"
          ]
        }
      ]
    },
    {
      "cell_type": "markdown",
      "source": [
        "GROUNDING [ABSENT] & PROMPT [OCR]"
      ],
      "metadata": {
        "id": "0RQFR_yGtKKe"
      }
    },
    {
      "cell_type": "code",
      "source": [
        "covid19_test_grounding_absent_prompt_with_OCR = constraint22_dataset_covid19_test_captioned_Qwen_VL_Chat.copy(deep=True)\n",
        "covid19_test_grounding_absent_prompt_with_OCR_images = covid19_test_grounding_absent_prompt_with_OCR['image'].values\n",
        "covid19_test_grounding_absent_prompt_with_OCR_entities = covid19_test_grounding_absent_prompt_with_OCR['entity'].values\n",
        "covid19_test_grounding_absent_prompt_with_OCR_texts = covid19_test_grounding_absent_prompt_with_OCR['OCR'].values\n",
        "covid19_test_grounding_absent_prompt_with_OCR['prediction'] = [get_prediction(image, prompt_with_OCR(entity, text)) for image, entity, text in zip(covid19_test_grounding_absent_prompt_with_OCR_images, covid19_test_grounding_absent_prompt_with_OCR_entities, covid19_test_grounding_absent_prompt_with_OCR_texts)]\n",
        "covid19_test_grounding_absent_prompt_with_OCR.to_csv('/content/drive/MyDrive/stance_detection_datasets/inferences/predictions/constraint22_dataset_covid19_test_grounding[ABSENT]_prompt[OCR]_prediction[BLIP_2].csv', index=False)\n",
        "covid19_test_grounding_absent_prompt_with_OCR['prediction'] = covid19_test_grounding_absent_prompt_with_OCR['prediction'].apply(lambda x: remap(x))\n",
        "print(covid19_test_grounding_absent_prompt_with_OCR['prediction'].value_counts())\n",
        "print(covid19_test_grounding_absent_prompt_with_OCR['prediction'].isna().sum())\n",
        "covid19_test_grounding_absent_prompt_with_OCR['prediction'] = covid19_test_grounding_absent_prompt_with_OCR['prediction'].apply(lambda x: x if x is not None else np.random.choice(['hero', 'villain', 'victim', 'other']))\n",
        "print(f1_score(covid19_test_grounding_absent_prompt_with_OCR['role'].values, covid19_test_grounding_absent_prompt_with_OCR['prediction'].values, labels=['hero', 'villain', 'victim', 'other'], average='macro'))\n",
        "print(classification_report(covid19_test_grounding_absent_prompt_with_OCR['role'].values, covid19_test_grounding_absent_prompt_with_OCR['prediction'].values, labels=['hero', 'villain', 'victim', 'other']))"
      ],
      "metadata": {
        "id": "l8G9Kp9_V11F",
        "colab": {
          "base_uri": "https://localhost:8080/"
        },
        "outputId": "40030d81-6aaa-4c52-e835-20cf397f7210"
      },
      "execution_count": null,
      "outputs": [
        {
          "output_type": "stream",
          "name": "stdout",
          "text": [
            "other      371\n",
            "hero       234\n",
            "villain     86\n",
            "victim      67\n",
            "Name: prediction, dtype: int64\n",
            "0\n",
            "0.43266950402876514\n",
            "              precision    recall  f1-score   support\n",
            "\n",
            "        hero       0.50      0.62      0.56       189\n",
            "     villain       0.62      0.28      0.38       190\n",
            "      victim       0.64      0.23      0.34       189\n",
            "       other       0.34      0.67      0.45       190\n",
            "\n",
            "    accuracy                           0.45       758\n",
            "   macro avg       0.53      0.45      0.43       758\n",
            "weighted avg       0.53      0.45      0.43       758\n",
            "\n"
          ]
        }
      ]
    },
    {
      "cell_type": "markdown",
      "source": [
        "GROUNDING [ABSENT] & PROMPT [CAPTION] & CAPTION [Qwen_VL_Chat]"
      ],
      "metadata": {
        "id": "3tgRDaJE5OVz"
      }
    },
    {
      "cell_type": "code",
      "source": [
        "covid19_test_grounding_absent_prompt_with_caption_Qwen_VL_Chat = constraint22_dataset_covid19_test_captioned_Qwen_VL_Chat.copy(deep=True)\n",
        "covid19_test_grounding_absent_prompt_with_caption_Qwen_VL_Chat_images = covid19_test_grounding_absent_prompt_with_caption_Qwen_VL_Chat['image'].values\n",
        "covid19_test_grounding_absent_prompt_with_caption_Qwen_VL_Chat_entities = covid19_test_grounding_absent_prompt_with_caption_Qwen_VL_Chat['entity'].values\n",
        "covid19_test_grounding_absent_prompt_with_caption_Qwen_VL_Chat_captions = covid19_test_grounding_absent_prompt_with_caption_Qwen_VL_Chat['caption'].values\n",
        "covid19_test_grounding_absent_prompt_with_caption_Qwen_VL_Chat['prediction'] = [get_prediction(image, prompt_with_caption(entity, caption)) for image, entity, caption in zip(covid19_test_grounding_absent_prompt_with_caption_Qwen_VL_Chat_images, covid19_test_grounding_absent_prompt_with_caption_Qwen_VL_Chat_entities, covid19_test_grounding_absent_prompt_with_caption_Qwen_VL_Chat_captions)]\n",
        "covid19_test_grounding_absent_prompt_with_caption_Qwen_VL_Chat.to_csv('/content/drive/MyDrive/stance_detection_datasets/inferences/predictions/constraint22_dataset_covid19_test_grounding[ABSENT]_caption[Qwen-VL-Chat]_prompt[CAPTION]_prediction[BLIP_2].csv', index=False)\n",
        "covid19_test_grounding_absent_prompt_with_caption_Qwen_VL_Chat['prediction'] = covid19_test_grounding_absent_prompt_with_caption_Qwen_VL_Chat['prediction'].apply(lambda x: remap(x))\n",
        "print(covid19_test_grounding_absent_prompt_with_caption_Qwen_VL_Chat['prediction'].value_counts())\n",
        "print(covid19_test_grounding_absent_prompt_with_caption_Qwen_VL_Chat['prediction'].isna().sum())\n",
        "covid19_test_grounding_absent_prompt_with_caption_Qwen_VL_Chat['prediction'] = covid19_test_grounding_absent_prompt_with_caption_Qwen_VL_Chat['prediction'].apply(lambda x: x if x is not None else np.random.choice(['hero', 'villain', 'victim', 'other']))\n",
        "print(f1_score(covid19_test_grounding_absent_prompt_with_caption_Qwen_VL_Chat['role'].values, covid19_test_grounding_absent_prompt_with_caption_Qwen_VL_Chat['prediction'].values, labels=['hero', 'villain', 'victim', 'other'], average='macro'))\n",
        "print(classification_report(covid19_test_grounding_absent_prompt_with_caption_Qwen_VL_Chat['role'].values, covid19_test_grounding_absent_prompt_with_caption_Qwen_VL_Chat['prediction'].values, labels=['hero', 'villain', 'victim', 'other']))"
      ],
      "metadata": {
        "id": "TQJ1tGEotFFX",
        "colab": {
          "base_uri": "https://localhost:8080/"
        },
        "outputId": "872eef5c-9d68-4b77-8c97-9c6837c48c47"
      },
      "execution_count": null,
      "outputs": [
        {
          "output_type": "stream",
          "name": "stdout",
          "text": [
            "other      311\n",
            "hero       246\n",
            "villain    119\n",
            "victim      82\n",
            "Name: prediction, dtype: int64\n",
            "0\n",
            "0.4950159211372419\n",
            "              precision    recall  f1-score   support\n",
            "\n",
            "        hero       0.54      0.71      0.62       189\n",
            "     villain       0.65      0.41      0.50       190\n",
            "      victim       0.66      0.29      0.40       189\n",
            "       other       0.38      0.62      0.47       190\n",
            "\n",
            "    accuracy                           0.50       758\n",
            "   macro avg       0.56      0.50      0.50       758\n",
            "weighted avg       0.56      0.50      0.49       758\n",
            "\n"
          ]
        }
      ]
    },
    {
      "cell_type": "markdown",
      "source": [
        "GROUNDING [ABSENT] & PROMPT [CAPTION] & CAPTION [InternLM_XComposer]"
      ],
      "metadata": {
        "id": "8eWnRoPz5Tq6"
      }
    },
    {
      "cell_type": "code",
      "source": [
        "covid19_test_grounding_absent_prompt_with_caption_InternLM_XComposer = constraint22_dataset_covid19_test_captioned_InternLM_XComposer.copy(deep=True)\n",
        "covid19_test_grounding_absent_prompt_with_caption_InternLM_XComposer_images = covid19_test_grounding_absent_prompt_with_caption_InternLM_XComposer['image'].values\n",
        "covid19_test_grounding_absent_prompt_with_caption_InternLM_XComposer_entities = covid19_test_grounding_absent_prompt_with_caption_InternLM_XComposer['entity'].values\n",
        "covid19_test_grounding_absent_prompt_with_caption_InternLM_XComposer_captions = covid19_test_grounding_absent_prompt_with_caption_InternLM_XComposer['caption'].values\n",
        "covid19_test_grounding_absent_prompt_with_caption_InternLM_XComposer['prediction'] = [get_prediction(image, prompt_with_caption(entity, caption)) for image, entity, caption in zip(covid19_test_grounding_absent_prompt_with_caption_InternLM_XComposer_images, covid19_test_grounding_absent_prompt_with_caption_InternLM_XComposer_entities, covid19_test_grounding_absent_prompt_with_caption_InternLM_XComposer_captions)]\n",
        "covid19_test_grounding_absent_prompt_with_caption_InternLM_XComposer.to_csv('/content/drive/MyDrive/stance_detection_datasets/inferences/predictions/constraint22_dataset_covid19_test_grounding[ABSENT]_caption[InternLM-XComposer]_prompt[CAPTION]_prediction[BLIP_2].csv', index=False)\n",
        "covid19_test_grounding_absent_prompt_with_caption_InternLM_XComposer['prediction'] = covid19_test_grounding_absent_prompt_with_caption_InternLM_XComposer['prediction'].apply(lambda x: remap(x))\n",
        "print(covid19_test_grounding_absent_prompt_with_caption_InternLM_XComposer['prediction'].value_counts())\n",
        "print(covid19_test_grounding_absent_prompt_with_caption_InternLM_XComposer['prediction'].isna().sum())\n",
        "covid19_test_grounding_absent_prompt_with_caption_InternLM_XComposer['prediction'] = covid19_test_grounding_absent_prompt_with_caption_InternLM_XComposer['prediction'].apply(lambda x: x if x is not None else np.random.choice(['hero', 'villain', 'victim', 'other']))\n",
        "print(f1_score(covid19_test_grounding_absent_prompt_with_caption_InternLM_XComposer['role'].values, covid19_test_grounding_absent_prompt_with_caption_InternLM_XComposer['prediction'].values, labels=['hero', 'villain', 'victim', 'other'], average='macro'))\n",
        "print(classification_report(covid19_test_grounding_absent_prompt_with_caption_InternLM_XComposer['role'].values, covid19_test_grounding_absent_prompt_with_caption_InternLM_XComposer['prediction'].values, labels=['hero', 'villain', 'victim', 'other']))"
      ],
      "metadata": {
        "id": "6CJ-oeaR4rHy",
        "colab": {
          "base_uri": "https://localhost:8080/"
        },
        "outputId": "7ef8ee37-9e5a-4135-98d8-093da231b592"
      },
      "execution_count": null,
      "outputs": [
        {
          "output_type": "stream",
          "name": "stdout",
          "text": [
            "other      307\n",
            "hero       255\n",
            "villain    114\n",
            "victim      82\n",
            "Name: prediction, dtype: int64\n",
            "0\n",
            "0.46184111518160387\n",
            "              precision    recall  f1-score   support\n",
            "\n",
            "        hero       0.51      0.69      0.59       189\n",
            "     villain       0.58      0.35      0.43       190\n",
            "      victim       0.62      0.27      0.38       189\n",
            "       other       0.36      0.58      0.45       190\n",
            "\n",
            "    accuracy                           0.47       758\n",
            "   macro avg       0.52      0.47      0.46       758\n",
            "weighted avg       0.52      0.47      0.46       758\n",
            "\n"
          ]
        }
      ]
    },
    {
      "cell_type": "markdown",
      "source": [
        "GROUNDING [ABSENT] & PROMPT [CAPTION] & CAPTION [llava]"
      ],
      "metadata": {
        "id": "eBCUJcrvE6JE"
      }
    },
    {
      "cell_type": "code",
      "source": [
        "covid19_test_grounding_absent_prompt_with_caption_llava = constraint22_dataset_covid19_test_captioned_llava.copy(deep=True)\n",
        "covid19_test_grounding_absent_prompt_with_caption_llava_images = covid19_test_grounding_absent_prompt_with_caption_llava['image'].values\n",
        "covid19_test_grounding_absent_prompt_with_caption_llava_entities = covid19_test_grounding_absent_prompt_with_caption_llava['entity'].values\n",
        "covid19_test_grounding_absent_prompt_with_caption_llava_captions = covid19_test_grounding_absent_prompt_with_caption_llava['caption'].values\n",
        "covid19_test_grounding_absent_prompt_with_caption_llava['prediction'] = [get_prediction(image, prompt_with_caption(entity, caption)) for image, entity, caption in zip(covid19_test_grounding_absent_prompt_with_caption_llava_images, covid19_test_grounding_absent_prompt_with_caption_llava_entities, covid19_test_grounding_absent_prompt_with_caption_llava_captions)]\n",
        "covid19_test_grounding_absent_prompt_with_caption_llava.to_csv('/content/drive/MyDrive/stance_detection_datasets/inferences/predictions/constraint22_dataset_covid19_test_grounding[ABSENT]_caption[llava-v1.5-13b]_prompt[CAPTION]_prediction[BLIP_2].csv', index=False)\n",
        "covid19_test_grounding_absent_prompt_with_caption_llava['prediction'] = covid19_test_grounding_absent_prompt_with_caption_llava['prediction'].apply(lambda x: remap(x))\n",
        "print(covid19_test_grounding_absent_prompt_with_caption_llava['prediction'].value_counts())\n",
        "print(covid19_test_grounding_absent_prompt_with_caption_llava['prediction'].isna().sum())\n",
        "covid19_test_grounding_absent_prompt_with_caption_llava['prediction'] = covid19_test_grounding_absent_prompt_with_caption_llava['prediction'].apply(lambda x: x if x is not None else np.random.choice(['hero', 'villain', 'victim', 'other']))\n",
        "print(f1_score(covid19_test_grounding_absent_prompt_with_caption_llava['role'].values, covid19_test_grounding_absent_prompt_with_caption_llava['prediction'].values, labels=['hero', 'villain', 'victim', 'other'], average='macro'))\n",
        "print(classification_report(covid19_test_grounding_absent_prompt_with_caption_llava['role'].values, covid19_test_grounding_absent_prompt_with_caption_llava['prediction'].values, labels=['hero', 'villain', 'victim', 'other']))"
      ],
      "metadata": {
        "id": "u1_OojZKE6TL",
        "colab": {
          "base_uri": "https://localhost:8080/"
        },
        "outputId": "e8142238-0a61-4a25-8948-d4e706284ccb"
      },
      "execution_count": null,
      "outputs": [
        {
          "output_type": "stream",
          "name": "stderr",
          "text": [
            "Token indices sequence length is longer than the specified maximum sequence length for this model (548 > 512). Running this sequence through the model will result in indexing errors\n"
          ]
        },
        {
          "output_type": "stream",
          "name": "stdout",
          "text": [
            "other      300\n",
            "hero       238\n",
            "villain    133\n",
            "victim      87\n",
            "Name: prediction, dtype: int64\n",
            "0\n",
            "0.46268672378731285\n",
            "              precision    recall  f1-score   support\n",
            "\n",
            "        hero       0.48      0.60      0.53       189\n",
            "     villain       0.59      0.42      0.49       190\n",
            "      victim       0.57      0.26      0.36       189\n",
            "       other       0.38      0.60      0.47       190\n",
            "\n",
            "    accuracy                           0.47       758\n",
            "   macro avg       0.51      0.47      0.46       758\n",
            "weighted avg       0.51      0.47      0.46       758\n",
            "\n"
          ]
        }
      ]
    },
    {
      "cell_type": "markdown",
      "source": [
        "GROUNDING [ABSENT] & PROMPT [CAPTION] & CAPTION [BLIP-2]"
      ],
      "metadata": {
        "id": "n3P_lrizy1go"
      }
    },
    {
      "cell_type": "code",
      "source": [
        "covid19_test_grounding_absent_prompt_with_caption_BLIP_2 = constraint22_dataset_covid19_test_captioned_BLIP_2.copy(deep=True)\n",
        "covid19_test_grounding_absent_prompt_with_caption_BLIP_2_images = covid19_test_grounding_absent_prompt_with_caption_BLIP_2['image'].values\n",
        "covid19_test_grounding_absent_prompt_with_caption_BLIP_2_entities = covid19_test_grounding_absent_prompt_with_caption_BLIP_2['entity'].values\n",
        "covid19_test_grounding_absent_prompt_with_caption_BLIP_2_captions = covid19_test_grounding_absent_prompt_with_caption_BLIP_2['caption'].values\n",
        "covid19_test_grounding_absent_prompt_with_caption_BLIP_2['prediction'] = [get_prediction(image, prompt_with_caption(entity, caption)) for image, entity, caption in zip(covid19_test_grounding_absent_prompt_with_caption_BLIP_2_images, covid19_test_grounding_absent_prompt_with_caption_BLIP_2_entities, covid19_test_grounding_absent_prompt_with_caption_BLIP_2_captions)]\n",
        "covid19_test_grounding_absent_prompt_with_caption_BLIP_2.to_csv('/content/drive/MyDrive/stance_detection_datasets/inferences/predictions/constraint22_dataset_covid19_test_grounding[ABSENT]_caption[BLIP_2]_prompt[CAPTION]_prediction[BLIP_2].csv', index=False)\n",
        "covid19_test_grounding_absent_prompt_with_caption_BLIP_2['prediction'] = covid19_test_grounding_absent_prompt_with_caption_BLIP_2['prediction'].apply(lambda x: remap(x))\n",
        "print(covid19_test_grounding_absent_prompt_with_caption_BLIP_2['prediction'].value_counts())\n",
        "print(covid19_test_grounding_absent_prompt_with_caption_BLIP_2['prediction'].isna().sum())\n",
        "covid19_test_grounding_absent_prompt_with_caption_BLIP_2['prediction'] = covid19_test_grounding_absent_prompt_with_caption_BLIP_2['prediction'].apply(lambda x: x if x is not None else np.random.choice(['hero', 'villain', 'victim', 'other']))\n",
        "print(f1_score(covid19_test_grounding_absent_prompt_with_caption_BLIP_2['role'].values, covid19_test_grounding_absent_prompt_with_caption_BLIP_2['prediction'].values, labels=['hero', 'villain', 'victim', 'other'], average='macro'))\n",
        "print(classification_report(covid19_test_grounding_absent_prompt_with_caption_BLIP_2['role'].values, covid19_test_grounding_absent_prompt_with_caption_BLIP_2['prediction'].values, labels=['hero', 'villain', 'victim', 'other']))"
      ],
      "metadata": {
        "id": "xFTHl8sly1oX",
        "colab": {
          "base_uri": "https://localhost:8080/"
        },
        "outputId": "6a6b634d-7243-4511-b1e6-0b6f8121d5ee"
      },
      "execution_count": null,
      "outputs": [
        {
          "output_type": "stream",
          "name": "stdout",
          "text": [
            "other      478\n",
            "hero       186\n",
            "villain     60\n",
            "victim      34\n",
            "Name: prediction, dtype: int64\n",
            "0\n",
            "0.35476910752486057\n",
            "              precision    recall  f1-score   support\n",
            "\n",
            "        hero       0.49      0.49      0.49       189\n",
            "     villain       0.60      0.19      0.29       190\n",
            "      victim       0.68      0.12      0.21       189\n",
            "       other       0.30      0.76      0.43       190\n",
            "\n",
            "    accuracy                           0.39       758\n",
            "   macro avg       0.52      0.39      0.35       758\n",
            "weighted avg       0.52      0.39      0.35       758\n",
            "\n"
          ]
        }
      ]
    }
  ],
  "metadata": {
    "colab": {
      "machine_shape": "hm",
      "provenance": [],
      "gpuType": "A100"
    },
    "kernelspec": {
      "display_name": "Python 3",
      "name": "python3"
    },
    "language_info": {
      "name": "python"
    },
    "accelerator": "GPU"
  },
  "nbformat": 4,
  "nbformat_minor": 0
}