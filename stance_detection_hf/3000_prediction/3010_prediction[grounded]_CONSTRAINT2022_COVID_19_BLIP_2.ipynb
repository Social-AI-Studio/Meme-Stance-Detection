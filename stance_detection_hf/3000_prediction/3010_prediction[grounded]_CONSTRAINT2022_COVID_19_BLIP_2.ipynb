{
  "cells": [
    {
      "cell_type": "markdown",
      "source": [
        "# Import libraries"
      ],
      "metadata": {
        "id": "hw_8I5QeMmqK"
      }
    },
    {
      "cell_type": "code",
      "execution_count": null,
      "metadata": {
        "id": "ZqBeYLjotxgQ"
      },
      "outputs": [],
      "source": [
        "!pip install bitsandbytes>=0.39.0 accelerate>=0.20.0\n",
        "!pip install transformers"
      ]
    },
    {
      "cell_type": "code",
      "source": [
        "import inspect\n",
        "import os\n",
        "import numpy as np\n",
        "import pandas as pd\n",
        "from sklearn.metrics import classification_report\n",
        "from sklearn.metrics import f1_score\n",
        "from PIL import Image\n",
        "from transformers import Blip2Processor, Blip2ForConditionalGeneration"
      ],
      "metadata": {
        "id": "PRBlYYjoZHTZ"
      },
      "execution_count": null,
      "outputs": []
    },
    {
      "cell_type": "markdown",
      "source": [
        "# Instantiate model"
      ],
      "metadata": {
        "id": "N0m8GEpXOtW9"
      }
    },
    {
      "cell_type": "code",
      "source": [
        "# Instantiate BLIP-2 model. via\n",
        "# https://huggingface.co/Salesforce/blip2-flan-t5-xxl\n",
        "processor = Blip2Processor.from_pretrained(\"Salesforce/blip2-flan-t5-xxl\")\n",
        "model = Blip2ForConditionalGeneration.from_pretrained(\"Salesforce/blip2-flan-t5-xxl\", device_map=\"auto\", load_in_8bit=True)"
      ],
      "metadata": {
        "id": "oxkroyd1OuY0"
      },
      "execution_count": null,
      "outputs": []
    },
    {
      "cell_type": "markdown",
      "source": [
        "# Mount drive"
      ],
      "metadata": {
        "id": "gzouBmV4M5iL"
      }
    },
    {
      "cell_type": "code",
      "source": [
        "from google.colab import drive\n",
        "drive.mount('/content/drive')"
      ],
      "metadata": {
        "id": "von6na4lM6-b"
      },
      "execution_count": null,
      "outputs": []
    },
    {
      "cell_type": "markdown",
      "source": [
        "# Create directory to store inferences"
      ],
      "metadata": {
        "id": "xjK-ml8pM-az"
      }
    },
    {
      "cell_type": "code",
      "source": [
        "os.makedirs('/content/drive/MyDrive/stance_detection_datasets/inferences/predictions', exist_ok=True)"
      ],
      "metadata": {
        "id": "Rdpr1wTEM-9L"
      },
      "execution_count": null,
      "outputs": []
    },
    {
      "cell_type": "markdown",
      "source": [
        "# Import datasets"
      ],
      "metadata": {
        "id": "TVLgbMRsNror"
      }
    },
    {
      "cell_type": "markdown",
      "source": [
        "## COVID-19"
      ],
      "metadata": {
        "id": "hcIGtRFQMIOH"
      }
    },
    {
      "cell_type": "code",
      "execution_count": null,
      "metadata": {
        "id": "8VesFLoXN2_I"
      },
      "outputs": [],
      "source": [
        "constraint22_dataset_covid19_test_captioned_Qwen_VL_Chat = pd.read_csv('/content/drive/MyDrive/stance_detection_datasets/inferences/constrain22_dataset_covid19_test_captioned_Qwen-VL-Chat.csv')"
      ]
    },
    {
      "cell_type": "code",
      "source": [
        "constraint22_dataset_covid19_test_grounded_Qwen_VL_Chat = pd.read_csv('/content/drive/MyDrive/stance_detection_datasets/inferences/constrain22_dataset_covid19_test_grounded_Qwen-VL-Chat.csv')"
      ],
      "metadata": {
        "id": "PNpmImY9mMPM"
      },
      "execution_count": null,
      "outputs": []
    },
    {
      "cell_type": "code",
      "source": [
        "constraint22_dataset_covid19_test_captioned_Qwen_VL_Chat = pd.concat([constraint22_dataset_covid19_test_captioned_Qwen_VL_Chat, constraint22_dataset_covid19_test_grounded_Qwen_VL_Chat], axis=1).T.drop_duplicates().T"
      ],
      "metadata": {
        "id": "VSMh-TogmMy4"
      },
      "execution_count": null,
      "outputs": []
    },
    {
      "cell_type": "code",
      "source": [
        "constraint22_dataset_covid19_test_captioned_Qwen_VL_Chat = constraint22_dataset_covid19_test_captioned_Qwen_VL_Chat.dropna().reset_index(drop=True)"
      ],
      "metadata": {
        "id": "C0ZKotonf8Zb"
      },
      "execution_count": null,
      "outputs": []
    },
    {
      "cell_type": "markdown",
      "source": [
        "# Set prompts and define a function to call the model"
      ],
      "metadata": {
        "id": "m6ZqSNNeOFm1"
      }
    },
    {
      "cell_type": "code",
      "source": [
        "def prompt_with_caption(entity, caption):\n",
        "    return inspect.cleandoc(f\"\"\"\n",
        "    Description of this meme: \\\"\\\"\\\"\n",
        "    {caption}\n",
        "    \\\"\\\"\\\"\n",
        "    What is the role of {entity} in this meme?\n",
        "    hero: presented in a positive light.\n",
        "    villain: portrayed negatively, e.g., in an association with adverse traits like wickedness, cruelty, hypocrisy, etc.\n",
        "    victim: portrayed as suffering the negative impact of someone else’s actions.\n",
        "    other: not a hero, a villain, or a victim.\n",
        "    Constraint: Without using any other words, answer either hero, villain, victim, other.\"\"\")"
      ],
      "metadata": {
        "id": "PfVOUxDKJsSX"
      },
      "execution_count": null,
      "outputs": []
    },
    {
      "cell_type": "code",
      "execution_count": null,
      "metadata": {
        "id": "6BHp6PaOOCfw"
      },
      "outputs": [],
      "source": [
        "# Use BLIP-2 for the inference. via\n",
        "# https://huggingface.co/Salesforce/blip2-flan-t5-xxl\n",
        "def get_prediction(image, prompt):\n",
        "    raw_image = Image.open(image).convert('RGB')\n",
        "    inputs = processor(raw_image, prompt, return_tensors=\"pt\").to(\"cuda\")\n",
        "    out = model.generate(**inputs, max_new_tokens=30)\n",
        "    return processor.decode(out[0], skip_special_tokens=True)"
      ]
    },
    {
      "cell_type": "markdown",
      "source": [
        "# Define function to clean responses"
      ],
      "metadata": {
        "id": "I3g57TQeKsmw"
      }
    },
    {
      "cell_type": "code",
      "source": [
        "def remap(x):\n",
        "    x = x.lower()\n",
        "    if x in {'hero', 'villain', 'victim', 'other'}:\n",
        "        return x\n",
        "    elif 'hero' in x and 'villain' not in x and 'victim' not in x and 'other' not in x and 'not hero' not in x and 'not a hero' not in x:\n",
        "        return 'hero'\n",
        "    elif 'villain' in x and 'hero' not in x and 'victim' not in x and 'other' not in x and 'not villain' not in x and 'not a villain' not in x:\n",
        "        return 'villain'\n",
        "    elif 'victim' in x and 'villain' not in x and 'hero' not in x and 'other' not in x and 'not victim' not in x and 'not a victim' not in x:\n",
        "        return 'victim'\n",
        "    elif 'other' in x and 'villain' not in x and 'victim' not in x and 'hero' not in x and 'not other' not in x and 'not an other' not in x:\n",
        "        return 'other'\n",
        "    else:\n",
        "        return None"
      ],
      "metadata": {
        "id": "Q32y0YwRKwL_"
      },
      "execution_count": null,
      "outputs": []
    },
    {
      "cell_type": "markdown",
      "source": [
        "# Call the `get_prediction` function and save inferences"
      ],
      "metadata": {
        "id": "gL5WFrudQxL1"
      }
    },
    {
      "cell_type": "markdown",
      "source": [
        "GROUNDING [PRESENT] & PROMPT [CAPTION] & CAPTION [Qwen_VL_Chat]"
      ],
      "metadata": {
        "id": "3tgRDaJE5OVz"
      }
    },
    {
      "cell_type": "code",
      "source": [
        "covid19_test_grounding_present_prompt_with_caption_Qwen_VL_Chat = constraint22_dataset_covid19_test_captioned_Qwen_VL_Chat.copy(deep=True)\n",
        "covid19_test_grounding_present_prompt_with_caption_Qwen_VL_Chat_images = covid19_test_grounding_present_prompt_with_caption_Qwen_VL_Chat['image_with_grounding'].values\n",
        "covid19_test_grounding_present_prompt_with_caption_Qwen_VL_Chat_entities = covid19_test_grounding_present_prompt_with_caption_Qwen_VL_Chat['entity'].values\n",
        "covid19_test_grounding_present_prompt_with_caption_Qwen_VL_Chat_captions = covid19_test_grounding_present_prompt_with_caption_Qwen_VL_Chat['caption'].values\n",
        "covid19_test_grounding_present_prompt_with_caption_Qwen_VL_Chat['prediction'] = [get_prediction(image, prompt_with_caption(entity, caption)) for image, entity, caption in zip(covid19_test_grounding_present_prompt_with_caption_Qwen_VL_Chat_images, covid19_test_grounding_present_prompt_with_caption_Qwen_VL_Chat_entities, covid19_test_grounding_present_prompt_with_caption_Qwen_VL_Chat_captions)]\n",
        "covid19_test_grounding_present_prompt_with_caption_Qwen_VL_Chat.to_csv('/content/drive/MyDrive/stance_detection_datasets/inferences/predictions/constraint22_dataset_covid19_test_grounding[PRESENT]_caption[Qwen-VL-Chat]_prompt[CAPTION]_prediction[BLIP_2].csv', index=False)\n",
        "covid19_test_grounding_present_prompt_with_caption_Qwen_VL_Chat['prediction'] = covid19_test_grounding_present_prompt_with_caption_Qwen_VL_Chat['prediction'].apply(lambda x: remap(x))\n",
        "print(covid19_test_grounding_present_prompt_with_caption_Qwen_VL_Chat['prediction'].value_counts())\n",
        "print(covid19_test_grounding_present_prompt_with_caption_Qwen_VL_Chat['prediction'].isna().sum())\n",
        "covid19_test_grounding_present_prompt_with_caption_Qwen_VL_Chat['prediction'] = covid19_test_grounding_present_prompt_with_caption_Qwen_VL_Chat['prediction'].apply(lambda x: x if x is not None else np.random.choice(['hero', 'villain', 'victim', 'other']))\n",
        "print(f1_score(covid19_test_grounding_present_prompt_with_caption_Qwen_VL_Chat['role'].values, covid19_test_grounding_present_prompt_with_caption_Qwen_VL_Chat['prediction'].values, labels=['hero', 'villain', 'victim', 'other'], average='macro'))\n",
        "print(classification_report(covid19_test_grounding_present_prompt_with_caption_Qwen_VL_Chat['role'].values, covid19_test_grounding_present_prompt_with_caption_Qwen_VL_Chat['prediction'].values, labels=['hero', 'villain', 'victim', 'other']))"
      ],
      "metadata": {
        "id": "TQJ1tGEotFFX",
        "colab": {
          "base_uri": "https://localhost:8080/"
        },
        "outputId": "612a05aa-f5a1-4f4b-fc04-58bac0451ebd"
      },
      "execution_count": null,
      "outputs": [
        {
          "output_type": "stream",
          "name": "stdout",
          "text": [
            "other      287\n",
            "hero       255\n",
            "villain    129\n",
            "victim      87\n",
            "Name: prediction, dtype: int64\n",
            "0\n",
            "0.5093047782893898\n",
            "              precision    recall  f1-score   support\n",
            "\n",
            "        hero       0.55      0.75      0.64       189\n",
            "     villain       0.64      0.43      0.51       190\n",
            "      victim       0.64      0.30      0.41       189\n",
            "       other       0.40      0.61      0.48       190\n",
            "\n",
            "    accuracy                           0.52       758\n",
            "   macro avg       0.56      0.52      0.51       758\n",
            "weighted avg       0.56      0.52      0.51       758\n",
            "\n"
          ]
        }
      ]
    }
  ],
  "metadata": {
    "colab": {
      "machine_shape": "hm",
      "provenance": [],
      "gpuType": "A100"
    },
    "kernelspec": {
      "display_name": "Python 3",
      "name": "python3"
    },
    "language_info": {
      "name": "python"
    },
    "accelerator": "GPU"
  },
  "nbformat": 4,
  "nbformat_minor": 0
}