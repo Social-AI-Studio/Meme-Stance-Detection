{
  "cells": [
    {
      "cell_type": "markdown",
      "source": [
        "# Import libraries"
      ],
      "metadata": {
        "id": "hw_8I5QeMmqK"
      }
    },
    {
      "cell_type": "code",
      "execution_count": null,
      "metadata": {
        "id": "ZqBeYLjotxgQ"
      },
      "outputs": [],
      "source": [
        "!pip install einops timm sentencepiece"
      ]
    },
    {
      "cell_type": "code",
      "source": [
        "import inspect\n",
        "import os\n",
        "import numpy as np\n",
        "import pandas as pd\n",
        "from sklearn.metrics import classification_report\n",
        "from sklearn.metrics import f1_score\n",
        "import torch\n",
        "from transformers import AutoModel, AutoTokenizer\n",
        "torch.set_grad_enabled(False)"
      ],
      "metadata": {
        "id": "PRBlYYjoZHTZ"
      },
      "execution_count": null,
      "outputs": []
    },
    {
      "cell_type": "markdown",
      "source": [
        "# Instantiate model"
      ],
      "metadata": {
        "id": "N0m8GEpXOtW9"
      }
    },
    {
      "cell_type": "code",
      "source": [
        "# Instantiate InternLM-XComposer model. via\n",
        "# https://github.com/InternLM/InternLM-XComposer\n",
        "model = AutoModel.from_pretrained('internlm/internlm-xcomposer-7b', trust_remote_code=True).cuda().eval()\n",
        "tokenizer = AutoTokenizer.from_pretrained('internlm/internlm-xcomposer-7b', trust_remote_code=True)\n",
        "model.tokenizer = tokenizer"
      ],
      "metadata": {
        "id": "oxkroyd1OuY0"
      },
      "execution_count": null,
      "outputs": []
    },
    {
      "cell_type": "markdown",
      "source": [
        "# Mount drive"
      ],
      "metadata": {
        "id": "gzouBmV4M5iL"
      }
    },
    {
      "cell_type": "code",
      "source": [
        "from google.colab import drive\n",
        "drive.mount('/content/drive')"
      ],
      "metadata": {
        "id": "von6na4lM6-b"
      },
      "execution_count": null,
      "outputs": []
    },
    {
      "cell_type": "markdown",
      "source": [
        "# Create directory to store inferences"
      ],
      "metadata": {
        "id": "xjK-ml8pM-az"
      }
    },
    {
      "cell_type": "code",
      "source": [
        "os.makedirs('/content/drive/MyDrive/stance_detection_datasets/inferences/predictions', exist_ok=True)"
      ],
      "metadata": {
        "id": "Rdpr1wTEM-9L"
      },
      "execution_count": null,
      "outputs": []
    },
    {
      "cell_type": "markdown",
      "source": [
        "# Import datasets"
      ],
      "metadata": {
        "id": "TVLgbMRsNror"
      }
    },
    {
      "cell_type": "markdown",
      "source": [
        "## DISARM"
      ],
      "metadata": {
        "id": "hcIGtRFQMIOH"
      }
    },
    {
      "cell_type": "code",
      "execution_count": null,
      "metadata": {
        "id": "8VesFLoXN2_I"
      },
      "outputs": [],
      "source": [
        "DISARM_test_all_captioned_Qwen_VL_Chat = pd.read_csv('/content/drive/MyDrive/stance_detection_datasets/inferences/DISARM_test_all_captioned_Qwen-VL-Chat.csv')\n",
        "DISARM_test_all_captioned_InternLM_XComposer = pd.read_csv('/content/drive/MyDrive/stance_detection_datasets/inferences/DISARM_test_all_captioned_InternLM-XComposer.csv')\n",
        "DISARM_test_all_captioned_llava = pd.read_csv('/content/drive/MyDrive/stance_detection_datasets/inferences/DISARM_test_all_captioned_llava-v1.5-13b.csv')\n",
        "DISARM_test_all_captioned_BLIP_2 = pd.read_csv('/content/drive/MyDrive/stance_detection_datasets/inferences/DISARM_test_all_captioned_BLIP-2.csv')"
      ]
    },
    {
      "cell_type": "markdown",
      "source": [
        "# Set prompts and define a function to call the model"
      ],
      "metadata": {
        "id": "m6ZqSNNeOFm1"
      }
    },
    {
      "cell_type": "code",
      "source": [
        "def prompt_vanilla(entity):\n",
        "    return inspect.cleandoc(f\"\"\"\n",
        "    Does this meme harmfully target {entity}?\n",
        "    yes: a social entity is subjected to some form of ill-treatment such as mental abuse, psycho-physiological injury, proprietary damage, emotional disturbance, or public image damage, based on their background (bias, social background, educational background, etc.) by a meme author.\n",
        "    no: any benign mention (or depiction) of a social entity via humour, limerick, harmless pun or any content that does not cause distress.\n",
        "    Constraint: Without using any other words, answer either yes or no.\"\"\")"
      ],
      "metadata": {
        "id": "J8n5Qo7aJa3X"
      },
      "execution_count": null,
      "outputs": []
    },
    {
      "cell_type": "code",
      "source": [
        "def prompt_with_OCR(entity, OCR):\n",
        "    return inspect.cleandoc(f\"\"\"\n",
        "    Text on this meme: \\\"\\\"\\\"\n",
        "    {OCR}\n",
        "    \\\"\\\"\\\"\n",
        "    Does this meme harmfully target {entity}?\n",
        "    yes: a social entity is subjected to some form of ill-treatment such as mental abuse, psycho-physiological injury, proprietary damage, emotional disturbance, or public image damage, based on their background (bias, social background, educational background, etc.) by a meme author.\n",
        "    no: any benign mention (or depiction) of a social entity via humour, limerick, harmless pun or any content that does not cause distress.\n",
        "    Constraint: Without using any other words, answer either yes or no.\"\"\")"
      ],
      "metadata": {
        "id": "RDItgC52Jmvf"
      },
      "execution_count": null,
      "outputs": []
    },
    {
      "cell_type": "code",
      "source": [
        "def prompt_with_caption(entity, caption):\n",
        "    return inspect.cleandoc(f\"\"\"\n",
        "    Description of this meme: \\\"\\\"\\\"\n",
        "    {caption}\n",
        "    \\\"\\\"\\\"\n",
        "    Does this meme harmfully target {entity}?\n",
        "    yes: a social entity is subjected to some form of ill-treatment such as mental abuse, psycho-physiological injury, proprietary damage, emotional disturbance, or public image damage, based on their background (bias, social background, educational background, etc.) by a meme author.\n",
        "    no: any benign mention (or depiction) of a social entity via humour, limerick, harmless pun or any content that does not cause distress.\n",
        "    Constraint: Without using any other words, answer either yes or no.\"\"\")"
      ],
      "metadata": {
        "id": "PfVOUxDKJsSX"
      },
      "execution_count": null,
      "outputs": []
    },
    {
      "cell_type": "code",
      "execution_count": null,
      "metadata": {
        "id": "6BHp6PaOOCfw"
      },
      "outputs": [],
      "source": [
        "# Use InternLM-XComposer for the inference. via\n",
        "# https://github.com/InternLM/InternLM-XComposer\n",
        "def get_prediction(image, prompt):\n",
        "    response = model.generate(prompt, image)\n",
        "    return response"
      ]
    },
    {
      "cell_type": "markdown",
      "source": [
        "# Define function to clean responses"
      ],
      "metadata": {
        "id": "I3g57TQeKsmw"
      }
    },
    {
      "cell_type": "code",
      "source": [
        "def remap(x):\n",
        "    x = x.lower()\n",
        "    if x == 'yes':\n",
        "        return 'harmful'\n",
        "    elif x == 'no':\n",
        "        return 'not harmful'\n",
        "    elif 'yes' in x and 'no' not in x:\n",
        "        return 'harmful'\n",
        "    elif 'no' in x and 'yes' not in x and 'not' not in x:\n",
        "        return 'not harmful'\n",
        "    else:\n",
        "        return None"
      ],
      "metadata": {
        "id": "Q32y0YwRKwL_"
      },
      "execution_count": null,
      "outputs": []
    },
    {
      "cell_type": "markdown",
      "source": [
        "# Call the `get_prediction` function and save inferences"
      ],
      "metadata": {
        "id": "gL5WFrudQxL1"
      }
    },
    {
      "cell_type": "markdown",
      "source": [
        "GROUNDING [ABSENT] & PROMPT [VANILLA]"
      ],
      "metadata": {
        "id": "-c9f4n6OOOdn"
      }
    },
    {
      "cell_type": "code",
      "source": [
        "DISARM_test_all_grounding_absent_prompt_vanilla = DISARM_test_all_captioned_Qwen_VL_Chat.copy(deep=True)\n",
        "DISARM_test_all_grounding_absent_prompt_vanilla_images = DISARM_test_all_grounding_absent_prompt_vanilla['image'].values\n",
        "DISARM_test_all_grounding_absent_prompt_vanilla_entities = DISARM_test_all_grounding_absent_prompt_vanilla['target'].values\n",
        "DISARM_test_all_grounding_absent_prompt_vanilla['prediction'] = [get_prediction(image, prompt_vanilla(entity)) for image, entity in zip(DISARM_test_all_grounding_absent_prompt_vanilla_images, DISARM_test_all_grounding_absent_prompt_vanilla_entities)]\n",
        "DISARM_test_all_grounding_absent_prompt_vanilla.to_csv('/content/drive/MyDrive/stance_detection_datasets/inferences/predictions/DISARM_test_all_grounding[ABSENT]_prompt[VANILLA]_prediction[InternLM-XComposer].csv', index=False)\n",
        "DISARM_test_all_grounding_absent_prompt_vanilla['prediction'] = DISARM_test_all_grounding_absent_prompt_vanilla['prediction'].apply(lambda x: remap(x))\n",
        "print(DISARM_test_all_grounding_absent_prompt_vanilla['prediction'].value_counts())\n",
        "print(DISARM_test_all_grounding_absent_prompt_vanilla['prediction'].isna().sum())\n",
        "DISARM_test_all_grounding_absent_prompt_vanilla['prediction'] = DISARM_test_all_grounding_absent_prompt_vanilla['prediction'].apply(lambda x: x if x is not None else np.random.choice(['harmful', 'not harmful']))\n",
        "print(f1_score(DISARM_test_all_grounding_absent_prompt_vanilla['labels'].values, DISARM_test_all_grounding_absent_prompt_vanilla['prediction'].values, labels=['harmful', 'not harmful'], average='macro'))\n",
        "print(classification_report(DISARM_test_all_grounding_absent_prompt_vanilla['labels'].values, DISARM_test_all_grounding_absent_prompt_vanilla['prediction'].values, labels=['harmful', 'not harmful']))"
      ],
      "metadata": {
        "id": "vFgw1XowtB_7",
        "colab": {
          "base_uri": "https://localhost:8080/"
        },
        "outputId": "cecea042-991e-4cf9-f7ee-45ac85180013"
      },
      "execution_count": null,
      "outputs": [
        {
          "output_type": "stream",
          "name": "stdout",
          "text": [
            "not harmful    612\n",
            "Name: prediction, dtype: int64\n",
            "0\n",
            "0.32599118942731276\n",
            "              precision    recall  f1-score   support\n",
            "\n",
            "     harmful       0.00      0.00      0.00       316\n",
            " not harmful       0.48      1.00      0.65       296\n",
            "\n",
            "    accuracy                           0.48       612\n",
            "   macro avg       0.24      0.50      0.33       612\n",
            "weighted avg       0.23      0.48      0.32       612\n",
            "\n"
          ]
        },
        {
          "output_type": "stream",
          "name": "stderr",
          "text": [
            "/usr/local/lib/python3.10/dist-packages/sklearn/metrics/_classification.py:1344: UndefinedMetricWarning: Precision and F-score are ill-defined and being set to 0.0 in labels with no predicted samples. Use `zero_division` parameter to control this behavior.\n",
            "  _warn_prf(average, modifier, msg_start, len(result))\n",
            "/usr/local/lib/python3.10/dist-packages/sklearn/metrics/_classification.py:1344: UndefinedMetricWarning: Precision and F-score are ill-defined and being set to 0.0 in labels with no predicted samples. Use `zero_division` parameter to control this behavior.\n",
            "  _warn_prf(average, modifier, msg_start, len(result))\n",
            "/usr/local/lib/python3.10/dist-packages/sklearn/metrics/_classification.py:1344: UndefinedMetricWarning: Precision and F-score are ill-defined and being set to 0.0 in labels with no predicted samples. Use `zero_division` parameter to control this behavior.\n",
            "  _warn_prf(average, modifier, msg_start, len(result))\n"
          ]
        }
      ]
    },
    {
      "cell_type": "markdown",
      "source": [
        "GROUNDING [ABSENT] & PROMPT [OCR]"
      ],
      "metadata": {
        "id": "0RQFR_yGtKKe"
      }
    },
    {
      "cell_type": "code",
      "source": [
        "DISARM_test_all_grounding_absent_prompt_with_OCR = DISARM_test_all_captioned_Qwen_VL_Chat.copy(deep=True)\n",
        "DISARM_test_all_grounding_absent_prompt_with_OCR_images = DISARM_test_all_grounding_absent_prompt_with_OCR['image'].values\n",
        "DISARM_test_all_grounding_absent_prompt_with_OCR_entities = DISARM_test_all_grounding_absent_prompt_with_OCR['target'].values\n",
        "DISARM_test_all_grounding_absent_prompt_with_OCR_texts = DISARM_test_all_grounding_absent_prompt_with_OCR['extracted_text'].values\n",
        "DISARM_test_all_grounding_absent_prompt_with_OCR['prediction'] = [get_prediction(image, prompt_with_OCR(entity, text)) for image, entity, text in zip(DISARM_test_all_grounding_absent_prompt_with_OCR_images, DISARM_test_all_grounding_absent_prompt_with_OCR_entities, DISARM_test_all_grounding_absent_prompt_with_OCR_texts)]\n",
        "DISARM_test_all_grounding_absent_prompt_with_OCR.to_csv('/content/drive/MyDrive/stance_detection_datasets/inferences/predictions/DISARM_test_all_grounding[ABSENT]_prompt[OCR]_prediction[InternLM-XComposer].csv', index=False)\n",
        "DISARM_test_all_grounding_absent_prompt_with_OCR['prediction'] = DISARM_test_all_grounding_absent_prompt_with_OCR['prediction'].apply(lambda x: remap(x))\n",
        "print(DISARM_test_all_grounding_absent_prompt_with_OCR['prediction'].value_counts())\n",
        "print(DISARM_test_all_grounding_absent_prompt_with_OCR['prediction'].isna().sum())\n",
        "DISARM_test_all_grounding_absent_prompt_with_OCR['prediction'] = DISARM_test_all_grounding_absent_prompt_with_OCR['prediction'].apply(lambda x: x if x is not None else np.random.choice(['harmful', 'not harmful']))\n",
        "print(f1_score(DISARM_test_all_grounding_absent_prompt_with_OCR['labels'].values, DISARM_test_all_grounding_absent_prompt_with_OCR['prediction'].values, labels=['harmful', 'not harmful'], average='macro'))\n",
        "print(classification_report(DISARM_test_all_grounding_absent_prompt_with_OCR['labels'].values, DISARM_test_all_grounding_absent_prompt_with_OCR['prediction'].values, labels=['harmful', 'not harmful']))"
      ],
      "metadata": {
        "colab": {
          "base_uri": "https://localhost:8080/"
        },
        "id": "l8G9Kp9_V11F",
        "outputId": "d2622399-3df7-4c8d-f414-4ba292ffe687"
      },
      "execution_count": null,
      "outputs": [
        {
          "output_type": "stream",
          "name": "stdout",
          "text": [
            "not harmful    612\n",
            "Name: prediction, dtype: int64\n",
            "0\n",
            "0.32599118942731276\n",
            "              precision    recall  f1-score   support\n",
            "\n",
            "     harmful       0.00      0.00      0.00       316\n",
            " not harmful       0.48      1.00      0.65       296\n",
            "\n",
            "    accuracy                           0.48       612\n",
            "   macro avg       0.24      0.50      0.33       612\n",
            "weighted avg       0.23      0.48      0.32       612\n",
            "\n"
          ]
        },
        {
          "output_type": "stream",
          "name": "stderr",
          "text": [
            "/usr/local/lib/python3.10/dist-packages/sklearn/metrics/_classification.py:1344: UndefinedMetricWarning: Precision and F-score are ill-defined and being set to 0.0 in labels with no predicted samples. Use `zero_division` parameter to control this behavior.\n",
            "  _warn_prf(average, modifier, msg_start, len(result))\n",
            "/usr/local/lib/python3.10/dist-packages/sklearn/metrics/_classification.py:1344: UndefinedMetricWarning: Precision and F-score are ill-defined and being set to 0.0 in labels with no predicted samples. Use `zero_division` parameter to control this behavior.\n",
            "  _warn_prf(average, modifier, msg_start, len(result))\n",
            "/usr/local/lib/python3.10/dist-packages/sklearn/metrics/_classification.py:1344: UndefinedMetricWarning: Precision and F-score are ill-defined and being set to 0.0 in labels with no predicted samples. Use `zero_division` parameter to control this behavior.\n",
            "  _warn_prf(average, modifier, msg_start, len(result))\n"
          ]
        }
      ]
    },
    {
      "cell_type": "markdown",
      "source": [
        "GROUNDING [ABSENT] & PROMPT [CAPTION] & CAPTION [Qwen_VL_Chat]"
      ],
      "metadata": {
        "id": "3tgRDaJE5OVz"
      }
    },
    {
      "cell_type": "code",
      "source": [
        "DISARM_test_all_grounding_absent_prompt_with_caption_Qwen_VL_Chat = DISARM_test_all_captioned_Qwen_VL_Chat.copy(deep=True)\n",
        "DISARM_test_all_grounding_absent_prompt_with_caption_Qwen_VL_Chat_images = DISARM_test_all_grounding_absent_prompt_with_caption_Qwen_VL_Chat['image'].values\n",
        "DISARM_test_all_grounding_absent_prompt_with_caption_Qwen_VL_Chat_entities = DISARM_test_all_grounding_absent_prompt_with_caption_Qwen_VL_Chat['target'].values\n",
        "DISARM_test_all_grounding_absent_prompt_with_caption_Qwen_VL_Chat_captions = DISARM_test_all_grounding_absent_prompt_with_caption_Qwen_VL_Chat['caption'].values\n",
        "DISARM_test_all_grounding_absent_prompt_with_caption_Qwen_VL_Chat['prediction'] = [get_prediction(image, prompt_with_caption(entity, caption)) for image, entity, caption in zip(DISARM_test_all_grounding_absent_prompt_with_caption_Qwen_VL_Chat_images, DISARM_test_all_grounding_absent_prompt_with_caption_Qwen_VL_Chat_entities, DISARM_test_all_grounding_absent_prompt_with_caption_Qwen_VL_Chat_captions)]\n",
        "DISARM_test_all_grounding_absent_prompt_with_caption_Qwen_VL_Chat.to_csv('/content/drive/MyDrive/stance_detection_datasets/inferences/predictions/DISARM_test_all_grounding[ABSENT]_caption[Qwen-VL-Chat]_prompt[CAPTION]_prediction[InternLM-XComposer].csv', index=False)\n",
        "DISARM_test_all_grounding_absent_prompt_with_caption_Qwen_VL_Chat['prediction'] = DISARM_test_all_grounding_absent_prompt_with_caption_Qwen_VL_Chat['prediction'].apply(lambda x: remap(x))\n",
        "print(DISARM_test_all_grounding_absent_prompt_with_caption_Qwen_VL_Chat['prediction'].value_counts())\n",
        "print(DISARM_test_all_grounding_absent_prompt_with_caption_Qwen_VL_Chat['prediction'].isna().sum())\n",
        "DISARM_test_all_grounding_absent_prompt_with_caption_Qwen_VL_Chat['prediction'] = DISARM_test_all_grounding_absent_prompt_with_caption_Qwen_VL_Chat['prediction'].apply(lambda x: x if x is not None else np.random.choice(['harmful', 'not harmful']))\n",
        "print(f1_score(DISARM_test_all_grounding_absent_prompt_with_caption_Qwen_VL_Chat['labels'].values, DISARM_test_all_grounding_absent_prompt_with_caption_Qwen_VL_Chat['prediction'].values, labels=['harmful', 'not harmful'], average='macro'))\n",
        "print(classification_report(DISARM_test_all_grounding_absent_prompt_with_caption_Qwen_VL_Chat['labels'].values, DISARM_test_all_grounding_absent_prompt_with_caption_Qwen_VL_Chat['prediction'].values, labels=['harmful', 'not harmful']))"
      ],
      "metadata": {
        "colab": {
          "base_uri": "https://localhost:8080/"
        },
        "id": "TQJ1tGEotFFX",
        "outputId": "b2ab45cc-f150-495b-c034-8f92822ca090"
      },
      "execution_count": null,
      "outputs": [
        {
          "output_type": "stream",
          "name": "stdout",
          "text": [
            "not harmful    593\n",
            "harmful         19\n",
            "Name: prediction, dtype: int64\n",
            "0\n",
            "0.3444655238990648\n",
            "              precision    recall  f1-score   support\n",
            "\n",
            "     harmful       0.42      0.03      0.05       316\n",
            " not harmful       0.48      0.96      0.64       296\n",
            "\n",
            "    accuracy                           0.48       612\n",
            "   macro avg       0.45      0.49      0.34       612\n",
            "weighted avg       0.45      0.48      0.33       612\n",
            "\n"
          ]
        }
      ]
    },
    {
      "cell_type": "markdown",
      "source": [
        "GROUNDING [ABSENT] & PROMPT [CAPTION] & CAPTION [InternLM_XComposer]"
      ],
      "metadata": {
        "id": "8eWnRoPz5Tq6"
      }
    },
    {
      "cell_type": "code",
      "source": [
        "DISARM_test_all_grounding_absent_prompt_with_caption_InternLM_XComposer = DISARM_test_all_captioned_InternLM_XComposer.copy(deep=True)\n",
        "DISARM_test_all_grounding_absent_prompt_with_caption_InternLM_XComposer_images = DISARM_test_all_grounding_absent_prompt_with_caption_InternLM_XComposer['image'].values\n",
        "DISARM_test_all_grounding_absent_prompt_with_caption_InternLM_XComposer_entities = DISARM_test_all_grounding_absent_prompt_with_caption_InternLM_XComposer['target'].values\n",
        "DISARM_test_all_grounding_absent_prompt_with_caption_InternLM_XComposer_captions = DISARM_test_all_grounding_absent_prompt_with_caption_InternLM_XComposer['caption'].values\n",
        "DISARM_test_all_grounding_absent_prompt_with_caption_InternLM_XComposer['prediction'] = [get_prediction(image, prompt_with_caption(entity, caption)) for image, entity, caption in zip(DISARM_test_all_grounding_absent_prompt_with_caption_InternLM_XComposer_images, DISARM_test_all_grounding_absent_prompt_with_caption_InternLM_XComposer_entities, DISARM_test_all_grounding_absent_prompt_with_caption_InternLM_XComposer_captions)]\n",
        "DISARM_test_all_grounding_absent_prompt_with_caption_InternLM_XComposer.to_csv('/content/drive/MyDrive/stance_detection_datasets/inferences/predictions/DISARM_test_all_grounding[ABSENT]_caption[InternLM-XComposer]_prompt[CAPTION]_prediction[InternLM-XComposer].csv', index=False)\n",
        "DISARM_test_all_grounding_absent_prompt_with_caption_InternLM_XComposer['prediction'] = DISARM_test_all_grounding_absent_prompt_with_caption_InternLM_XComposer['prediction'].apply(lambda x: remap(x))\n",
        "print(DISARM_test_all_grounding_absent_prompt_with_caption_InternLM_XComposer['prediction'].value_counts())\n",
        "print(DISARM_test_all_grounding_absent_prompt_with_caption_InternLM_XComposer['prediction'].isna().sum())\n",
        "DISARM_test_all_grounding_absent_prompt_with_caption_InternLM_XComposer['prediction'] = DISARM_test_all_grounding_absent_prompt_with_caption_InternLM_XComposer['prediction'].apply(lambda x: x if x is not None else np.random.choice(['harmful', 'not harmful']))\n",
        "print(f1_score(DISARM_test_all_grounding_absent_prompt_with_caption_InternLM_XComposer['labels'].values, DISARM_test_all_grounding_absent_prompt_with_caption_InternLM_XComposer['prediction'].values, labels=['harmful', 'not harmful'], average='macro'))\n",
        "print(classification_report(DISARM_test_all_grounding_absent_prompt_with_caption_InternLM_XComposer['labels'].values, DISARM_test_all_grounding_absent_prompt_with_caption_InternLM_XComposer['prediction'].values, labels=['harmful', 'not harmful']))"
      ],
      "metadata": {
        "id": "6CJ-oeaR4rHy",
        "colab": {
          "base_uri": "https://localhost:8080/"
        },
        "outputId": "cbe394b3-b691-42a6-d1a9-762948842640"
      },
      "execution_count": null,
      "outputs": [
        {
          "output_type": "stream",
          "name": "stdout",
          "text": [
            "not harmful    590\n",
            "harmful         22\n",
            "Name: prediction, dtype: int64\n",
            "0\n",
            "0.3828255439646306\n",
            "              precision    recall  f1-score   support\n",
            "\n",
            "     harmful       0.82      0.06      0.11       316\n",
            " not harmful       0.49      0.99      0.66       296\n",
            "\n",
            "    accuracy                           0.51       612\n",
            "   macro avg       0.66      0.52      0.38       612\n",
            "weighted avg       0.66      0.51      0.37       612\n",
            "\n"
          ]
        }
      ]
    },
    {
      "cell_type": "markdown",
      "source": [
        "GROUNDING [ABSENT] & PROMPT [CAPTION] & CAPTION [llava]"
      ],
      "metadata": {
        "id": "eBCUJcrvE6JE"
      }
    },
    {
      "cell_type": "code",
      "source": [
        "DISARM_test_all_grounding_absent_prompt_with_caption_llava = DISARM_test_all_captioned_llava.copy(deep=True)\n",
        "DISARM_test_all_grounding_absent_prompt_with_caption_llava_images = DISARM_test_all_grounding_absent_prompt_with_caption_llava['image'].values\n",
        "DISARM_test_all_grounding_absent_prompt_with_caption_llava_entities = DISARM_test_all_grounding_absent_prompt_with_caption_llava['target'].values\n",
        "DISARM_test_all_grounding_absent_prompt_with_caption_llava_captions = DISARM_test_all_grounding_absent_prompt_with_caption_llava['caption'].values\n",
        "DISARM_test_all_grounding_absent_prompt_with_caption_llava['prediction'] = [get_prediction(image, prompt_with_caption(entity, caption)) for image, entity, caption in zip(DISARM_test_all_grounding_absent_prompt_with_caption_llava_images, DISARM_test_all_grounding_absent_prompt_with_caption_llava_entities, DISARM_test_all_grounding_absent_prompt_with_caption_llava_captions)]\n",
        "DISARM_test_all_grounding_absent_prompt_with_caption_llava.to_csv('/content/drive/MyDrive/stance_detection_datasets/inferences/predictions/DISARM_test_all_grounding[ABSENT]_caption[llava-v1.5-13b]_prompt[CAPTION]_prediction[InternLM-XComposer].csv', index=False)\n",
        "DISARM_test_all_grounding_absent_prompt_with_caption_llava['prediction'] = DISARM_test_all_grounding_absent_prompt_with_caption_llava['prediction'].apply(lambda x: remap(x))\n",
        "print(DISARM_test_all_grounding_absent_prompt_with_caption_llava['prediction'].value_counts())\n",
        "print(DISARM_test_all_grounding_absent_prompt_with_caption_llava['prediction'].isna().sum())\n",
        "DISARM_test_all_grounding_absent_prompt_with_caption_llava['prediction'] = DISARM_test_all_grounding_absent_prompt_with_caption_llava['prediction'].apply(lambda x: x if x is not None else np.random.choice(['harmful', 'not harmful']))\n",
        "print(f1_score(DISARM_test_all_grounding_absent_prompt_with_caption_llava['labels'].values, DISARM_test_all_grounding_absent_prompt_with_caption_llava['prediction'].values, labels=['harmful', 'not harmful'], average='macro'))\n",
        "print(classification_report(DISARM_test_all_grounding_absent_prompt_with_caption_llava['labels'].values, DISARM_test_all_grounding_absent_prompt_with_caption_llava['prediction'].values, labels=['harmful', 'not harmful']))"
      ],
      "metadata": {
        "id": "u1_OojZKE6TL",
        "colab": {
          "base_uri": "https://localhost:8080/"
        },
        "outputId": "b45151e0-517a-44cf-ab5f-04da7b147220"
      },
      "execution_count": null,
      "outputs": [
        {
          "output_type": "stream",
          "name": "stdout",
          "text": [
            "not harmful    607\n",
            "harmful          5\n",
            "Name: prediction, dtype: int64\n",
            "0\n",
            "0.33914987425093923\n",
            "              precision    recall  f1-score   support\n",
            "\n",
            "     harmful       0.80      0.01      0.02       316\n",
            " not harmful       0.49      1.00      0.65       296\n",
            "\n",
            "    accuracy                           0.49       612\n",
            "   macro avg       0.64      0.50      0.34       612\n",
            "weighted avg       0.65      0.49      0.33       612\n",
            "\n"
          ]
        }
      ]
    },
    {
      "cell_type": "markdown",
      "source": [
        "GROUNDING [ABSENT] & PROMPT [CAPTION] & CAPTION [BLIP-2]"
      ],
      "metadata": {
        "id": "tnTDhLA_wrU6"
      }
    },
    {
      "cell_type": "code",
      "source": [
        "DISARM_test_all_grounding_absent_prompt_with_caption_BLIP_2 = DISARM_test_all_captioned_BLIP_2.copy(deep=True)\n",
        "DISARM_test_all_grounding_absent_prompt_with_caption_BLIP_2_images = DISARM_test_all_grounding_absent_prompt_with_caption_BLIP_2['image'].values\n",
        "DISARM_test_all_grounding_absent_prompt_with_caption_BLIP_2_entities = DISARM_test_all_grounding_absent_prompt_with_caption_BLIP_2['target'].values\n",
        "DISARM_test_all_grounding_absent_prompt_with_caption_BLIP_2_captions = DISARM_test_all_grounding_absent_prompt_with_caption_BLIP_2['caption'].values\n",
        "DISARM_test_all_grounding_absent_prompt_with_caption_BLIP_2['prediction'] = [get_prediction(image, prompt_with_caption(entity, caption)) for image, entity, caption in zip(DISARM_test_all_grounding_absent_prompt_with_caption_BLIP_2_images, DISARM_test_all_grounding_absent_prompt_with_caption_BLIP_2_entities, DISARM_test_all_grounding_absent_prompt_with_caption_BLIP_2_captions)]\n",
        "DISARM_test_all_grounding_absent_prompt_with_caption_BLIP_2.to_csv('/content/drive/MyDrive/stance_detection_datasets/inferences/predictions/DISARM_test_all_grounding[ABSENT]_caption[BLIP_2]_prompt[CAPTION]_prediction[InternLM-XComposer].csv', index=False)\n",
        "DISARM_test_all_grounding_absent_prompt_with_caption_BLIP_2['prediction'] = DISARM_test_all_grounding_absent_prompt_with_caption_BLIP_2['prediction'].apply(lambda x: remap(x))\n",
        "print(DISARM_test_all_grounding_absent_prompt_with_caption_BLIP_2['prediction'].value_counts())\n",
        "print(DISARM_test_all_grounding_absent_prompt_with_caption_BLIP_2['prediction'].isna().sum())\n",
        "DISARM_test_all_grounding_absent_prompt_with_caption_BLIP_2['prediction'] = DISARM_test_all_grounding_absent_prompt_with_caption_BLIP_2['prediction'].apply(lambda x: x if x is not None else np.random.choice(['harmful', 'not harmful']))\n",
        "print(f1_score(DISARM_test_all_grounding_absent_prompt_with_caption_BLIP_2['labels'].values, DISARM_test_all_grounding_absent_prompt_with_caption_BLIP_2['prediction'].values, labels=['harmful', 'not harmful'], average='macro'))\n",
        "print(classification_report(DISARM_test_all_grounding_absent_prompt_with_caption_BLIP_2['labels'].values, DISARM_test_all_grounding_absent_prompt_with_caption_BLIP_2['prediction'].values, labels=['harmful', 'not harmful']))"
      ],
      "metadata": {
        "id": "dO8Wv7vDwreo",
        "colab": {
          "base_uri": "https://localhost:8080/"
        },
        "outputId": "ae966ada-9e92-4b76-9860-ba3c10472eea"
      },
      "execution_count": null,
      "outputs": [
        {
          "output_type": "stream",
          "name": "stdout",
          "text": [
            "not harmful    612\n",
            "Name: prediction, dtype: int64\n",
            "0\n",
            "0.32599118942731276\n",
            "              precision    recall  f1-score   support\n",
            "\n",
            "     harmful       0.00      0.00      0.00       316\n",
            " not harmful       0.48      1.00      0.65       296\n",
            "\n",
            "    accuracy                           0.48       612\n",
            "   macro avg       0.24      0.50      0.33       612\n",
            "weighted avg       0.23      0.48      0.32       612\n",
            "\n"
          ]
        },
        {
          "output_type": "stream",
          "name": "stderr",
          "text": [
            "/usr/local/lib/python3.10/dist-packages/sklearn/metrics/_classification.py:1344: UndefinedMetricWarning: Precision and F-score are ill-defined and being set to 0.0 in labels with no predicted samples. Use `zero_division` parameter to control this behavior.\n",
            "  _warn_prf(average, modifier, msg_start, len(result))\n",
            "/usr/local/lib/python3.10/dist-packages/sklearn/metrics/_classification.py:1344: UndefinedMetricWarning: Precision and F-score are ill-defined and being set to 0.0 in labels with no predicted samples. Use `zero_division` parameter to control this behavior.\n",
            "  _warn_prf(average, modifier, msg_start, len(result))\n",
            "/usr/local/lib/python3.10/dist-packages/sklearn/metrics/_classification.py:1344: UndefinedMetricWarning: Precision and F-score are ill-defined and being set to 0.0 in labels with no predicted samples. Use `zero_division` parameter to control this behavior.\n",
            "  _warn_prf(average, modifier, msg_start, len(result))\n"
          ]
        }
      ]
    }
  ],
  "metadata": {
    "colab": {
      "machine_shape": "hm",
      "provenance": [],
      "gpuType": "A100"
    },
    "kernelspec": {
      "display_name": "Python 3",
      "name": "python3"
    },
    "language_info": {
      "name": "python"
    },
    "accelerator": "GPU"
  },
  "nbformat": 4,
  "nbformat_minor": 0
}