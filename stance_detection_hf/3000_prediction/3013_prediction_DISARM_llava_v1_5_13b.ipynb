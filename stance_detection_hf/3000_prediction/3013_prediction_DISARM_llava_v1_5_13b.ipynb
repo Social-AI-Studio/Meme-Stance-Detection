{
  "cells": [
    {
      "cell_type": "markdown",
      "source": [
        "# Import libraries"
      ],
      "metadata": {
        "id": "hw_8I5QeMmqK"
      }
    },
    {
      "cell_type": "code",
      "execution_count": null,
      "metadata": {
        "id": "ZqBeYLjotxgQ"
      },
      "outputs": [],
      "source": [
        "# Pre-requisites. via\n",
        "# https://github.com/haotian-liu/LLaVA\n",
        "!git clone https://github.com/haotian-liu/LLaVA.git\n",
        "%cd LLaVA\n",
        "!conda create -n llava python=3.10 -y\n",
        "!conda activate llava\n",
        "!pip install --upgrade pip  # enable PEP 660 support\n",
        "!pip install fastapi kaleido python-multipart typing-extensions==4.5.0 uvicorn\n",
        "!pip install -e ."
      ]
    },
    {
      "cell_type": "code",
      "source": [
        "import inspect\n",
        "import os\n",
        "import numpy as np\n",
        "import pandas as pd\n",
        "from sklearn.metrics import classification_report\n",
        "from sklearn.metrics import f1_score\n",
        "# Import libraries. via\n",
        "# https://medium.com/supportvectors/comparing-image-to-text-models-blip-blip2-and-llava-ebd66d2eb6d8\n",
        "import torch\n",
        "from llava.serve.cli import load_image\n",
        "from llava.constants import IMAGE_TOKEN_INDEX\n",
        "from llava.model.builder import load_pretrained_model\n",
        "from llava.mm_utils import tokenizer_image_token, get_model_name_from_path, KeywordsStoppingCriteria"
      ],
      "metadata": {
        "id": "PRBlYYjoZHTZ"
      },
      "execution_count": null,
      "outputs": []
    },
    {
      "cell_type": "markdown",
      "source": [
        "# Instantiate model"
      ],
      "metadata": {
        "id": "N0m8GEpXOtW9"
      }
    },
    {
      "cell_type": "code",
      "source": [
        "# Instantiate the model. via\n",
        "# https://github.com/haotian-liu/LLaVA\n",
        "# https://medium.com/supportvectors/comparing-image-to-text-models-blip-blip2-and-llava-ebd66d2eb6d8\n",
        "model_path = 'liuhaotian/llava-v1.5-13b'\n",
        "device = 'cuda' if torch.cuda.is_available() else 'cpu'\n",
        "tokenizer, model, image_processor, context_len = load_pretrained_model(\n",
        "    model_path=model_path,\n",
        "    model_base=None,\n",
        "    model_name=get_model_name_from_path(model_path),\n",
        "    device=device\n",
        ")"
      ],
      "metadata": {
        "id": "oxkroyd1OuY0"
      },
      "execution_count": null,
      "outputs": []
    },
    {
      "cell_type": "markdown",
      "source": [
        "# Mount drive"
      ],
      "metadata": {
        "id": "gzouBmV4M5iL"
      }
    },
    {
      "cell_type": "code",
      "source": [
        "from google.colab import drive\n",
        "drive.mount('/content/drive')"
      ],
      "metadata": {
        "id": "von6na4lM6-b"
      },
      "execution_count": null,
      "outputs": []
    },
    {
      "cell_type": "markdown",
      "source": [
        "# Create directory to store inferences"
      ],
      "metadata": {
        "id": "xjK-ml8pM-az"
      }
    },
    {
      "cell_type": "code",
      "source": [
        "os.makedirs('/content/drive/MyDrive/stance_detection_datasets/inferences/predictions', exist_ok=True)"
      ],
      "metadata": {
        "id": "Rdpr1wTEM-9L"
      },
      "execution_count": null,
      "outputs": []
    },
    {
      "cell_type": "markdown",
      "source": [
        "# Import datasets"
      ],
      "metadata": {
        "id": "TVLgbMRsNror"
      }
    },
    {
      "cell_type": "markdown",
      "source": [
        "## DISARM"
      ],
      "metadata": {
        "id": "hcIGtRFQMIOH"
      }
    },
    {
      "cell_type": "code",
      "execution_count": null,
      "metadata": {
        "id": "8VesFLoXN2_I"
      },
      "outputs": [],
      "source": [
        "DISARM_test_all_captioned_Qwen_VL_Chat = pd.read_csv('/content/drive/MyDrive/stance_detection_datasets/inferences/DISARM_test_all_captioned_Qwen-VL-Chat.csv')\n",
        "DISARM_test_all_captioned_InternLM_XComposer = pd.read_csv('/content/drive/MyDrive/stance_detection_datasets/inferences/DISARM_test_all_captioned_InternLM-XComposer.csv')\n",
        "DISARM_test_all_captioned_llava = pd.read_csv('/content/drive/MyDrive/stance_detection_datasets/inferences/DISARM_test_all_captioned_llava-v1.5-13b.csv')\n",
        "DISARM_test_all_captioned_BLIP_2 = pd.read_csv('/content/drive/MyDrive/stance_detection_datasets/inferences/DISARM_test_all_captioned_BLIP-2.csv')"
      ]
    },
    {
      "cell_type": "markdown",
      "source": [
        "# Set prompts and define a function to call the model"
      ],
      "metadata": {
        "id": "m6ZqSNNeOFm1"
      }
    },
    {
      "cell_type": "code",
      "source": [
        "def prompt_vanilla(entity):\n",
        "    return inspect.cleandoc(f\"\"\"\n",
        "    Does this meme harmfully target {entity}?\n",
        "    yes: a social entity is subjected to some form of ill-treatment such as mental abuse, psycho-physiological injury, proprietary damage, emotional disturbance, or public image damage, based on their background (bias, social background, educational background, etc.) by a meme author.\n",
        "    no: any benign mention (or depiction) of a social entity via humour, limerick, harmless pun or any content that does not cause distress.\n",
        "    Constraint: Without using any other words, answer either yes or no.\"\"\")"
      ],
      "metadata": {
        "id": "J8n5Qo7aJa3X"
      },
      "execution_count": null,
      "outputs": []
    },
    {
      "cell_type": "code",
      "source": [
        "def prompt_with_OCR(entity, OCR):\n",
        "    return inspect.cleandoc(f\"\"\"\n",
        "    Text on this meme: \\\"\\\"\\\"\n",
        "    {OCR}\n",
        "    \\\"\\\"\\\"\n",
        "    Does this meme harmfully target {entity}?\n",
        "    yes: a social entity is subjected to some form of ill-treatment such as mental abuse, psycho-physiological injury, proprietary damage, emotional disturbance, or public image damage, based on their background (bias, social background, educational background, etc.) by a meme author.\n",
        "    no: any benign mention (or depiction) of a social entity via humour, limerick, harmless pun or any content that does not cause distress.\n",
        "    Constraint: Without using any other words, answer either yes or no.\"\"\")"
      ],
      "metadata": {
        "id": "RDItgC52Jmvf"
      },
      "execution_count": null,
      "outputs": []
    },
    {
      "cell_type": "code",
      "source": [
        "def prompt_with_caption(entity, caption):\n",
        "    return inspect.cleandoc(f\"\"\"\n",
        "    Description of this meme: \\\"\\\"\\\"\n",
        "    {caption}\n",
        "    \\\"\\\"\\\"\n",
        "    Does this meme harmfully target {entity}?\n",
        "    yes: a social entity is subjected to some form of ill-treatment such as mental abuse, psycho-physiological injury, proprietary damage, emotional disturbance, or public image damage, based on their background (bias, social background, educational background, etc.) by a meme author.\n",
        "    no: any benign mention (or depiction) of a social entity via humour, limerick, harmless pun or any content that does not cause distress.\n",
        "    Constraint: Without using any other words, answer either yes or no.\"\"\")"
      ],
      "metadata": {
        "id": "PfVOUxDKJsSX"
      },
      "execution_count": null,
      "outputs": []
    },
    {
      "cell_type": "code",
      "execution_count": null,
      "metadata": {
        "id": "6BHp6PaOOCfw"
      },
      "outputs": [],
      "source": [
        "# Use llava-v1.5-13b for the inference. via\n",
        "# https://github.com/haotian-liu/LLaVA/blob/main/llava/serve/cli.py\n",
        "# https://medium.com/supportvectors/comparing-image-to-text-models-blip-blip2-and-llava-ebd66d2eb6d8\n",
        "def get_prediction(image, prompt):\n",
        "    image = load_image(image)\n",
        "    image_tensor = image_processor([image], return_tensors='pt')['pixel_values']\n",
        "    image_tensor = image_tensor.to(model.device, dtype=torch.float16)\n",
        "    prompt = f'USER: <image>\\n{prompt}\\nASSISTANT:'\n",
        "    input_ids = tokenizer_image_token(prompt, tokenizer, IMAGE_TOKEN_INDEX, return_tensors='pt').unsqueeze(0).to(model.device)\n",
        "    stopping_criteria = KeywordsStoppingCriteria([\"</s>\"], tokenizer, input_ids)\n",
        "    with torch.inference_mode():\n",
        "        output_ids = model.generate(\n",
        "            input_ids,\n",
        "            images=image_tensor,\n",
        "            do_sample=True,\n",
        "            temperature=0.2,\n",
        "            max_new_tokens=512,\n",
        "            use_cache=True,\n",
        "            stopping_criteria=[stopping_criteria])\n",
        "    output = tokenizer.decode(output_ids[0, input_ids.shape[1]:]).strip()\n",
        "    return output[:-4]"
      ]
    },
    {
      "cell_type": "markdown",
      "source": [
        "# Define function to clean responses"
      ],
      "metadata": {
        "id": "I3g57TQeKsmw"
      }
    },
    {
      "cell_type": "code",
      "source": [
        "def remap(x):\n",
        "    x = x.lower()\n",
        "    if x == 'yes':\n",
        "        return 'harmful'\n",
        "    elif x == 'no':\n",
        "        return 'not harmful'\n",
        "    elif 'yes' in x and 'no' not in x:\n",
        "        return 'harmful'\n",
        "    elif 'no' in x and 'yes' not in x and 'not' not in x:\n",
        "        return 'not harmful'\n",
        "    else:\n",
        "        return None"
      ],
      "metadata": {
        "id": "Q32y0YwRKwL_"
      },
      "execution_count": null,
      "outputs": []
    },
    {
      "cell_type": "markdown",
      "source": [
        "# Call the `get_prediction` function and save inferences"
      ],
      "metadata": {
        "id": "gL5WFrudQxL1"
      }
    },
    {
      "cell_type": "markdown",
      "source": [
        "GROUNDING [ABSENT] & PROMPT [VANILLA]"
      ],
      "metadata": {
        "id": "-c9f4n6OOOdn"
      }
    },
    {
      "cell_type": "code",
      "source": [
        "DISARM_test_all_grounding_absent_prompt_vanilla = DISARM_test_all_captioned_Qwen_VL_Chat.copy(deep=True)\n",
        "DISARM_test_all_grounding_absent_prompt_vanilla_images = DISARM_test_all_grounding_absent_prompt_vanilla['image'].values\n",
        "DISARM_test_all_grounding_absent_prompt_vanilla_entities = DISARM_test_all_grounding_absent_prompt_vanilla['target'].values\n",
        "DISARM_test_all_grounding_absent_prompt_vanilla['prediction'] = [get_prediction(image, prompt_vanilla(entity)) for image, entity in zip(DISARM_test_all_grounding_absent_prompt_vanilla_images, DISARM_test_all_grounding_absent_prompt_vanilla_entities)]\n",
        "DISARM_test_all_grounding_absent_prompt_vanilla.to_csv('/content/drive/MyDrive/stance_detection_datasets/inferences/predictions/DISARM_test_all_grounding[ABSENT]_prompt[VANILLA]_prediction[llava-v1.5-13b].csv', index=False)\n",
        "DISARM_test_all_grounding_absent_prompt_vanilla['prediction'] = DISARM_test_all_grounding_absent_prompt_vanilla['prediction'].apply(lambda x: remap(x))\n",
        "print(DISARM_test_all_grounding_absent_prompt_vanilla['prediction'].value_counts())\n",
        "print(DISARM_test_all_grounding_absent_prompt_vanilla['prediction'].isna().sum())\n",
        "DISARM_test_all_grounding_absent_prompt_vanilla['prediction'] = DISARM_test_all_grounding_absent_prompt_vanilla['prediction'].apply(lambda x: x if x is not None else np.random.choice(['harmful', 'not harmful']))\n",
        "print(f1_score(DISARM_test_all_grounding_absent_prompt_vanilla['labels'].values, DISARM_test_all_grounding_absent_prompt_vanilla['prediction'].values, labels=['harmful', 'not harmful'], average='macro'))\n",
        "print(classification_report(DISARM_test_all_grounding_absent_prompt_vanilla['labels'].values, DISARM_test_all_grounding_absent_prompt_vanilla['prediction'].values, labels=['harmful', 'not harmful']))"
      ],
      "metadata": {
        "id": "vFgw1XowtB_7",
        "colab": {
          "base_uri": "https://localhost:8080/"
        },
        "outputId": "5751ad17-07ca-4401-8659-775c174cf2a6"
      },
      "execution_count": null,
      "outputs": [
        {
          "output_type": "stream",
          "name": "stdout",
          "text": [
            "harmful        595\n",
            "not harmful     17\n",
            "Name: prediction, dtype: int64\n",
            "0\n",
            "0.3625514215674241\n",
            "              precision    recall  f1-score   support\n",
            "\n",
            "     harmful       0.52      0.97      0.67       316\n",
            " not harmful       0.47      0.03      0.05       296\n",
            "\n",
            "    accuracy                           0.51       612\n",
            "   macro avg       0.49      0.50      0.36       612\n",
            "weighted avg       0.49      0.51      0.37       612\n",
            "\n"
          ]
        }
      ]
    },
    {
      "cell_type": "markdown",
      "source": [
        "GROUNDING [ABSENT] & PROMPT [OCR]"
      ],
      "metadata": {
        "id": "0RQFR_yGtKKe"
      }
    },
    {
      "cell_type": "code",
      "source": [
        "DISARM_test_all_grounding_absent_prompt_with_OCR = DISARM_test_all_captioned_Qwen_VL_Chat.copy(deep=True)\n",
        "DISARM_test_all_grounding_absent_prompt_with_OCR_images = DISARM_test_all_grounding_absent_prompt_with_OCR['image'].values\n",
        "DISARM_test_all_grounding_absent_prompt_with_OCR_entities = DISARM_test_all_grounding_absent_prompt_with_OCR['target'].values\n",
        "DISARM_test_all_grounding_absent_prompt_with_OCR_texts = DISARM_test_all_grounding_absent_prompt_with_OCR['extracted_text'].values\n",
        "DISARM_test_all_grounding_absent_prompt_with_OCR['prediction'] = [get_prediction(image, prompt_with_OCR(entity, text)) for image, entity, text in zip(DISARM_test_all_grounding_absent_prompt_with_OCR_images, DISARM_test_all_grounding_absent_prompt_with_OCR_entities, DISARM_test_all_grounding_absent_prompt_with_OCR_texts)]\n",
        "DISARM_test_all_grounding_absent_prompt_with_OCR.to_csv('/content/drive/MyDrive/stance_detection_datasets/inferences/predictions/DISARM_test_all_grounding[ABSENT]_prompt[OCR]_prediction[llava-v1.5-13b].csv', index=False)\n",
        "DISARM_test_all_grounding_absent_prompt_with_OCR['prediction'] = DISARM_test_all_grounding_absent_prompt_with_OCR['prediction'].apply(lambda x: remap(x))\n",
        "print(DISARM_test_all_grounding_absent_prompt_with_OCR['prediction'].value_counts())\n",
        "print(DISARM_test_all_grounding_absent_prompt_with_OCR['prediction'].isna().sum())\n",
        "DISARM_test_all_grounding_absent_prompt_with_OCR['prediction'] = DISARM_test_all_grounding_absent_prompt_with_OCR['prediction'].apply(lambda x: x if x is not None else np.random.choice(['harmful', 'not harmful']))\n",
        "print(f1_score(DISARM_test_all_grounding_absent_prompt_with_OCR['labels'].values, DISARM_test_all_grounding_absent_prompt_with_OCR['prediction'].values, labels=['harmful', 'not harmful'], average='macro'))\n",
        "print(classification_report(DISARM_test_all_grounding_absent_prompt_with_OCR['labels'].values, DISARM_test_all_grounding_absent_prompt_with_OCR['prediction'].values, labels=['harmful', 'not harmful']))"
      ],
      "metadata": {
        "colab": {
          "base_uri": "https://localhost:8080/"
        },
        "id": "l8G9Kp9_V11F",
        "outputId": "57cb1e65-40fb-4548-a26a-f62853aa8c48"
      },
      "execution_count": null,
      "outputs": [
        {
          "output_type": "stream",
          "name": "stdout",
          "text": [
            "harmful        600\n",
            "not harmful     12\n",
            "Name: prediction, dtype: int64\n",
            "0\n",
            "0.35790846707877283\n",
            "              precision    recall  f1-score   support\n",
            "\n",
            "     harmful       0.52      0.98      0.68       316\n",
            " not harmful       0.50      0.02      0.04       296\n",
            "\n",
            "    accuracy                           0.52       612\n",
            "   macro avg       0.51      0.50      0.36       612\n",
            "weighted avg       0.51      0.52      0.37       612\n",
            "\n"
          ]
        }
      ]
    },
    {
      "cell_type": "markdown",
      "source": [
        "GROUNDING [ABSENT] & PROMPT [CAPTION] & CAPTION [Qwen_VL_Chat]"
      ],
      "metadata": {
        "id": "3tgRDaJE5OVz"
      }
    },
    {
      "cell_type": "code",
      "source": [
        "DISARM_test_all_grounding_absent_prompt_with_caption_Qwen_VL_Chat = DISARM_test_all_captioned_Qwen_VL_Chat.copy(deep=True)\n",
        "DISARM_test_all_grounding_absent_prompt_with_caption_Qwen_VL_Chat_images = DISARM_test_all_grounding_absent_prompt_with_caption_Qwen_VL_Chat['image'].values\n",
        "DISARM_test_all_grounding_absent_prompt_with_caption_Qwen_VL_Chat_entities = DISARM_test_all_grounding_absent_prompt_with_caption_Qwen_VL_Chat['target'].values\n",
        "DISARM_test_all_grounding_absent_prompt_with_caption_Qwen_VL_Chat_captions = DISARM_test_all_grounding_absent_prompt_with_caption_Qwen_VL_Chat['caption'].values\n",
        "DISARM_test_all_grounding_absent_prompt_with_caption_Qwen_VL_Chat['prediction'] = [get_prediction(image, prompt_with_caption(entity, caption)) for image, entity, caption in zip(DISARM_test_all_grounding_absent_prompt_with_caption_Qwen_VL_Chat_images, DISARM_test_all_grounding_absent_prompt_with_caption_Qwen_VL_Chat_entities, DISARM_test_all_grounding_absent_prompt_with_caption_Qwen_VL_Chat_captions)]\n",
        "DISARM_test_all_grounding_absent_prompt_with_caption_Qwen_VL_Chat.to_csv('/content/drive/MyDrive/stance_detection_datasets/inferences/predictions/DISARM_test_all_grounding[ABSENT]_caption[Qwen-VL-Chat]_prompt[CAPTION]_prediction[llava-v1.5-13b].csv', index=False)\n",
        "DISARM_test_all_grounding_absent_prompt_with_caption_Qwen_VL_Chat['prediction'] = DISARM_test_all_grounding_absent_prompt_with_caption_Qwen_VL_Chat['prediction'].apply(lambda x: remap(x))\n",
        "print(DISARM_test_all_grounding_absent_prompt_with_caption_Qwen_VL_Chat['prediction'].value_counts())\n",
        "print(DISARM_test_all_grounding_absent_prompt_with_caption_Qwen_VL_Chat['prediction'].isna().sum())\n",
        "DISARM_test_all_grounding_absent_prompt_with_caption_Qwen_VL_Chat['prediction'] = DISARM_test_all_grounding_absent_prompt_with_caption_Qwen_VL_Chat['prediction'].apply(lambda x: x if x is not None else np.random.choice(['harmful', 'not harmful']))\n",
        "print(f1_score(DISARM_test_all_grounding_absent_prompt_with_caption_Qwen_VL_Chat['labels'].values, DISARM_test_all_grounding_absent_prompt_with_caption_Qwen_VL_Chat['prediction'].values, labels=['harmful', 'not harmful'], average='macro'))\n",
        "print(classification_report(DISARM_test_all_grounding_absent_prompt_with_caption_Qwen_VL_Chat['labels'].values, DISARM_test_all_grounding_absent_prompt_with_caption_Qwen_VL_Chat['prediction'].values, labels=['harmful', 'not harmful']))"
      ],
      "metadata": {
        "colab": {
          "base_uri": "https://localhost:8080/"
        },
        "id": "TQJ1tGEotFFX",
        "outputId": "7d0a83a2-67ad-4fb6-cbec-19c2c34a76d3"
      },
      "execution_count": null,
      "outputs": [
        {
          "output_type": "stream",
          "name": "stdout",
          "text": [
            "harmful        591\n",
            "not harmful     21\n",
            "Name: prediction, dtype: int64\n",
            "0\n",
            "0.3720762801762666\n",
            "              precision    recall  f1-score   support\n",
            "\n",
            "     harmful       0.52      0.97      0.67       316\n",
            " not harmful       0.52      0.04      0.07       296\n",
            "\n",
            "    accuracy                           0.52       612\n",
            "   macro avg       0.52      0.50      0.37       612\n",
            "weighted avg       0.52      0.52      0.38       612\n",
            "\n"
          ]
        }
      ]
    },
    {
      "cell_type": "markdown",
      "source": [
        "GROUNDING [ABSENT] & PROMPT [CAPTION] & CAPTION [InternLM_XComposer]"
      ],
      "metadata": {
        "id": "8eWnRoPz5Tq6"
      }
    },
    {
      "cell_type": "code",
      "source": [
        "DISARM_test_all_grounding_absent_prompt_with_caption_InternLM_XComposer = DISARM_test_all_captioned_InternLM_XComposer.copy(deep=True)\n",
        "DISARM_test_all_grounding_absent_prompt_with_caption_InternLM_XComposer_images = DISARM_test_all_grounding_absent_prompt_with_caption_InternLM_XComposer['image'].values\n",
        "DISARM_test_all_grounding_absent_prompt_with_caption_InternLM_XComposer_entities = DISARM_test_all_grounding_absent_prompt_with_caption_InternLM_XComposer['target'].values\n",
        "DISARM_test_all_grounding_absent_prompt_with_caption_InternLM_XComposer_captions = DISARM_test_all_grounding_absent_prompt_with_caption_InternLM_XComposer['caption'].values\n",
        "DISARM_test_all_grounding_absent_prompt_with_caption_InternLM_XComposer['prediction'] = [get_prediction(image, prompt_with_caption(entity, caption)) for image, entity, caption in zip(DISARM_test_all_grounding_absent_prompt_with_caption_InternLM_XComposer_images, DISARM_test_all_grounding_absent_prompt_with_caption_InternLM_XComposer_entities, DISARM_test_all_grounding_absent_prompt_with_caption_InternLM_XComposer_captions)]\n",
        "DISARM_test_all_grounding_absent_prompt_with_caption_InternLM_XComposer.to_csv('/content/drive/MyDrive/stance_detection_datasets/inferences/predictions/DISARM_test_all_grounding[ABSENT]_caption[InternLM-XComposer]_prompt[CAPTION]_prediction[llava-v1.5-13b].csv', index=False)\n",
        "DISARM_test_all_grounding_absent_prompt_with_caption_InternLM_XComposer['prediction'] = DISARM_test_all_grounding_absent_prompt_with_caption_InternLM_XComposer['prediction'].apply(lambda x: remap(x))\n",
        "print(DISARM_test_all_grounding_absent_prompt_with_caption_InternLM_XComposer['prediction'].value_counts())\n",
        "print(DISARM_test_all_grounding_absent_prompt_with_caption_InternLM_XComposer['prediction'].isna().sum())\n",
        "DISARM_test_all_grounding_absent_prompt_with_caption_InternLM_XComposer['prediction'] = DISARM_test_all_grounding_absent_prompt_with_caption_InternLM_XComposer['prediction'].apply(lambda x: x if x is not None else np.random.choice(['harmful', 'not harmful']))\n",
        "print(f1_score(DISARM_test_all_grounding_absent_prompt_with_caption_InternLM_XComposer['labels'].values, DISARM_test_all_grounding_absent_prompt_with_caption_InternLM_XComposer['prediction'].values, labels=['harmful', 'not harmful'], average='macro'))\n",
        "print(classification_report(DISARM_test_all_grounding_absent_prompt_with_caption_InternLM_XComposer['labels'].values, DISARM_test_all_grounding_absent_prompt_with_caption_InternLM_XComposer['prediction'].values, labels=['harmful', 'not harmful']))"
      ],
      "metadata": {
        "id": "6CJ-oeaR4rHy",
        "colab": {
          "base_uri": "https://localhost:8080/"
        },
        "outputId": "4695f8b3-eb2a-4b4a-c652-1fc2a7924abd"
      },
      "execution_count": null,
      "outputs": [
        {
          "output_type": "stream",
          "name": "stdout",
          "text": [
            "harmful        594\n",
            "not harmful     18\n",
            "Name: prediction, dtype: int64\n",
            "0\n",
            "0.366025057744803\n",
            "              precision    recall  f1-score   support\n",
            "\n",
            "     harmful       0.52      0.97      0.67       316\n",
            " not harmful       0.50      0.03      0.06       296\n",
            "\n",
            "    accuracy                           0.52       612\n",
            "   macro avg       0.51      0.50      0.37       612\n",
            "weighted avg       0.51      0.52      0.38       612\n",
            "\n"
          ]
        }
      ]
    },
    {
      "cell_type": "markdown",
      "source": [
        "GROUNDING [ABSENT] & PROMPT [CAPTION] & CAPTION [llava]"
      ],
      "metadata": {
        "id": "eBCUJcrvE6JE"
      }
    },
    {
      "cell_type": "code",
      "source": [
        "DISARM_test_all_grounding_absent_prompt_with_caption_llava = DISARM_test_all_captioned_llava.copy(deep=True)\n",
        "DISARM_test_all_grounding_absent_prompt_with_caption_llava_images = DISARM_test_all_grounding_absent_prompt_with_caption_llava['image'].values\n",
        "DISARM_test_all_grounding_absent_prompt_with_caption_llava_entities = DISARM_test_all_grounding_absent_prompt_with_caption_llava['target'].values\n",
        "DISARM_test_all_grounding_absent_prompt_with_caption_llava_captions = DISARM_test_all_grounding_absent_prompt_with_caption_llava['caption'].values\n",
        "DISARM_test_all_grounding_absent_prompt_with_caption_llava['prediction'] = [get_prediction(image, prompt_with_caption(entity, caption)) for image, entity, caption in zip(DISARM_test_all_grounding_absent_prompt_with_caption_llava_images, DISARM_test_all_grounding_absent_prompt_with_caption_llava_entities, DISARM_test_all_grounding_absent_prompt_with_caption_llava_captions)]\n",
        "DISARM_test_all_grounding_absent_prompt_with_caption_llava.to_csv('/content/drive/MyDrive/stance_detection_datasets/inferences/predictions/DISARM_test_all_grounding[ABSENT]_caption[llava-v1.5-13b]_prompt[CAPTION]_prediction[llava-v1.5-13b].csv', index=False)\n",
        "DISARM_test_all_grounding_absent_prompt_with_caption_llava['prediction'] = DISARM_test_all_grounding_absent_prompt_with_caption_llava['prediction'].apply(lambda x: remap(x))\n",
        "print(DISARM_test_all_grounding_absent_prompt_with_caption_llava['prediction'].value_counts())\n",
        "print(DISARM_test_all_grounding_absent_prompt_with_caption_llava['prediction'].isna().sum())\n",
        "DISARM_test_all_grounding_absent_prompt_with_caption_llava['prediction'] = DISARM_test_all_grounding_absent_prompt_with_caption_llava['prediction'].apply(lambda x: x if x is not None else np.random.choice(['harmful', 'not harmful']))\n",
        "print(f1_score(DISARM_test_all_grounding_absent_prompt_with_caption_llava['labels'].values, DISARM_test_all_grounding_absent_prompt_with_caption_llava['prediction'].values, labels=['harmful', 'not harmful'], average='macro'))\n",
        "print(classification_report(DISARM_test_all_grounding_absent_prompt_with_caption_llava['labels'].values, DISARM_test_all_grounding_absent_prompt_with_caption_llava['prediction'].values, labels=['harmful', 'not harmful']))"
      ],
      "metadata": {
        "id": "u1_OojZKE6TL",
        "colab": {
          "base_uri": "https://localhost:8080/"
        },
        "outputId": "6d34d517-de44-40f2-dba8-c0357e2890d2"
      },
      "execution_count": null,
      "outputs": [
        {
          "output_type": "stream",
          "name": "stdout",
          "text": [
            "harmful        542\n",
            "not harmful     70\n",
            "Name: prediction, dtype: int64\n",
            "0\n",
            "0.39585005158775655\n",
            "              precision    recall  f1-score   support\n",
            "\n",
            "     harmful       0.51      0.87      0.64       316\n",
            " not harmful       0.40      0.09      0.15       296\n",
            "\n",
            "    accuracy                           0.49       612\n",
            "   macro avg       0.45      0.48      0.40       612\n",
            "weighted avg       0.45      0.49      0.40       612\n",
            "\n"
          ]
        }
      ]
    },
    {
      "cell_type": "markdown",
      "source": [
        "GROUNDING [ABSENT] & PROMPT [CAPTION] & CAPTION [BLIP-2]"
      ],
      "metadata": {
        "id": "tnTDhLA_wrU6"
      }
    },
    {
      "cell_type": "code",
      "source": [
        "DISARM_test_all_grounding_absent_prompt_with_caption_BLIP_2 = DISARM_test_all_captioned_BLIP_2.copy(deep=True)\n",
        "DISARM_test_all_grounding_absent_prompt_with_caption_BLIP_2_images = DISARM_test_all_grounding_absent_prompt_with_caption_BLIP_2['image'].values\n",
        "DISARM_test_all_grounding_absent_prompt_with_caption_BLIP_2_entities = DISARM_test_all_grounding_absent_prompt_with_caption_BLIP_2['target'].values\n",
        "DISARM_test_all_grounding_absent_prompt_with_caption_BLIP_2_captions = DISARM_test_all_grounding_absent_prompt_with_caption_BLIP_2['caption'].values\n",
        "DISARM_test_all_grounding_absent_prompt_with_caption_BLIP_2['prediction'] = [get_prediction(image, prompt_with_caption(entity, caption)) for image, entity, caption in zip(DISARM_test_all_grounding_absent_prompt_with_caption_BLIP_2_images, DISARM_test_all_grounding_absent_prompt_with_caption_BLIP_2_entities, DISARM_test_all_grounding_absent_prompt_with_caption_BLIP_2_captions)]\n",
        "DISARM_test_all_grounding_absent_prompt_with_caption_BLIP_2.to_csv('/content/drive/MyDrive/stance_detection_datasets/inferences/predictions/DISARM_test_all_grounding[ABSENT]_caption[BLIP_2]_prompt[CAPTION]_prediction[llava-v1.5-13b].csv', index=False)\n",
        "DISARM_test_all_grounding_absent_prompt_with_caption_BLIP_2['prediction'] = DISARM_test_all_grounding_absent_prompt_with_caption_BLIP_2['prediction'].apply(lambda x: remap(x))\n",
        "print(DISARM_test_all_grounding_absent_prompt_with_caption_BLIP_2['prediction'].value_counts())\n",
        "print(DISARM_test_all_grounding_absent_prompt_with_caption_BLIP_2['prediction'].isna().sum())\n",
        "DISARM_test_all_grounding_absent_prompt_with_caption_BLIP_2['prediction'] = DISARM_test_all_grounding_absent_prompt_with_caption_BLIP_2['prediction'].apply(lambda x: x if x is not None else np.random.choice(['harmful', 'not harmful']))\n",
        "print(f1_score(DISARM_test_all_grounding_absent_prompt_with_caption_BLIP_2['labels'].values, DISARM_test_all_grounding_absent_prompt_with_caption_BLIP_2['prediction'].values, labels=['harmful', 'not harmful'], average='macro'))\n",
        "print(classification_report(DISARM_test_all_grounding_absent_prompt_with_caption_BLIP_2['labels'].values, DISARM_test_all_grounding_absent_prompt_with_caption_BLIP_2['prediction'].values, labels=['harmful', 'not harmful']))"
      ],
      "metadata": {
        "id": "dO8Wv7vDwreo",
        "colab": {
          "base_uri": "https://localhost:8080/"
        },
        "outputId": "2b2209eb-a8fa-43b4-dbb5-1ec72ca1d03d"
      },
      "execution_count": null,
      "outputs": [
        {
          "output_type": "stream",
          "name": "stdout",
          "text": [
            "harmful        582\n",
            "not harmful     30\n",
            "Name: prediction, dtype: int64\n",
            "0\n",
            "0.4021069315588834\n",
            "              precision    recall  f1-score   support\n",
            "\n",
            "     harmful       0.53      0.97      0.68       316\n",
            " not harmful       0.67      0.07      0.12       296\n",
            "\n",
            "    accuracy                           0.53       612\n",
            "   macro avg       0.60      0.52      0.40       612\n",
            "weighted avg       0.59      0.53      0.41       612\n",
            "\n"
          ]
        }
      ]
    }
  ],
  "metadata": {
    "colab": {
      "machine_shape": "hm",
      "provenance": [],
      "gpuType": "A100"
    },
    "kernelspec": {
      "display_name": "Python 3",
      "name": "python3"
    },
    "language_info": {
      "name": "python"
    },
    "accelerator": "GPU"
  },
  "nbformat": 4,
  "nbformat_minor": 0
}