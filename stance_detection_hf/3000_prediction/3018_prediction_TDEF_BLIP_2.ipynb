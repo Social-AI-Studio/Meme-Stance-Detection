{
  "cells": [
    {
      "cell_type": "markdown",
      "source": [
        "# Import libraries"
      ],
      "metadata": {
        "id": "hw_8I5QeMmqK"
      }
    },
    {
      "cell_type": "code",
      "execution_count": null,
      "metadata": {
        "id": "ZqBeYLjotxgQ"
      },
      "outputs": [],
      "source": [
        "!pip install bitsandbytes>=0.39.0 accelerate>=0.20.0\n",
        "!pip install transformers"
      ]
    },
    {
      "cell_type": "code",
      "source": [
        "import inspect\n",
        "import os\n",
        "import numpy as np\n",
        "import pandas as pd\n",
        "from sklearn.metrics import classification_report\n",
        "from sklearn.metrics import f1_score\n",
        "from PIL import Image\n",
        "from transformers import Blip2Processor, Blip2ForConditionalGeneration"
      ],
      "metadata": {
        "id": "PRBlYYjoZHTZ"
      },
      "execution_count": null,
      "outputs": []
    },
    {
      "cell_type": "markdown",
      "source": [
        "# Instantiate model"
      ],
      "metadata": {
        "id": "N0m8GEpXOtW9"
      }
    },
    {
      "cell_type": "code",
      "source": [
        "# Use BLIP-2 for the inference. via\n",
        "# https://huggingface.co/Salesforce/blip2-flan-t5-xxl\n",
        "processor = Blip2Processor.from_pretrained(\"Salesforce/blip2-flan-t5-xxl\")\n",
        "model = Blip2ForConditionalGeneration.from_pretrained(\"Salesforce/blip2-flan-t5-xxl\", device_map=\"auto\", load_in_8bit=True)"
      ],
      "metadata": {
        "id": "oxkroyd1OuY0"
      },
      "execution_count": null,
      "outputs": []
    },
    {
      "cell_type": "markdown",
      "source": [
        "# Mount drive"
      ],
      "metadata": {
        "id": "gzouBmV4M5iL"
      }
    },
    {
      "cell_type": "code",
      "source": [
        "from google.colab import drive\n",
        "drive.mount('/content/drive')"
      ],
      "metadata": {
        "id": "von6na4lM6-b"
      },
      "execution_count": null,
      "outputs": []
    },
    {
      "cell_type": "markdown",
      "source": [
        "# Create directory to store inferences"
      ],
      "metadata": {
        "id": "xjK-ml8pM-az"
      }
    },
    {
      "cell_type": "code",
      "source": [
        "os.makedirs('/content/drive/MyDrive/stance_detection_datasets/inferences/predictions', exist_ok=True)"
      ],
      "metadata": {
        "id": "Rdpr1wTEM-9L"
      },
      "execution_count": null,
      "outputs": []
    },
    {
      "cell_type": "markdown",
      "source": [
        "# Import datasets"
      ],
      "metadata": {
        "id": "TVLgbMRsNror"
      }
    },
    {
      "cell_type": "code",
      "source": [
        "total_defense_memes = pd.read_csv('/content/drive/MyDrive/stance_detection_datasets/total_defense_memes/total_defense_memes.csv')\n",
        "total_defense_memes = total_defense_memes[total_defense_memes['pillar'].str.contains('Others') == False]\n",
        "total_defense_memes = total_defense_memes.reset_index(drop=True)"
      ],
      "metadata": {
        "id": "jj3bqGQL_650"
      },
      "execution_count": null,
      "outputs": []
    },
    {
      "cell_type": "code",
      "execution_count": null,
      "metadata": {
        "id": "8VesFLoXN2_I"
      },
      "outputs": [],
      "source": [
        "total_defense_memes_captioned_Qwen_VL_Chat = pd.read_csv('/content/drive/MyDrive/stance_detection_datasets/inferences/total_defense_memes_captioned_Qwen-VL-Chat.csv')\n",
        "total_defense_memes_captioned_InternLM_XComposer = pd.read_csv('/content/drive/MyDrive/stance_detection_datasets/inferences/total_defense_memes_captioned_InternLM-XComposer.csv')\n",
        "total_defense_memes_captioned_llava = pd.read_csv('/content/drive/MyDrive/stance_detection_datasets/inferences/total_defense_memes_captioned_llava-v1.5-13b.csv')\n",
        "total_defense_memes_captioned_BLIP_2 = pd.read_csv('/content/drive/MyDrive/stance_detection_datasets/inferences/total_defense_memes_captioned_BLIP-2.csv')"
      ]
    },
    {
      "cell_type": "code",
      "source": [
        "total_defense_memes_captioned_Qwen_VL_Chat = pd.merge(total_defense_memes, total_defense_memes_captioned_Qwen_VL_Chat, how='left', on=['image'])\n",
        "total_defense_memes_captioned_InternLM_XComposer = pd.merge(total_defense_memes, total_defense_memes_captioned_InternLM_XComposer, how='left', on=['image'])\n",
        "total_defense_memes_captioned_llava = pd.merge(total_defense_memes, total_defense_memes_captioned_llava, how='left', on=['image'])\n",
        "total_defense_memes_captioned_BLIP_2 = pd.merge(total_defense_memes, total_defense_memes_captioned_BLIP_2, how='left', on=['image'])"
      ],
      "metadata": {
        "id": "58P7iWslAfZM"
      },
      "execution_count": null,
      "outputs": []
    },
    {
      "cell_type": "markdown",
      "source": [
        "# Set prompts and define a function to call the model"
      ],
      "metadata": {
        "id": "m6ZqSNNeOFm1"
      }
    },
    {
      "cell_type": "code",
      "source": [
        "def prompt_with_caption(pillar, pillar_w_definition, caption):\n",
        "    return inspect.cleandoc(f\"\"\"\n",
        "    Description of this meme: \\\"\\\"\\\"\n",
        "    {caption}\n",
        "    \\\"\\\"\\\"\n",
        "    {pillar_w_definition}\n",
        "    Indicate whether this meme is against, neutral or supportive towards Singapore's {pillar}.\n",
        "    Constraint: Without using any other words, answer either against, neutral, supportive.\"\"\")"
      ],
      "metadata": {
        "id": "PfVOUxDKJsSX"
      },
      "execution_count": null,
      "outputs": []
    },
    {
      "cell_type": "code",
      "execution_count": null,
      "metadata": {
        "id": "6BHp6PaOOCfw"
      },
      "outputs": [],
      "source": [
        "# Use BLIP-2 for the inference. via\n",
        "# https://huggingface.co/Salesforce/blip2-flan-t5-xxl\n",
        "def get_prediction(image, prompt):\n",
        "    raw_image = Image.open(image).convert('RGB')\n",
        "    inputs = processor(raw_image, prompt, return_tensors=\"pt\").to(\"cuda\")\n",
        "    out = model.generate(**inputs, max_new_tokens=30)\n",
        "    return processor.decode(out[0], skip_special_tokens=True)"
      ]
    },
    {
      "cell_type": "markdown",
      "source": [
        "# Define function to add definitions"
      ],
      "metadata": {
        "id": "UmCh4MUyBybL"
      }
    },
    {
      "cell_type": "code",
      "source": [
        "def definition(x):\n",
        "    if x == 'Military Defence':\n",
        "        return \"\"\"Singapore's Military Defence: Strong and formidable defence force made up of Regulars and National Servicemen, and supported by the entire Singapore.\"\"\"\n",
        "    elif x == 'Civil Defence':\n",
        "        return \"\"\"Singapore's Civil Defence: Collective effort of the Singaporean society to spot signs of threats, respond effectively and recover quickly from crisis.\"\"\"\n",
        "    elif x == 'Economic Defence':\n",
        "        return \"\"\"Singapore's Economic Defence: Strong and resilient Singaporean economy that is globally competitive and able to bounce back from any crisis.\"\"\"\n",
        "    elif x == 'Social Defence':\n",
        "        return \"\"\"Singapore's Social Defence: Bonds that unite Singaporeans, built on trust and understanding among people of different races and religions, living in harmony and looking out for one another.\"\"\"\n",
        "    elif x == 'Psychological Defence':\n",
        "        return \"\"\"Singapore's Psychological Defence: The will and resolve to defend the Singaporean way of life and interests, the fighting spirit to overcome challenges together.\"\"\"\n",
        "    elif x == 'Digital Defence':\n",
        "        return \"\"\"Singapore's Digital Defence: Being secure, alert and responsible online.\"\"\""
      ],
      "metadata": {
        "id": "hosxUGANB4Mz"
      },
      "execution_count": null,
      "outputs": []
    },
    {
      "cell_type": "code",
      "source": [
        "total_defense_memes_captioned_Qwen_VL_Chat['pillar_w_definition'] = total_defense_memes_captioned_Qwen_VL_Chat['pillar'].apply(lambda x: definition(x))\n",
        "total_defense_memes_captioned_InternLM_XComposer['pillar_w_definition'] = total_defense_memes_captioned_InternLM_XComposer['pillar'].apply(lambda x: definition(x))\n",
        "total_defense_memes_captioned_llava['pillar_w_definition'] = total_defense_memes_captioned_llava['pillar'].apply(lambda x: definition(x))\n",
        "total_defense_memes_captioned_BLIP_2['pillar_w_definition'] = total_defense_memes_captioned_BLIP_2['pillar'].apply(lambda x: definition(x))"
      ],
      "metadata": {
        "id": "AmnVJWguBsGc"
      },
      "execution_count": null,
      "outputs": []
    },
    {
      "cell_type": "markdown",
      "source": [
        "# Define function to clean responses"
      ],
      "metadata": {
        "id": "I3g57TQeKsmw"
      }
    },
    {
      "cell_type": "code",
      "source": [
        "def remap(x):\n",
        "    x = x.lower()\n",
        "    if 'against' in x and 'neutral' not in x and 'supportive' not in x and 'not against' not in x:\n",
        "        return 'Against'\n",
        "    elif 'neutral' in x and 'against' not in x and 'supportive' not in x and 'not neutral' not in x:\n",
        "        return 'Neutral'\n",
        "    elif 'supportive' in x and 'neutral' not in x and 'against' not in x and 'not supportive' not in x:\n",
        "        return 'Supportive'\n",
        "    else:\n",
        "        return None"
      ],
      "metadata": {
        "id": "Q32y0YwRKwL_"
      },
      "execution_count": null,
      "outputs": []
    },
    {
      "cell_type": "markdown",
      "source": [
        "# Call the `get_prediction` function and save inferences"
      ],
      "metadata": {
        "id": "gL5WFrudQxL1"
      }
    },
    {
      "cell_type": "markdown",
      "source": [
        "GROUNDING [ABSENT] & PROMPT [CAPTION] & CAPTION [Qwen_VL_Chat]"
      ],
      "metadata": {
        "id": "3tgRDaJE5OVz"
      }
    },
    {
      "cell_type": "code",
      "source": [
        "total_defense_memes_grounding_absent_prompt_with_caption_Qwen_VL_Chat = total_defense_memes_captioned_Qwen_VL_Chat.copy(deep=True)\n",
        "total_defense_memes_grounding_absent_prompt_with_caption_Qwen_VL_Chat_images = total_defense_memes_grounding_absent_prompt_with_caption_Qwen_VL_Chat['image'].values\n",
        "total_defense_memes_grounding_absent_prompt_with_caption_Qwen_VL_Chat_pillars = total_defense_memes_grounding_absent_prompt_with_caption_Qwen_VL_Chat['pillar'].values\n",
        "total_defense_memes_grounding_absent_prompt_with_caption_Qwen_VL_Chat_definitions = total_defense_memes_grounding_absent_prompt_with_caption_Qwen_VL_Chat['pillar_w_definition'].values\n",
        "total_defense_memes_grounding_absent_prompt_with_caption_Qwen_VL_Chat_captions = total_defense_memes_grounding_absent_prompt_with_caption_Qwen_VL_Chat['caption'].values\n",
        "total_defense_memes_grounding_absent_prompt_with_caption_Qwen_VL_Chat['prediction'] = [get_prediction(image, prompt_with_caption(pillar, pillar_w_definition, caption)) for image, pillar, pillar_w_definition, caption in zip(total_defense_memes_grounding_absent_prompt_with_caption_Qwen_VL_Chat_images, total_defense_memes_grounding_absent_prompt_with_caption_Qwen_VL_Chat_pillars, total_defense_memes_grounding_absent_prompt_with_caption_Qwen_VL_Chat_definitions, total_defense_memes_grounding_absent_prompt_with_caption_Qwen_VL_Chat_captions)]\n",
        "total_defense_memes_grounding_absent_prompt_with_caption_Qwen_VL_Chat.to_csv('/content/drive/MyDrive/stance_detection_datasets/inferences/predictions/total_defense_memes_grounding[ABSENT]_caption[Qwen-VL-Chat]_prompt[CAPTION]_prediction[BLIP-2].csv', index=False)\n",
        "total_defense_memes_grounding_absent_prompt_with_caption_Qwen_VL_Chat['prediction'] = total_defense_memes_grounding_absent_prompt_with_caption_Qwen_VL_Chat['prediction'].apply(lambda x: remap(x))\n",
        "print(total_defense_memes_grounding_absent_prompt_with_caption_Qwen_VL_Chat['prediction'].value_counts())\n",
        "print(total_defense_memes_grounding_absent_prompt_with_caption_Qwen_VL_Chat['prediction'].isna().sum())\n",
        "total_defense_memes_grounding_absent_prompt_with_caption_Qwen_VL_Chat['prediction'] = total_defense_memes_grounding_absent_prompt_with_caption_Qwen_VL_Chat['prediction'].apply(lambda x: x if x is not None else np.random.choice(['Against', 'Neutral', 'Supportive']))\n",
        "print(f1_score(total_defense_memes_grounding_absent_prompt_with_caption_Qwen_VL_Chat['stance'].values, total_defense_memes_grounding_absent_prompt_with_caption_Qwen_VL_Chat['prediction'].values, labels=['Against', 'Neutral', 'Supportive'], average='macro'))\n",
        "print(classification_report(total_defense_memes_grounding_absent_prompt_with_caption_Qwen_VL_Chat['stance'].values, total_defense_memes_grounding_absent_prompt_with_caption_Qwen_VL_Chat['prediction'].values, labels=['Against', 'Neutral', 'Supportive']))"
      ],
      "metadata": {
        "id": "TQJ1tGEotFFX",
        "colab": {
          "base_uri": "https://localhost:8080/"
        },
        "outputId": "1d870eab-6f91-4dbe-8209-a54ccd7f19da"
      },
      "execution_count": null,
      "outputs": [
        {
          "output_type": "stream",
          "name": "stdout",
          "text": [
            "Neutral       635\n",
            "Supportive    112\n",
            "Against        24\n",
            "Name: prediction, dtype: int64\n",
            "0\n",
            "0.3657501148138398\n",
            "              precision    recall  f1-score   support\n",
            "\n",
            "     Against       0.88      0.06      0.11       352\n",
            "     Neutral       0.45      0.86      0.59       332\n",
            "  Supportive       0.35      0.45      0.39        87\n",
            "\n",
            "    accuracy                           0.45       771\n",
            "   macro avg       0.56      0.46      0.37       771\n",
            "weighted avg       0.63      0.45      0.35       771\n",
            "\n"
          ]
        }
      ]
    },
    {
      "cell_type": "markdown",
      "source": [
        "GROUNDING [ABSENT] & PROMPT [CAPTION] & CAPTION [InternLM_XComposer]"
      ],
      "metadata": {
        "id": "8eWnRoPz5Tq6"
      }
    },
    {
      "cell_type": "code",
      "source": [
        "total_defense_memes_grounding_absent_prompt_with_caption_InternLM_XComposer = total_defense_memes_captioned_InternLM_XComposer.copy(deep=True)\n",
        "total_defense_memes_grounding_absent_prompt_with_caption_InternLM_XComposer_images = total_defense_memes_grounding_absent_prompt_with_caption_InternLM_XComposer['image'].values\n",
        "total_defense_memes_grounding_absent_prompt_with_caption_InternLM_XComposer_pillars = total_defense_memes_grounding_absent_prompt_with_caption_InternLM_XComposer['pillar'].values\n",
        "total_defense_memes_grounding_absent_prompt_with_caption_InternLM_XComposer_definitions = total_defense_memes_grounding_absent_prompt_with_caption_InternLM_XComposer['pillar_w_definition'].values\n",
        "total_defense_memes_grounding_absent_prompt_with_caption_InternLM_XComposer_captions = total_defense_memes_grounding_absent_prompt_with_caption_InternLM_XComposer['caption'].values\n",
        "total_defense_memes_grounding_absent_prompt_with_caption_InternLM_XComposer['prediction'] = [get_prediction(image, prompt_with_caption(pillar, pillar_w_definition, caption)) for image, pillar, pillar_w_definition, caption in zip(total_defense_memes_grounding_absent_prompt_with_caption_InternLM_XComposer_images, total_defense_memes_grounding_absent_prompt_with_caption_InternLM_XComposer_pillars, total_defense_memes_grounding_absent_prompt_with_caption_InternLM_XComposer_definitions, total_defense_memes_grounding_absent_prompt_with_caption_InternLM_XComposer_captions)]\n",
        "total_defense_memes_grounding_absent_prompt_with_caption_InternLM_XComposer.to_csv('/content/drive/MyDrive/stance_detection_datasets/inferences/predictions/total_defense_memes_grounding[ABSENT]_caption[InternLM-XComposer]_prompt[CAPTION]_prediction[BLIP-2].csv', index=False)\n",
        "total_defense_memes_grounding_absent_prompt_with_caption_InternLM_XComposer['prediction'] = total_defense_memes_grounding_absent_prompt_with_caption_InternLM_XComposer['prediction'].apply(lambda x: remap(x))\n",
        "print(total_defense_memes_grounding_absent_prompt_with_caption_InternLM_XComposer['prediction'].value_counts())\n",
        "print(total_defense_memes_grounding_absent_prompt_with_caption_InternLM_XComposer['prediction'].isna().sum())\n",
        "total_defense_memes_grounding_absent_prompt_with_caption_InternLM_XComposer['prediction'] = total_defense_memes_grounding_absent_prompt_with_caption_InternLM_XComposer['prediction'].apply(lambda x: x if x is not None else np.random.choice(['Against', 'Neutral', 'Supportive']))\n",
        "print(f1_score(total_defense_memes_grounding_absent_prompt_with_caption_InternLM_XComposer['stance'].values, total_defense_memes_grounding_absent_prompt_with_caption_InternLM_XComposer['prediction'].values, labels=['Against', 'Neutral', 'Supportive'], average='macro'))\n",
        "print(classification_report(total_defense_memes_grounding_absent_prompt_with_caption_InternLM_XComposer['stance'].values, total_defense_memes_grounding_absent_prompt_with_caption_InternLM_XComposer['prediction'].values, labels=['Against', 'Neutral', 'Supportive']))"
      ],
      "metadata": {
        "id": "gTa92gM954pn",
        "colab": {
          "base_uri": "https://localhost:8080/"
        },
        "outputId": "95d6901b-98ad-4162-bbe9-6e5e936253f4"
      },
      "execution_count": null,
      "outputs": [
        {
          "output_type": "stream",
          "name": "stderr",
          "text": [
            "Token indices sequence length is longer than the specified maximum sequence length for this model (578 > 512). Running this sequence through the model will result in indexing errors\n"
          ]
        },
        {
          "output_type": "stream",
          "name": "stdout",
          "text": [
            "Neutral       637\n",
            "Supportive    111\n",
            "Against        23\n",
            "Name: prediction, dtype: int64\n",
            "0\n",
            "0.32282928354754986\n",
            "              precision    recall  f1-score   support\n",
            "\n",
            "     Against       0.83      0.05      0.10       352\n",
            "     Neutral       0.45      0.87      0.59       332\n",
            "  Supportive       0.24      0.31      0.27        87\n",
            "\n",
            "    accuracy                           0.43       771\n",
            "   macro avg       0.51      0.41      0.32       771\n",
            "weighted avg       0.60      0.43      0.33       771\n",
            "\n"
          ]
        }
      ]
    },
    {
      "cell_type": "markdown",
      "source": [
        "GROUNDING [ABSENT] & PROMPT [CAPTION] & CAPTION [llava]"
      ],
      "metadata": {
        "id": "eBCUJcrvE6JE"
      }
    },
    {
      "cell_type": "code",
      "source": [
        "total_defense_memes_grounding_absent_prompt_with_caption_llava = total_defense_memes_captioned_llava.copy(deep=True)\n",
        "total_defense_memes_grounding_absent_prompt_with_caption_llava_images = total_defense_memes_grounding_absent_prompt_with_caption_llava['image'].values\n",
        "total_defense_memes_grounding_absent_prompt_with_caption_llava_pillars = total_defense_memes_grounding_absent_prompt_with_caption_llava['pillar'].values\n",
        "total_defense_memes_grounding_absent_prompt_with_caption_llava_definitions = total_defense_memes_grounding_absent_prompt_with_caption_llava['pillar_w_definition'].values\n",
        "total_defense_memes_grounding_absent_prompt_with_caption_llava_captions = total_defense_memes_grounding_absent_prompt_with_caption_llava['caption'].values\n",
        "total_defense_memes_grounding_absent_prompt_with_caption_llava['prediction'] = [get_prediction(image, prompt_with_caption(pillar, pillar_w_definition, caption)) for image, pillar, pillar_w_definition, caption in zip(total_defense_memes_grounding_absent_prompt_with_caption_llava_images, total_defense_memes_grounding_absent_prompt_with_caption_llava_pillars, total_defense_memes_grounding_absent_prompt_with_caption_llava_definitions, total_defense_memes_grounding_absent_prompt_with_caption_llava_captions)]\n",
        "total_defense_memes_grounding_absent_prompt_with_caption_llava.to_csv('/content/drive/MyDrive/stance_detection_datasets/inferences/predictions/total_defense_memes_grounding[ABSENT]_caption[llava-v1.5-13b]_prompt[CAPTION]_prediction[BLIP-2].csv', index=False)\n",
        "total_defense_memes_grounding_absent_prompt_with_caption_llava['prediction'] = total_defense_memes_grounding_absent_prompt_with_caption_llava['prediction'].apply(lambda x: remap(x))\n",
        "print(total_defense_memes_grounding_absent_prompt_with_caption_llava['prediction'].value_counts())\n",
        "print(total_defense_memes_grounding_absent_prompt_with_caption_llava['prediction'].isna().sum())\n",
        "total_defense_memes_grounding_absent_prompt_with_caption_llava['prediction'] = total_defense_memes_grounding_absent_prompt_with_caption_llava['prediction'].apply(lambda x: x if x is not None else np.random.choice(['Against', 'Neutral', 'Supportive']))\n",
        "print(f1_score(total_defense_memes_grounding_absent_prompt_with_caption_llava['stance'].values, total_defense_memes_grounding_absent_prompt_with_caption_llava['prediction'].values, labels=['Against', 'Neutral', 'Supportive'], average='macro'))\n",
        "print(classification_report(total_defense_memes_grounding_absent_prompt_with_caption_llava['stance'].values, total_defense_memes_grounding_absent_prompt_with_caption_llava['prediction'].values, labels=['Against', 'Neutral', 'Supportive']))"
      ],
      "metadata": {
        "id": "cJP85IcU5n1t",
        "colab": {
          "base_uri": "https://localhost:8080/"
        },
        "outputId": "4e513114-1af4-48c8-8dc6-f3cf5c4ad300"
      },
      "execution_count": null,
      "outputs": [
        {
          "output_type": "stream",
          "name": "stdout",
          "text": [
            "Neutral       639\n",
            "Supportive    119\n",
            "Against        13\n",
            "Name: prediction, dtype: int64\n",
            "0\n",
            "0.32069891188118144\n",
            "              precision    recall  f1-score   support\n",
            "\n",
            "     Against       0.85      0.03      0.06       352\n",
            "     Neutral       0.45      0.86      0.59       332\n",
            "  Supportive       0.27      0.37      0.31        87\n",
            "\n",
            "    accuracy                           0.43       771\n",
            "   macro avg       0.52      0.42      0.32       771\n",
            "weighted avg       0.61      0.43      0.32       771\n",
            "\n"
          ]
        }
      ]
    },
    {
      "cell_type": "markdown",
      "source": [
        "GROUNDING [ABSENT] & PROMPT [CAPTION] & CAPTION [BLIP-2]"
      ],
      "metadata": {
        "id": "tnTDhLA_wrU6"
      }
    },
    {
      "cell_type": "code",
      "source": [
        "total_defense_memes_grounding_absent_prompt_with_caption_BLIP_2 = total_defense_memes_captioned_BLIP_2.copy(deep=True)\n",
        "total_defense_memes_grounding_absent_prompt_with_caption_BLIP_2_images = total_defense_memes_grounding_absent_prompt_with_caption_BLIP_2['image'].values\n",
        "total_defense_memes_grounding_absent_prompt_with_caption_BLIP_2_pillars = total_defense_memes_grounding_absent_prompt_with_caption_BLIP_2['pillar'].values\n",
        "total_defense_memes_grounding_absent_prompt_with_caption_BLIP_2_definitions = total_defense_memes_grounding_absent_prompt_with_caption_BLIP_2['pillar_w_definition'].values\n",
        "total_defense_memes_grounding_absent_prompt_with_caption_BLIP_2_captions = total_defense_memes_grounding_absent_prompt_with_caption_BLIP_2['caption'].values\n",
        "total_defense_memes_grounding_absent_prompt_with_caption_BLIP_2['prediction'] = [get_prediction(image, prompt_with_caption(pillar, pillar_w_definition, caption)) for image, pillar, pillar_w_definition, caption in zip(total_defense_memes_grounding_absent_prompt_with_caption_BLIP_2_images, total_defense_memes_grounding_absent_prompt_with_caption_BLIP_2_pillars, total_defense_memes_grounding_absent_prompt_with_caption_BLIP_2_definitions, total_defense_memes_grounding_absent_prompt_with_caption_BLIP_2_captions)]\n",
        "total_defense_memes_grounding_absent_prompt_with_caption_BLIP_2.to_csv('/content/drive/MyDrive/stance_detection_datasets/inferences/predictions/total_defense_memes_grounding[ABSENT]_caption[BLIP_2]_prompt[CAPTION]_prediction[BLIP-2].csv', index=False)\n",
        "total_defense_memes_grounding_absent_prompt_with_caption_BLIP_2['prediction'] = total_defense_memes_grounding_absent_prompt_with_caption_BLIP_2['prediction'].apply(lambda x: remap(x))\n",
        "print(total_defense_memes_grounding_absent_prompt_with_caption_BLIP_2['prediction'].value_counts())\n",
        "print(total_defense_memes_grounding_absent_prompt_with_caption_BLIP_2['prediction'].isna().sum())\n",
        "total_defense_memes_grounding_absent_prompt_with_caption_BLIP_2['prediction'] = total_defense_memes_grounding_absent_prompt_with_caption_BLIP_2['prediction'].apply(lambda x: x if x is not None else np.random.choice(['Against', 'Neutral', 'Supportive']))\n",
        "print(f1_score(total_defense_memes_grounding_absent_prompt_with_caption_BLIP_2['stance'].values, total_defense_memes_grounding_absent_prompt_with_caption_BLIP_2['prediction'].values, labels=['Against', 'Neutral', 'Supportive'], average='macro'))\n",
        "print(classification_report(total_defense_memes_grounding_absent_prompt_with_caption_BLIP_2['stance'].values, total_defense_memes_grounding_absent_prompt_with_caption_BLIP_2['prediction'].values, labels=['Against', 'Neutral', 'Supportive']))"
      ],
      "metadata": {
        "id": "t2FNe-Fr6YUa",
        "colab": {
          "base_uri": "https://localhost:8080/"
        },
        "outputId": "7cb40f34-f149-49d1-c7a0-6e4594391f62"
      },
      "execution_count": null,
      "outputs": [
        {
          "output_type": "stream",
          "name": "stdout",
          "text": [
            "Neutral       643\n",
            "Supportive    119\n",
            "Against         9\n",
            "Name: prediction, dtype: int64\n",
            "0\n",
            "0.29640645906789037\n",
            "              precision    recall  f1-score   support\n",
            "\n",
            "     Against       0.56      0.01      0.03       352\n",
            "     Neutral       0.43      0.84      0.57       332\n",
            "  Supportive       0.25      0.34      0.29        87\n",
            "\n",
            "    accuracy                           0.41       771\n",
            "   macro avg       0.41      0.40      0.30       771\n",
            "weighted avg       0.47      0.41      0.29       771\n",
            "\n"
          ]
        }
      ]
    }
  ],
  "metadata": {
    "colab": {
      "machine_shape": "hm",
      "provenance": [],
      "gpuType": "A100"
    },
    "kernelspec": {
      "display_name": "Python 3",
      "name": "python3"
    },
    "language_info": {
      "name": "python"
    },
    "accelerator": "GPU"
  },
  "nbformat": 4,
  "nbformat_minor": 0
}