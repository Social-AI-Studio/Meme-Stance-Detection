{
  "cells": [
    {
      "cell_type": "markdown",
      "source": [
        "# Import libraries"
      ],
      "metadata": {
        "id": "hw_8I5QeMmqK"
      }
    },
    {
      "cell_type": "code",
      "execution_count": null,
      "metadata": {
        "id": "ZqBeYLjotxgQ"
      },
      "outputs": [],
      "source": [
        "!pip install bitsandbytes>=0.39.0 accelerate>=0.20.0\n",
        "!pip install transformers"
      ]
    },
    {
      "cell_type": "code",
      "source": [
        "import inspect\n",
        "import os\n",
        "import numpy as np\n",
        "import pandas as pd\n",
        "from sklearn.metrics import classification_report\n",
        "from sklearn.metrics import f1_score\n",
        "from PIL import Image\n",
        "from transformers import Blip2Processor, Blip2ForConditionalGeneration"
      ],
      "metadata": {
        "id": "PRBlYYjoZHTZ"
      },
      "execution_count": null,
      "outputs": []
    },
    {
      "cell_type": "markdown",
      "source": [
        "# Instantiate model"
      ],
      "metadata": {
        "id": "N0m8GEpXOtW9"
      }
    },
    {
      "cell_type": "code",
      "source": [
        "# Use BLIP-2 for the inference. via\n",
        "# https://huggingface.co/Salesforce/blip2-flan-t5-xxl\n",
        "processor = Blip2Processor.from_pretrained(\"Salesforce/blip2-flan-t5-xxl\")\n",
        "model = Blip2ForConditionalGeneration.from_pretrained(\"Salesforce/blip2-flan-t5-xxl\", device_map=\"auto\", load_in_8bit=True)"
      ],
      "metadata": {
        "id": "oxkroyd1OuY0"
      },
      "execution_count": null,
      "outputs": []
    },
    {
      "cell_type": "markdown",
      "source": [
        "# Mount drive"
      ],
      "metadata": {
        "id": "gzouBmV4M5iL"
      }
    },
    {
      "cell_type": "code",
      "source": [
        "from google.colab import drive\n",
        "drive.mount('/content/drive')"
      ],
      "metadata": {
        "id": "von6na4lM6-b"
      },
      "execution_count": null,
      "outputs": []
    },
    {
      "cell_type": "markdown",
      "source": [
        "# Create directory to store inferences"
      ],
      "metadata": {
        "id": "xjK-ml8pM-az"
      }
    },
    {
      "cell_type": "code",
      "source": [
        "os.makedirs('/content/drive/MyDrive/stance_detection_datasets/inferences/predictions', exist_ok=True)"
      ],
      "metadata": {
        "id": "Rdpr1wTEM-9L"
      },
      "execution_count": null,
      "outputs": []
    },
    {
      "cell_type": "markdown",
      "source": [
        "# Import datasets"
      ],
      "metadata": {
        "id": "TVLgbMRsNror"
      }
    },
    {
      "cell_type": "code",
      "source": [
        "total_defense_memes = pd.read_csv('/content/drive/MyDrive/stance_detection_datasets/total_defense_memes/total_defense_memes.csv')\n",
        "total_defense_memes = total_defense_memes[total_defense_memes['pillar'].str.contains('Others') == False]\n",
        "total_defense_memes = total_defense_memes.reset_index(drop=True)"
      ],
      "metadata": {
        "id": "jj3bqGQL_650"
      },
      "execution_count": null,
      "outputs": []
    },
    {
      "cell_type": "code",
      "execution_count": null,
      "metadata": {
        "id": "8VesFLoXN2_I"
      },
      "outputs": [],
      "source": [
        "total_defense_memes_captioned_Qwen_VL_Chat = pd.read_csv('/content/drive/MyDrive/stance_detection_datasets/inferences/total_defense_memes_captioned_Qwen-VL-Chat.csv')\n",
        "total_defense_memes_captioned_InternLM_XComposer = pd.read_csv('/content/drive/MyDrive/stance_detection_datasets/inferences/total_defense_memes_captioned_InternLM-XComposer.csv')\n",
        "total_defense_memes_captioned_llava = pd.read_csv('/content/drive/MyDrive/stance_detection_datasets/inferences/total_defense_memes_captioned_llava-v1.5-13b.csv')\n",
        "total_defense_memes_captioned_BLIP_2 = pd.read_csv('/content/drive/MyDrive/stance_detection_datasets/inferences/total_defense_memes_captioned_BLIP-2.csv')"
      ]
    },
    {
      "cell_type": "code",
      "source": [
        "total_defense_memes_captioned_Qwen_VL_Chat = pd.merge(total_defense_memes, total_defense_memes_captioned_Qwen_VL_Chat, how='left', on=['image'])\n",
        "total_defense_memes_captioned_InternLM_XComposer = pd.merge(total_defense_memes, total_defense_memes_captioned_InternLM_XComposer, how='left', on=['image'])\n",
        "total_defense_memes_captioned_llava = pd.merge(total_defense_memes, total_defense_memes_captioned_llava, how='left', on=['image'])\n",
        "total_defense_memes_captioned_BLIP_2 = pd.merge(total_defense_memes, total_defense_memes_captioned_BLIP_2, how='left', on=['image'])"
      ],
      "metadata": {
        "id": "58P7iWslAfZM"
      },
      "execution_count": null,
      "outputs": []
    },
    {
      "cell_type": "markdown",
      "source": [
        "# Set prompts and define a function to call the model"
      ],
      "metadata": {
        "id": "m6ZqSNNeOFm1"
      }
    },
    {
      "cell_type": "code",
      "source": [
        "def prompt_with_caption_positiveneutralnegative(pillar, pillar_w_definition, caption):\n",
        "    return inspect.cleandoc(f\"\"\"\n",
        "    Description of this meme: \\\"\\\"\\\"\n",
        "    {caption}\n",
        "    \\\"\\\"\\\"\n",
        "    {pillar_w_definition}\n",
        "    Indicate whether this meme is negative, neutral or positive towards Singapore's {pillar}.\n",
        "    Constraint: Without using any other words, answer either negative, neutral, positive.\"\"\")"
      ],
      "metadata": {
        "id": "PfVOUxDKJsSX"
      },
      "execution_count": null,
      "outputs": []
    },
    {
      "cell_type": "code",
      "execution_count": null,
      "metadata": {
        "id": "6BHp6PaOOCfw"
      },
      "outputs": [],
      "source": [
        "# Use BLIP-2 for the inference. via\n",
        "# https://huggingface.co/Salesforce/blip2-flan-t5-xxl\n",
        "def get_prediction(image, prompt):\n",
        "    raw_image = Image.open(image).convert('RGB')\n",
        "    inputs = processor(raw_image, prompt, return_tensors=\"pt\").to(\"cuda\")\n",
        "    out = model.generate(**inputs, max_new_tokens=30)\n",
        "    return processor.decode(out[0], skip_special_tokens=True)"
      ]
    },
    {
      "cell_type": "markdown",
      "source": [
        "# Define function to add definitions"
      ],
      "metadata": {
        "id": "UmCh4MUyBybL"
      }
    },
    {
      "cell_type": "code",
      "source": [
        "def definition(x):\n",
        "    if x == 'Military Defence':\n",
        "        return \"\"\"Singapore's Military Defence: Strong and formidable defence force made up of Regulars and National Servicemen, and supported by the entire Singapore.\"\"\"\n",
        "    elif x == 'Civil Defence':\n",
        "        return \"\"\"Singapore's Civil Defence: Collective effort of the Singaporean society to spot signs of threats, respond effectively and recover quickly from crisis.\"\"\"\n",
        "    elif x == 'Economic Defence':\n",
        "        return \"\"\"Singapore's Economic Defence: Strong and resilient Singaporean economy that is globally competitive and able to bounce back from any crisis.\"\"\"\n",
        "    elif x == 'Social Defence':\n",
        "        return \"\"\"Singapore's Social Defence: Bonds that unite Singaporeans, built on trust and understanding among people of different races and religions, living in harmony and looking out for one another.\"\"\"\n",
        "    elif x == 'Psychological Defence':\n",
        "        return \"\"\"Singapore's Psychological Defence: The will and resolve to defend the Singaporean way of life and interests, the fighting spirit to overcome challenges together.\"\"\"\n",
        "    elif x == 'Digital Defence':\n",
        "        return \"\"\"Singapore's Digital Defence: Being secure, alert and responsible online.\"\"\""
      ],
      "metadata": {
        "id": "hosxUGANB4Mz"
      },
      "execution_count": null,
      "outputs": []
    },
    {
      "cell_type": "code",
      "source": [
        "total_defense_memes_captioned_Qwen_VL_Chat['pillar_w_definition'] = total_defense_memes_captioned_Qwen_VL_Chat['pillar'].apply(lambda x: definition(x))\n",
        "total_defense_memes_captioned_InternLM_XComposer['pillar_w_definition'] = total_defense_memes_captioned_InternLM_XComposer['pillar'].apply(lambda x: definition(x))\n",
        "total_defense_memes_captioned_llava['pillar_w_definition'] = total_defense_memes_captioned_llava['pillar'].apply(lambda x: definition(x))\n",
        "total_defense_memes_captioned_BLIP_2['pillar_w_definition'] = total_defense_memes_captioned_BLIP_2['pillar'].apply(lambda x: definition(x))"
      ],
      "metadata": {
        "id": "AmnVJWguBsGc"
      },
      "execution_count": null,
      "outputs": []
    },
    {
      "cell_type": "markdown",
      "source": [
        "# Define function to clean responses"
      ],
      "metadata": {
        "id": "I3g57TQeKsmw"
      }
    },
    {
      "cell_type": "code",
      "source": [
        "def remap(x):\n",
        "    x = x.lower()\n",
        "    if 'negative' in x and 'neutral' not in x and 'positive' not in x and 'not negative' not in x:\n",
        "        return 'Against'\n",
        "    elif 'neutral' in x and 'positive' not in x and 'negative' not in x and 'not neutral' not in x:\n",
        "        return 'Neutral'\n",
        "    elif 'positive' in x and 'neutral' not in x and 'negative' not in x and 'not positive' not in x:\n",
        "        return 'Supportive'\n",
        "    else:\n",
        "        return None"
      ],
      "metadata": {
        "id": "Q32y0YwRKwL_"
      },
      "execution_count": null,
      "outputs": []
    },
    {
      "cell_type": "markdown",
      "source": [
        "# Call the `get_prediction` function and save inferences"
      ],
      "metadata": {
        "id": "gL5WFrudQxL1"
      }
    },
    {
      "cell_type": "markdown",
      "source": [
        "GROUNDING [ABSENT] & PROMPT [CAPTION_POSITIVENEUTRALNEGATIVE] & CAPTION [Qwen_VL_Chat]"
      ],
      "metadata": {
        "id": "3tgRDaJE5OVz"
      }
    },
    {
      "cell_type": "code",
      "source": [
        "total_defense_memes_grounding_absent_prompt_with_caption_Qwen_VL_Chat = total_defense_memes_captioned_Qwen_VL_Chat.copy(deep=True)\n",
        "total_defense_memes_grounding_absent_prompt_with_caption_Qwen_VL_Chat_images = total_defense_memes_grounding_absent_prompt_with_caption_Qwen_VL_Chat['image'].values\n",
        "total_defense_memes_grounding_absent_prompt_with_caption_Qwen_VL_Chat_pillars = total_defense_memes_grounding_absent_prompt_with_caption_Qwen_VL_Chat['pillar'].values\n",
        "total_defense_memes_grounding_absent_prompt_with_caption_Qwen_VL_Chat_definitions = total_defense_memes_grounding_absent_prompt_with_caption_Qwen_VL_Chat['pillar_w_definition'].values\n",
        "total_defense_memes_grounding_absent_prompt_with_caption_Qwen_VL_Chat_captions = total_defense_memes_grounding_absent_prompt_with_caption_Qwen_VL_Chat['caption'].values\n",
        "total_defense_memes_grounding_absent_prompt_with_caption_Qwen_VL_Chat['prediction'] = [get_prediction(image, prompt_with_caption_positiveneutralnegative(pillar, pillar_w_definition, caption)) for image, pillar, pillar_w_definition, caption in zip(total_defense_memes_grounding_absent_prompt_with_caption_Qwen_VL_Chat_images, total_defense_memes_grounding_absent_prompt_with_caption_Qwen_VL_Chat_pillars, total_defense_memes_grounding_absent_prompt_with_caption_Qwen_VL_Chat_definitions, total_defense_memes_grounding_absent_prompt_with_caption_Qwen_VL_Chat_captions)]\n",
        "total_defense_memes_grounding_absent_prompt_with_caption_Qwen_VL_Chat.to_csv('/content/drive/MyDrive/stance_detection_datasets/inferences/predictions/total_defense_memes_grounding[ABSENT]_caption[Qwen-VL-Chat]_prompt[CAPTION_POSITIVENEUTRALNEGATIVE]_prediction[BLIP-2].csv', index=False)\n",
        "total_defense_memes_grounding_absent_prompt_with_caption_Qwen_VL_Chat['prediction'] = total_defense_memes_grounding_absent_prompt_with_caption_Qwen_VL_Chat['prediction'].apply(lambda x: remap(x))\n",
        "print(total_defense_memes_grounding_absent_prompt_with_caption_Qwen_VL_Chat['prediction'].value_counts())\n",
        "print(total_defense_memes_grounding_absent_prompt_with_caption_Qwen_VL_Chat['prediction'].isna().sum())\n",
        "total_defense_memes_grounding_absent_prompt_with_caption_Qwen_VL_Chat['prediction'] = total_defense_memes_grounding_absent_prompt_with_caption_Qwen_VL_Chat['prediction'].apply(lambda x: x if x is not None else np.random.choice(['Against', 'Neutral', 'Supportive']))\n",
        "print(f1_score(total_defense_memes_grounding_absent_prompt_with_caption_Qwen_VL_Chat['stance'].values, total_defense_memes_grounding_absent_prompt_with_caption_Qwen_VL_Chat['prediction'].values, labels=['Against', 'Neutral', 'Supportive'], average='macro'))\n",
        "print(classification_report(total_defense_memes_grounding_absent_prompt_with_caption_Qwen_VL_Chat['stance'].values, total_defense_memes_grounding_absent_prompt_with_caption_Qwen_VL_Chat['prediction'].values, labels=['Against', 'Neutral', 'Supportive']))"
      ],
      "metadata": {
        "id": "TQJ1tGEotFFX",
        "colab": {
          "base_uri": "https://localhost:8080/"
        },
        "outputId": "b7d5cd7b-e1c4-43b1-ffb2-d775c95e5fc3"
      },
      "execution_count": null,
      "outputs": [
        {
          "output_type": "stream",
          "name": "stdout",
          "text": [
            "Neutral       515\n",
            "Against       148\n",
            "Supportive    108\n",
            "Name: prediction, dtype: int64\n",
            "0\n",
            "0.46337888374252006\n",
            "              precision    recall  f1-score   support\n",
            "\n",
            "     Against       0.76      0.32      0.45       352\n",
            "     Neutral       0.50      0.78      0.61       332\n",
            "  Supportive       0.30      0.37      0.33        87\n",
            "\n",
            "    accuracy                           0.52       771\n",
            "   macro avg       0.52      0.49      0.46       771\n",
            "weighted avg       0.60      0.52      0.51       771\n",
            "\n"
          ]
        }
      ]
    },
    {
      "cell_type": "markdown",
      "source": [
        "GROUNDING [ABSENT] & PROMPT [CAPTION_POSITIVENEUTRALNEGATIVE] & CAPTION [InternLM_XComposer]"
      ],
      "metadata": {
        "id": "8eWnRoPz5Tq6"
      }
    },
    {
      "cell_type": "code",
      "source": [
        "total_defense_memes_grounding_absent_prompt_with_caption_InternLM_XComposer = total_defense_memes_captioned_InternLM_XComposer.copy(deep=True)\n",
        "total_defense_memes_grounding_absent_prompt_with_caption_InternLM_XComposer_images = total_defense_memes_grounding_absent_prompt_with_caption_InternLM_XComposer['image'].values\n",
        "total_defense_memes_grounding_absent_prompt_with_caption_InternLM_XComposer_pillars = total_defense_memes_grounding_absent_prompt_with_caption_InternLM_XComposer['pillar'].values\n",
        "total_defense_memes_grounding_absent_prompt_with_caption_InternLM_XComposer_definitions = total_defense_memes_grounding_absent_prompt_with_caption_InternLM_XComposer['pillar_w_definition'].values\n",
        "total_defense_memes_grounding_absent_prompt_with_caption_InternLM_XComposer_captions = total_defense_memes_grounding_absent_prompt_with_caption_InternLM_XComposer['caption'].values\n",
        "total_defense_memes_grounding_absent_prompt_with_caption_InternLM_XComposer['prediction'] = [get_prediction(image, prompt_with_caption_positiveneutralnegative(pillar, pillar_w_definition, caption)) for image, pillar, pillar_w_definition, caption in zip(total_defense_memes_grounding_absent_prompt_with_caption_InternLM_XComposer_images, total_defense_memes_grounding_absent_prompt_with_caption_InternLM_XComposer_pillars, total_defense_memes_grounding_absent_prompt_with_caption_InternLM_XComposer_definitions, total_defense_memes_grounding_absent_prompt_with_caption_InternLM_XComposer_captions)]\n",
        "total_defense_memes_grounding_absent_prompt_with_caption_InternLM_XComposer.to_csv('/content/drive/MyDrive/stance_detection_datasets/inferences/predictions/total_defense_memes_grounding[ABSENT]_caption[InternLM-XComposer]_prompt[CAPTION_POSITIVENEUTRALNEGATIVE]_prediction[BLIP-2].csv', index=False)\n",
        "total_defense_memes_grounding_absent_prompt_with_caption_InternLM_XComposer['prediction'] = total_defense_memes_grounding_absent_prompt_with_caption_InternLM_XComposer['prediction'].apply(lambda x: remap(x))\n",
        "print(total_defense_memes_grounding_absent_prompt_with_caption_InternLM_XComposer['prediction'].value_counts())\n",
        "print(total_defense_memes_grounding_absent_prompt_with_caption_InternLM_XComposer['prediction'].isna().sum())\n",
        "total_defense_memes_grounding_absent_prompt_with_caption_InternLM_XComposer['prediction'] = total_defense_memes_grounding_absent_prompt_with_caption_InternLM_XComposer['prediction'].apply(lambda x: x if x is not None else np.random.choice(['Against', 'Neutral', 'Supportive']))\n",
        "print(f1_score(total_defense_memes_grounding_absent_prompt_with_caption_InternLM_XComposer['stance'].values, total_defense_memes_grounding_absent_prompt_with_caption_InternLM_XComposer['prediction'].values, labels=['Against', 'Neutral', 'Supportive'], average='macro'))\n",
        "print(classification_report(total_defense_memes_grounding_absent_prompt_with_caption_InternLM_XComposer['stance'].values, total_defense_memes_grounding_absent_prompt_with_caption_InternLM_XComposer['prediction'].values, labels=['Against', 'Neutral', 'Supportive']))"
      ],
      "metadata": {
        "id": "gTa92gM954pn",
        "colab": {
          "base_uri": "https://localhost:8080/"
        },
        "outputId": "539d385f-f05e-4dc0-9c84-9d6a45782c56"
      },
      "execution_count": null,
      "outputs": [
        {
          "output_type": "stream",
          "name": "stderr",
          "text": [
            "Token indices sequence length is longer than the specified maximum sequence length for this model (578 > 512). Running this sequence through the model will result in indexing errors\n"
          ]
        },
        {
          "output_type": "stream",
          "name": "stdout",
          "text": [
            "Neutral       540\n",
            "Supportive    118\n",
            "Against       113\n",
            "Name: prediction, dtype: int64\n",
            "0\n",
            "0.3959220869213724\n",
            "              precision    recall  f1-score   support\n",
            "\n",
            "     Against       0.69      0.22      0.34       352\n",
            "     Neutral       0.48      0.79      0.60       332\n",
            "  Supportive       0.22      0.30      0.25        87\n",
            "\n",
            "    accuracy                           0.47       771\n",
            "   macro avg       0.46      0.44      0.40       771\n",
            "weighted avg       0.55      0.47      0.44       771\n",
            "\n"
          ]
        }
      ]
    },
    {
      "cell_type": "markdown",
      "source": [
        "GROUNDING [ABSENT] & PROMPT [CAPTION_POSITIVENEUTRALNEGATIVE] & CAPTION [llava]"
      ],
      "metadata": {
        "id": "eBCUJcrvE6JE"
      }
    },
    {
      "cell_type": "code",
      "source": [
        "total_defense_memes_grounding_absent_prompt_with_caption_llava = total_defense_memes_captioned_llava.copy(deep=True)\n",
        "total_defense_memes_grounding_absent_prompt_with_caption_llava_images = total_defense_memes_grounding_absent_prompt_with_caption_llava['image'].values\n",
        "total_defense_memes_grounding_absent_prompt_with_caption_llava_pillars = total_defense_memes_grounding_absent_prompt_with_caption_llava['pillar'].values\n",
        "total_defense_memes_grounding_absent_prompt_with_caption_llava_definitions = total_defense_memes_grounding_absent_prompt_with_caption_llava['pillar_w_definition'].values\n",
        "total_defense_memes_grounding_absent_prompt_with_caption_llava_captions = total_defense_memes_grounding_absent_prompt_with_caption_llava['caption'].values\n",
        "total_defense_memes_grounding_absent_prompt_with_caption_llava['prediction'] = [get_prediction(image, prompt_with_caption_positiveneutralnegative(pillar, pillar_w_definition, caption)) for image, pillar, pillar_w_definition, caption in zip(total_defense_memes_grounding_absent_prompt_with_caption_llava_images, total_defense_memes_grounding_absent_prompt_with_caption_llava_pillars, total_defense_memes_grounding_absent_prompt_with_caption_llava_definitions, total_defense_memes_grounding_absent_prompt_with_caption_llava_captions)]\n",
        "total_defense_memes_grounding_absent_prompt_with_caption_llava.to_csv('/content/drive/MyDrive/stance_detection_datasets/inferences/predictions/total_defense_memes_grounding[ABSENT]_caption[llava-v1.5-13b]_prompt[CAPTION_POSITIVENEUTRALNEGATIVE]_prediction[BLIP-2].csv', index=False)\n",
        "total_defense_memes_grounding_absent_prompt_with_caption_llava['prediction'] = total_defense_memes_grounding_absent_prompt_with_caption_llava['prediction'].apply(lambda x: remap(x))\n",
        "print(total_defense_memes_grounding_absent_prompt_with_caption_llava['prediction'].value_counts())\n",
        "print(total_defense_memes_grounding_absent_prompt_with_caption_llava['prediction'].isna().sum())\n",
        "total_defense_memes_grounding_absent_prompt_with_caption_llava['prediction'] = total_defense_memes_grounding_absent_prompt_with_caption_llava['prediction'].apply(lambda x: x if x is not None else np.random.choice(['Against', 'Neutral', 'Supportive']))\n",
        "print(f1_score(total_defense_memes_grounding_absent_prompt_with_caption_llava['stance'].values, total_defense_memes_grounding_absent_prompt_with_caption_llava['prediction'].values, labels=['Against', 'Neutral', 'Supportive'], average='macro'))\n",
        "print(classification_report(total_defense_memes_grounding_absent_prompt_with_caption_llava['stance'].values, total_defense_memes_grounding_absent_prompt_with_caption_llava['prediction'].values, labels=['Against', 'Neutral', 'Supportive']))"
      ],
      "metadata": {
        "id": "cJP85IcU5n1t",
        "colab": {
          "base_uri": "https://localhost:8080/"
        },
        "outputId": "b690a8c0-e353-405d-870b-c5093b481b2f"
      },
      "execution_count": null,
      "outputs": [
        {
          "output_type": "stream",
          "name": "stdout",
          "text": [
            "Neutral       560\n",
            "Supportive    141\n",
            "Against        70\n",
            "Name: prediction, dtype: int64\n",
            "0\n",
            "0.370145560630087\n",
            "              precision    recall  f1-score   support\n",
            "\n",
            "     Against       0.84      0.17      0.28       352\n",
            "     Neutral       0.47      0.79      0.59       332\n",
            "  Supportive       0.20      0.32      0.25        87\n",
            "\n",
            "    accuracy                           0.45       771\n",
            "   macro avg       0.50      0.43      0.37       771\n",
            "weighted avg       0.61      0.45      0.41       771\n",
            "\n"
          ]
        }
      ]
    },
    {
      "cell_type": "markdown",
      "source": [
        "GROUNDING [ABSENT] & PROMPT [CAPTION_POSITIVENEUTRALNEGATIVE] & CAPTION [BLIP-2]"
      ],
      "metadata": {
        "id": "tnTDhLA_wrU6"
      }
    },
    {
      "cell_type": "code",
      "source": [
        "total_defense_memes_grounding_absent_prompt_with_caption_BLIP_2 = total_defense_memes_captioned_BLIP_2.copy(deep=True)\n",
        "total_defense_memes_grounding_absent_prompt_with_caption_BLIP_2_images = total_defense_memes_grounding_absent_prompt_with_caption_BLIP_2['image'].values\n",
        "total_defense_memes_grounding_absent_prompt_with_caption_BLIP_2_pillars = total_defense_memes_grounding_absent_prompt_with_caption_BLIP_2['pillar'].values\n",
        "total_defense_memes_grounding_absent_prompt_with_caption_BLIP_2_definitions = total_defense_memes_grounding_absent_prompt_with_caption_BLIP_2['pillar_w_definition'].values\n",
        "total_defense_memes_grounding_absent_prompt_with_caption_BLIP_2_captions = total_defense_memes_grounding_absent_prompt_with_caption_BLIP_2['caption'].values\n",
        "total_defense_memes_grounding_absent_prompt_with_caption_BLIP_2['prediction'] = [get_prediction(image, prompt_with_caption_positiveneutralnegative(pillar, pillar_w_definition, caption)) for image, pillar, pillar_w_definition, caption in zip(total_defense_memes_grounding_absent_prompt_with_caption_BLIP_2_images, total_defense_memes_grounding_absent_prompt_with_caption_BLIP_2_pillars, total_defense_memes_grounding_absent_prompt_with_caption_BLIP_2_definitions, total_defense_memes_grounding_absent_prompt_with_caption_BLIP_2_captions)]\n",
        "total_defense_memes_grounding_absent_prompt_with_caption_BLIP_2.to_csv('/content/drive/MyDrive/stance_detection_datasets/inferences/predictions/total_defense_memes_grounding[ABSENT]_caption[BLIP_2]_prompt[CAPTION_POSITIVENEUTRALNEGATIVE]_prediction[BLIP-2].csv', index=False)\n",
        "total_defense_memes_grounding_absent_prompt_with_caption_BLIP_2['prediction'] = total_defense_memes_grounding_absent_prompt_with_caption_BLIP_2['prediction'].apply(lambda x: remap(x))\n",
        "print(total_defense_memes_grounding_absent_prompt_with_caption_BLIP_2['prediction'].value_counts())\n",
        "print(total_defense_memes_grounding_absent_prompt_with_caption_BLIP_2['prediction'].isna().sum())\n",
        "total_defense_memes_grounding_absent_prompt_with_caption_BLIP_2['prediction'] = total_defense_memes_grounding_absent_prompt_with_caption_BLIP_2['prediction'].apply(lambda x: x if x is not None else np.random.choice(['Against', 'Neutral', 'Supportive']))\n",
        "print(f1_score(total_defense_memes_grounding_absent_prompt_with_caption_BLIP_2['stance'].values, total_defense_memes_grounding_absent_prompt_with_caption_BLIP_2['prediction'].values, labels=['Against', 'Neutral', 'Supportive'], average='macro'))\n",
        "print(classification_report(total_defense_memes_grounding_absent_prompt_with_caption_BLIP_2['stance'].values, total_defense_memes_grounding_absent_prompt_with_caption_BLIP_2['prediction'].values, labels=['Against', 'Neutral', 'Supportive']))"
      ],
      "metadata": {
        "id": "t2FNe-Fr6YUa",
        "colab": {
          "base_uri": "https://localhost:8080/"
        },
        "outputId": "927cb2ff-0396-471a-d5b0-1a1e28ba2893"
      },
      "execution_count": null,
      "outputs": [
        {
          "output_type": "stream",
          "name": "stdout",
          "text": [
            "Neutral       534\n",
            "Supportive    161\n",
            "Against        76\n",
            "Name: prediction, dtype: int64\n",
            "0\n",
            "0.3494968300793983\n",
            "              precision    recall  f1-score   support\n",
            "\n",
            "     Against       0.70      0.15      0.25       352\n",
            "     Neutral       0.45      0.73      0.56       332\n",
            "  Supportive       0.19      0.34      0.24        87\n",
            "\n",
            "    accuracy                           0.42       771\n",
            "   macro avg       0.45      0.41      0.35       771\n",
            "weighted avg       0.53      0.42      0.38       771\n",
            "\n"
          ]
        }
      ]
    }
  ],
  "metadata": {
    "colab": {
      "machine_shape": "hm",
      "provenance": [],
      "gpuType": "A100"
    },
    "kernelspec": {
      "display_name": "Python 3",
      "name": "python3"
    },
    "language_info": {
      "name": "python"
    },
    "accelerator": "GPU"
  },
  "nbformat": 4,
  "nbformat_minor": 0
}